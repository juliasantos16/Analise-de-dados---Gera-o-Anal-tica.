{
 "cells": [
  {
   "cell_type": "code",
   "execution_count": 1,
   "id": "e38018f3-8b9f-4967-95e9-4d2dd3e6cdcb",
   "metadata": {},
   "outputs": [],
   "source": [
    "# importar biblioteca"
   ]
  },
  {
   "cell_type": "code",
   "execution_count": 2,
   "id": "f50a3613-d22b-4560-b69b-3933e4ab7811",
   "metadata": {},
   "outputs": [],
   "source": [
    "import numpy as np"
   ]
  },
  {
   "cell_type": "code",
   "execution_count": 3,
   "id": "2d8b3a72-e2d0-4a93-8a25-4944d9d539d9",
   "metadata": {},
   "outputs": [],
   "source": [
    "# array a partir de uma lista"
   ]
  },
  {
   "cell_type": "code",
   "execution_count": 5,
   "id": "25d42feb-b008-46c9-a966-c5bfe9590e65",
   "metadata": {},
   "outputs": [],
   "source": [
    "qtde = [2,5,10,20,35]\n",
    "custo = [100, 110, 120, 130, 140]"
   ]
  },
  {
   "cell_type": "code",
   "execution_count": 7,
   "id": "f1f82812-2010-4582-a97a-7958fd620847",
   "metadata": {},
   "outputs": [],
   "source": [
    "arr1 = np.array(qtde)"
   ]
  },
  {
   "cell_type": "code",
   "execution_count": 8,
   "id": "12456b60-c2d1-47d6-afe1-fa76e7c5be58",
   "metadata": {},
   "outputs": [],
   "source": [
    "arr2 = np.array(custo)"
   ]
  },
  {
   "cell_type": "code",
   "execution_count": 9,
   "id": "4b208b87-c3fd-4973-afde-040735291c2d",
   "metadata": {},
   "outputs": [],
   "source": [
    "estoque = arr1*arr2"
   ]
  },
  {
   "cell_type": "code",
   "execution_count": 11,
   "id": "2aedb350-9675-4b4d-b700-622c5c2ccc8b",
   "metadata": {},
   "outputs": [
    {
     "data": {
      "text/plain": [
       "array([ 200,  550, 1200, 2600, 4900])"
      ]
     },
     "execution_count": 11,
     "metadata": {},
     "output_type": "execute_result"
    }
   ],
   "source": [
    "estoque"
   ]
  },
  {
   "cell_type": "code",
   "execution_count": 27,
   "id": "7bfc3edd-ef65-44d4-a27f-61c1722c5e8e",
   "metadata": {},
   "outputs": [],
   "source": [
    "valor = [100,200,300,400]\n",
    "valor_revenda = [190,288,422,563]"
   ]
  },
  {
   "cell_type": "code",
   "execution_count": 28,
   "id": "1cdc3e12-ca82-4b37-b6f4-18a1c67f3bfd",
   "metadata": {},
   "outputs": [],
   "source": [
    "arr6 = np.array(valor)"
   ]
  },
  {
   "cell_type": "code",
   "execution_count": 29,
   "id": "222dc239-e443-4d7d-87b6-0f7b8a0e9ebe",
   "metadata": {},
   "outputs": [],
   "source": [
    "arr7 = np.array(valor_revenda)"
   ]
  },
  {
   "cell_type": "code",
   "execution_count": 30,
   "id": "0049bdfe-98da-4d1b-84a7-fc1935ff3dd3",
   "metadata": {},
   "outputs": [],
   "source": [
    "lucro = arr7-arr6"
   ]
  },
  {
   "cell_type": "code",
   "execution_count": 32,
   "id": "895a862a-6c27-4ebd-97aa-9be54fb28487",
   "metadata": {},
   "outputs": [
    {
     "data": {
      "text/plain": [
       "array([ 90,  88, 122, 163])"
      ]
     },
     "execution_count": 32,
     "metadata": {},
     "output_type": "execute_result"
    }
   ],
   "source": [
    "lucro"
   ]
  },
  {
   "cell_type": "code",
   "execution_count": 33,
   "id": "485e1b34-a258-4e90-a703-e725a9cd80c7",
   "metadata": {},
   "outputs": [],
   "source": [
    "# arrays a partir do numpy"
   ]
  },
  {
   "cell_type": "code",
   "execution_count": 34,
   "id": "e400785c-bb11-48f1-b681-f40c605e1607",
   "metadata": {},
   "outputs": [],
   "source": [
    "#arange"
   ]
  },
  {
   "cell_type": "code",
   "execution_count": 36,
   "id": "e2106d2a-df5e-445e-8310-6a8a9e6fb627",
   "metadata": {},
   "outputs": [
    {
     "data": {
      "text/plain": [
       "array([10, 11, 12, 13, 14, 15, 16, 17, 18, 19, 20])"
      ]
     },
     "execution_count": 36,
     "metadata": {},
     "output_type": "execute_result"
    }
   ],
   "source": [
    "np.arange(10,21)"
   ]
  },
  {
   "cell_type": "code",
   "execution_count": 38,
   "id": "7c73e5da-d154-4afb-82f0-fdc611df0850",
   "metadata": {},
   "outputs": [
    {
     "data": {
      "text/plain": [
       "array([10, 12, 14, 16, 18, 20])"
      ]
     },
     "execution_count": 38,
     "metadata": {},
     "output_type": "execute_result"
    }
   ],
   "source": [
    "np.arange(10,21,2)"
   ]
  },
  {
   "cell_type": "code",
   "execution_count": 40,
   "id": "bdff064b-9469-455f-a0ef-be8b309038fe",
   "metadata": {},
   "outputs": [
    {
     "data": {
      "text/plain": [
       "array([ 0.,  2.,  4.,  6.,  8., 10., 12., 14., 16., 18., 20.])"
      ]
     },
     "execution_count": 40,
     "metadata": {},
     "output_type": "execute_result"
    }
   ],
   "source": [
    "np.arange(0,21,2,dtype=float)"
   ]
  },
  {
   "cell_type": "code",
   "execution_count": 41,
   "id": "4dc24b5f-dc7d-4eca-9d8f-1f939fd3c9e6",
   "metadata": {},
   "outputs": [],
   "source": [
    "#Linspace(): é usado para criar um array com numeros definidos de elementos"
   ]
  },
  {
   "cell_type": "code",
   "execution_count": 43,
   "id": "e9921385-27b1-4cb8-ac0b-83069f54ab70",
   "metadata": {},
   "outputs": [
    {
     "data": {
      "text/plain": [
       "array([0.        , 0.05263158, 0.10526316, 0.15789474, 0.21052632,\n",
       "       0.26315789, 0.31578947, 0.36842105, 0.42105263, 0.47368421,\n",
       "       0.52631579, 0.57894737, 0.63157895, 0.68421053, 0.73684211,\n",
       "       0.78947368, 0.84210526, 0.89473684, 0.94736842, 1.        ])"
      ]
     },
     "execution_count": 43,
     "metadata": {},
     "output_type": "execute_result"
    }
   ],
   "source": [
    "np.linspace(0,1,20)"
   ]
  },
  {
   "cell_type": "code",
   "execution_count": 44,
   "id": "aebe7696-0d5d-4f5c-b7da-7fbc0ec4f32f",
   "metadata": {},
   "outputs": [
    {
     "data": {
      "text/plain": [
       "array([ 1.,  2.,  3.,  4.,  5.,  6.,  7.,  8.,  9., 10.])"
      ]
     },
     "execution_count": 44,
     "metadata": {},
     "output_type": "execute_result"
    }
   ],
   "source": [
    "np.linspace(1,10,10)"
   ]
  },
  {
   "cell_type": "code",
   "execution_count": 46,
   "id": "40ff312b-a16f-464b-9986-dae4a485d518",
   "metadata": {},
   "outputs": [],
   "source": [
    "#Random - rand, randn, randint"
   ]
  },
  {
   "cell_type": "code",
   "execution_count": 48,
   "id": "12c9c562-9d04-4604-996f-a9d6e9ba4513",
   "metadata": {},
   "outputs": [
    {
     "data": {
      "text/plain": [
       "array([0.02667782, 0.69435792, 0.40943646, 0.31325106, 0.90980291,\n",
       "       0.99857184, 0.57249678, 0.89010356, 0.94031172, 0.96662048])"
      ]
     },
     "execution_count": 48,
     "metadata": {},
     "output_type": "execute_result"
    }
   ],
   "source": [
    "np.random.rand(10)"
   ]
  },
  {
   "cell_type": "code",
   "execution_count": 50,
   "id": "d2f4d5d9-5f38-425d-b582-4d771bc0cdea",
   "metadata": {},
   "outputs": [
    {
     "data": {
      "text/plain": [
       "array([-0.51758799, -0.87202044, -0.92933819,  0.56572508, -0.89716316,\n",
       "       -1.68948001,  0.54298385,  0.6394637 , -0.71117424,  0.40794346])"
      ]
     },
     "execution_count": 50,
     "metadata": {},
     "output_type": "execute_result"
    }
   ],
   "source": [
    "np.random.randn(10)"
   ]
  },
  {
   "cell_type": "code",
   "execution_count": 52,
   "id": "41ec2d77-643b-4160-b545-07dc6dbecc80",
   "metadata": {},
   "outputs": [
    {
     "data": {
      "text/plain": [
       "array([42, 94, 95, 50, 30, 58, 54, 18, 85, 52, 88, 92, 43, 22, 99, 23, 91,\n",
       "       15, 85, 74, 48, 69, 46, 15, 40, 14, 44, 28, 20, 79])"
      ]
     },
     "execution_count": 52,
     "metadata": {},
     "output_type": "execute_result"
    }
   ],
   "source": [
    "np.random.randint(10,100,30)"
   ]
  },
  {
   "cell_type": "code",
   "execution_count": 53,
   "id": "703590c0-bf3f-4ee7-8360-103cbb3630ef",
   "metadata": {},
   "outputs": [],
   "source": [
    "#Zeros e Uns se tenho dois[] é um array bidimensional"
   ]
  },
  {
   "cell_type": "code",
   "execution_count": 54,
   "id": "18285191-bffa-45a5-b8ef-af6e7a6fc162",
   "metadata": {},
   "outputs": [
    {
     "data": {
      "text/plain": [
       "array([[0., 0., 0., 0.],\n",
       "       [0., 0., 0., 0.],\n",
       "       [0., 0., 0., 0.],\n",
       "       [0., 0., 0., 0.],\n",
       "       [0., 0., 0., 0.]])"
      ]
     },
     "execution_count": 54,
     "metadata": {},
     "output_type": "execute_result"
    }
   ],
   "source": [
    "np.zeros((5,4))"
   ]
  },
  {
   "cell_type": "code",
   "execution_count": 57,
   "id": "906413eb-4313-4f7b-8c37-8cd772d74fa8",
   "metadata": {},
   "outputs": [
    {
     "data": {
      "text/plain": [
       "array([[1., 1., 1., 1., 1.],\n",
       "       [1., 1., 1., 1., 1.],\n",
       "       [1., 1., 1., 1., 1.],\n",
       "       [1., 1., 1., 1., 1.],\n",
       "       [1., 1., 1., 1., 1.]])"
      ]
     },
     "execution_count": 57,
     "metadata": {},
     "output_type": "execute_result"
    }
   ],
   "source": [
    "np.ones((5,5))"
   ]
  },
  {
   "cell_type": "code",
   "execution_count": 59,
   "id": "8df4a9be-a2f6-4e4c-aadd-edf48d127624",
   "metadata": {},
   "outputs": [
    {
     "data": {
      "text/plain": [
       "array([[1., 0., 0., 0., 0., 0., 0., 0., 0., 0.],\n",
       "       [0., 1., 0., 0., 0., 0., 0., 0., 0., 0.],\n",
       "       [0., 0., 1., 0., 0., 0., 0., 0., 0., 0.],\n",
       "       [0., 0., 0., 1., 0., 0., 0., 0., 0., 0.],\n",
       "       [0., 0., 0., 0., 1., 0., 0., 0., 0., 0.],\n",
       "       [0., 0., 0., 0., 0., 1., 0., 0., 0., 0.],\n",
       "       [0., 0., 0., 0., 0., 0., 1., 0., 0., 0.],\n",
       "       [0., 0., 0., 0., 0., 0., 0., 1., 0., 0.],\n",
       "       [0., 0., 0., 0., 0., 0., 0., 0., 1., 0.],\n",
       "       [0., 0., 0., 0., 0., 0., 0., 0., 0., 1.]])"
      ]
     },
     "execution_count": 59,
     "metadata": {},
     "output_type": "execute_result"
    }
   ],
   "source": [
    "np.eye(10)"
   ]
  }
 ],
 "metadata": {
  "kernelspec": {
   "display_name": "Python 3 (ipykernel)",
   "language": "python",
   "name": "python3"
  },
  "language_info": {
   "codemirror_mode": {
    "name": "ipython",
    "version": 3
   },
   "file_extension": ".py",
   "mimetype": "text/x-python",
   "name": "python",
   "nbconvert_exporter": "python",
   "pygments_lexer": "ipython3",
   "version": "3.12.4"
  }
 },
 "nbformat": 4,
 "nbformat_minor": 5
}
