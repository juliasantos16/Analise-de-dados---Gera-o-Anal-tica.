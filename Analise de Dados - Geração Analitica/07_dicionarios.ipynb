{
 "cells": [
  {
   "cell_type": "code",
   "execution_count": 2,
   "id": "9b5a582b-b9c3-4857-8299-1c5b0eae19d8",
   "metadata": {},
   "outputs": [],
   "source": [
    "# os dicionarios guardam pares de valores\n",
    "# oque está a esquerda dos : é chamado de chaves, oque está a direita dos : é chamado de valores, e o conjunto é chamado de itens"
   ]
  },
  {
   "cell_type": "code",
   "execution_count": 3,
   "id": "ef14604c-7ae5-411d-801b-8e66cc42cbe7",
   "metadata": {},
   "outputs": [],
   "source": [
    "cadastro = {'nome': 'João', 'idade' : 30, 'gênero' : 'masculino'}"
   ]
  },
  {
   "cell_type": "code",
   "execution_count": 5,
   "id": "b44c77e6-c238-47ba-b520-a90962df3f76",
   "metadata": {},
   "outputs": [
    {
     "data": {
      "text/plain": [
       "{'nome': 'João', 'idade': 30, 'gênero': 'masculino'}"
      ]
     },
     "execution_count": 5,
     "metadata": {},
     "output_type": "execute_result"
    }
   ],
   "source": [
    "cadastro"
   ]
  },
  {
   "cell_type": "code",
   "execution_count": 7,
   "id": "a24fd750-7132-415b-9acf-ccea6530731b",
   "metadata": {},
   "outputs": [
    {
     "data": {
      "text/plain": [
       "dict"
      ]
     },
     "execution_count": 7,
     "metadata": {},
     "output_type": "execute_result"
    }
   ],
   "source": [
    "type(cadastro)"
   ]
  },
  {
   "cell_type": "code",
   "execution_count": 10,
   "id": "a166bf04-06a0-45ba-b511-f0f5586d6883",
   "metadata": {},
   "outputs": [
    {
     "data": {
      "text/plain": [
       "'João'"
      ]
     },
     "execution_count": 10,
     "metadata": {},
     "output_type": "execute_result"
    }
   ],
   "source": [
    "cadastro['nome']"
   ]
  },
  {
   "cell_type": "code",
   "execution_count": 12,
   "id": "00736c61-96a8-4bad-b922-8d5d4632b359",
   "metadata": {},
   "outputs": [
    {
     "data": {
      "text/plain": [
       "30"
      ]
     },
     "execution_count": 12,
     "metadata": {},
     "output_type": "execute_result"
    }
   ],
   "source": [
    "cadastro['idade']"
   ]
  },
  {
   "cell_type": "code",
   "execution_count": 13,
   "id": "e01fd7a5-c733-4e0c-89f9-c52b45e772b9",
   "metadata": {},
   "outputs": [],
   "source": [
    "# metodos de dicionario"
   ]
  },
  {
   "cell_type": "code",
   "execution_count": 15,
   "id": "fd6fcd3a-2342-4535-bbf8-8931d5121a29",
   "metadata": {},
   "outputs": [
    {
     "data": {
      "text/plain": [
       "False"
      ]
     },
     "execution_count": 15,
     "metadata": {},
     "output_type": "execute_result"
    }
   ],
   "source": [
    "'João' in cadastro"
   ]
  },
  {
   "cell_type": "code",
   "execution_count": 17,
   "id": "a52da113-7538-4fea-b1d0-f02e96c9b2b0",
   "metadata": {},
   "outputs": [
    {
     "data": {
      "text/plain": [
       "True"
      ]
     },
     "execution_count": 17,
     "metadata": {},
     "output_type": "execute_result"
    }
   ],
   "source": [
    "'João' in cadastro.values()"
   ]
  },
  {
   "cell_type": "code",
   "execution_count": 19,
   "id": "83dc3aa0-6828-44b7-a2cc-78a549faedda",
   "metadata": {},
   "outputs": [
    {
     "data": {
      "text/plain": [
       "True"
      ]
     },
     "execution_count": 19,
     "metadata": {},
     "output_type": "execute_result"
    }
   ],
   "source": [
    "'nome' in cadastro"
   ]
  },
  {
   "cell_type": "code",
   "execution_count": 21,
   "id": "88abeec3-815e-470c-b907-7b6db6b05d7b",
   "metadata": {},
   "outputs": [
    {
     "data": {
      "text/plain": [
       "True"
      ]
     },
     "execution_count": 21,
     "metadata": {},
     "output_type": "execute_result"
    }
   ],
   "source": [
    "'nome' in cadastro.keys()"
   ]
  },
  {
   "cell_type": "code",
   "execution_count": 24,
   "id": "02fa23a7-55f8-4c01-9fad-5fb100fb9cc8",
   "metadata": {},
   "outputs": [
    {
     "data": {
      "text/plain": [
       "True"
      ]
     },
     "execution_count": 24,
     "metadata": {},
     "output_type": "execute_result"
    }
   ],
   "source": [
    "('nome', 'João')in cadastro.items()"
   ]
  },
  {
   "cell_type": "code",
   "execution_count": 25,
   "id": "e2e7424c-4c0b-4838-ba46-db5ff77934f8",
   "metadata": {},
   "outputs": [],
   "source": [
    "# alterando valores no dicionario, semelhandte as listas"
   ]
  },
  {
   "cell_type": "code",
   "execution_count": 27,
   "id": "75046506-836e-47e9-a108-9ac94a37e1dd",
   "metadata": {},
   "outputs": [],
   "source": [
    "cadastro['nome'] = 'Pedro'"
   ]
  },
  {
   "cell_type": "code",
   "execution_count": 29,
   "id": "9c559d39-415b-4bb7-be4b-9d980a268a12",
   "metadata": {},
   "outputs": [
    {
     "data": {
      "text/plain": [
       "{'nome': 'Pedro', 'idade': 30, 'gênero': 'masculino'}"
      ]
     },
     "execution_count": 29,
     "metadata": {},
     "output_type": "execute_result"
    }
   ],
   "source": [
    "cadastro"
   ]
  },
  {
   "cell_type": "code",
   "execution_count": 30,
   "id": "069d367e-5951-4ec9-8e80-718955f44c4c",
   "metadata": {},
   "outputs": [],
   "source": [
    "# adicionar valores"
   ]
  },
  {
   "cell_type": "code",
   "execution_count": 31,
   "id": "df6c6502-7529-4768-8042-8f8a0943abff",
   "metadata": {},
   "outputs": [],
   "source": [
    "cadastro['altura'] = 1.80"
   ]
  },
  {
   "cell_type": "code",
   "execution_count": 41,
   "id": "86533b6d-d3de-4450-bee2-8c15705b846a",
   "metadata": {},
   "outputs": [
    {
     "data": {
      "text/plain": [
       "{'nome': 'Pedro', 'idade': 30, 'altura': 1.8}"
      ]
     },
     "execution_count": 41,
     "metadata": {},
     "output_type": "execute_result"
    }
   ],
   "source": [
    "cadastro"
   ]
  },
  {
   "cell_type": "code",
   "execution_count": 43,
   "id": "04990266-8ddd-47b1-a66e-a48398e09603",
   "metadata": {},
   "outputs": [
    {
     "data": {
      "text/plain": [
       "{'nome': 'Pedro', 'idade': 30, 'altura': 1.8}"
      ]
     },
     "execution_count": 43,
     "metadata": {},
     "output_type": "execute_result"
    }
   ],
   "source": [
    "cadastro"
   ]
  },
  {
   "cell_type": "code",
   "execution_count": 44,
   "id": "3c9f92b8-9637-40c5-b6ca-27e8c1b5deb8",
   "metadata": {},
   "outputs": [],
   "source": [
    "# removendo valores"
   ]
  },
  {
   "cell_type": "code",
   "execution_count": 45,
   "id": "98c518ab-d63b-4594-a05a-5dd1a6c2df45",
   "metadata": {},
   "outputs": [],
   "source": [
    "del(cadastro['altura'])"
   ]
  },
  {
   "cell_type": "code",
   "execution_count": 47,
   "id": "44824229-1a21-4413-b4b9-59c87dd21ded",
   "metadata": {},
   "outputs": [
    {
     "data": {
      "text/plain": [
       "{'nome': 'Pedro', 'idade': 30}"
      ]
     },
     "execution_count": 47,
     "metadata": {},
     "output_type": "execute_result"
    }
   ],
   "source": [
    "cadastro"
   ]
  },
  {
   "cell_type": "code",
   "execution_count": 48,
   "id": "75306843-7dce-437b-9228-03cdf8ef6c01",
   "metadata": {},
   "outputs": [],
   "source": [
    "# copiando dicionarios"
   ]
  },
  {
   "cell_type": "code",
   "execution_count": 50,
   "id": "48b1107f-4c14-47e7-9b4d-a7d4ed0884e1",
   "metadata": {},
   "outputs": [
    {
     "data": {
      "text/plain": [
       "{'nome': 'Pedro', 'idade': 30}"
      ]
     },
     "execution_count": 50,
     "metadata": {},
     "output_type": "execute_result"
    }
   ],
   "source": [
    "cadastro"
   ]
  },
  {
   "cell_type": "code",
   "execution_count": 51,
   "id": "ac1ef118-1f72-4b46-892d-27c58a7c05f0",
   "metadata": {},
   "outputs": [],
   "source": [
    "cadastro_igual = cadastro"
   ]
  },
  {
   "cell_type": "code",
   "execution_count": 52,
   "id": "43cb16c4-ecf9-4ef0-9f72-417ec572fe0d",
   "metadata": {},
   "outputs": [],
   "source": [
    "copia = cadastro.copy()"
   ]
  },
  {
   "cell_type": "code",
   "execution_count": 54,
   "id": "0f070dee-c1f1-4027-8876-1824a89c6f06",
   "metadata": {},
   "outputs": [
    {
     "data": {
      "text/plain": [
       "{'nome': 'Pedro', 'idade': 30}"
      ]
     },
     "execution_count": 54,
     "metadata": {},
     "output_type": "execute_result"
    }
   ],
   "source": [
    "cadastro_igual"
   ]
  },
  {
   "cell_type": "code",
   "execution_count": 56,
   "id": "2b89e11e-f51d-4028-b111-e08db8a1c21e",
   "metadata": {},
   "outputs": [
    {
     "data": {
      "text/plain": [
       "{'nome': 'Pedro', 'idade': 30}"
      ]
     },
     "execution_count": 56,
     "metadata": {},
     "output_type": "execute_result"
    }
   ],
   "source": [
    "copia"
   ]
  },
  {
   "cell_type": "code",
   "execution_count": 57,
   "id": "1c5f5cca-0e96-469e-ab3c-e81e7d23695a",
   "metadata": {},
   "outputs": [],
   "source": [
    "# diferença: pelo método cadastro_igual = cadastro se eu fizer uma alteração no meu cadastro ele tb vai fazer uma alteração no cadastro_igual"
   ]
  },
  {
   "cell_type": "code",
   "execution_count": 58,
   "id": "aaef2163-155f-4542-b11b-17d793dbfa48",
   "metadata": {},
   "outputs": [],
   "source": [
    "cadastro['idade'] = 80"
   ]
  },
  {
   "cell_type": "code",
   "execution_count": 60,
   "id": "e4b06b5e-89de-4eec-bee5-c0af16c96325",
   "metadata": {},
   "outputs": [
    {
     "data": {
      "text/plain": [
       "{'nome': 'Pedro', 'idade': 80}"
      ]
     },
     "execution_count": 60,
     "metadata": {},
     "output_type": "execute_result"
    }
   ],
   "source": [
    "cadastro"
   ]
  },
  {
   "cell_type": "code",
   "execution_count": 62,
   "id": "e14e3353-af53-49ef-83af-17911a24e869",
   "metadata": {},
   "outputs": [
    {
     "data": {
      "text/plain": [
       "{'nome': 'Pedro', 'idade': 80}"
      ]
     },
     "execution_count": 62,
     "metadata": {},
     "output_type": "execute_result"
    }
   ],
   "source": [
    "cadastro_igual"
   ]
  },
  {
   "cell_type": "code",
   "execution_count": 64,
   "id": "63b1e6d6-82aa-49e8-b12d-1be399f0aeb8",
   "metadata": {},
   "outputs": [
    {
     "data": {
      "text/plain": [
       "{'nome': 'Pedro', 'idade': 30}"
      ]
     },
     "execution_count": 64,
     "metadata": {},
     "output_type": "execute_result"
    }
   ],
   "source": [
    "copia"
   ]
  },
  {
   "cell_type": "code",
   "execution_count": 65,
   "id": "1a3292c7-790e-43ad-a71c-4c8898e5d10e",
   "metadata": {},
   "outputs": [],
   "source": [
    "# quando tenho uma copia .copy() eu posso fazer varias alterações no meu dicionario original que ele não vai mudar  nada em minha cópia"
   ]
  },
  {
   "cell_type": "code",
   "execution_count": 66,
   "id": "a11c0831-bda2-4b8f-b995-1a3736fa5d4d",
   "metadata": {},
   "outputs": [],
   "source": [
    "# juntando dicionarios"
   ]
  },
  {
   "cell_type": "code",
   "execution_count": 67,
   "id": "719fb4c5-0cec-4a94-89ab-147215da3869",
   "metadata": {},
   "outputs": [],
   "source": [
    "meus_contatos = {'Tiago' : '2222-222', 'Carol' : '5555-555', 'Alan' : '8888-888'}"
   ]
  },
  {
   "cell_type": "code",
   "execution_count": 71,
   "id": "859615df-cb16-4ff5-8a72-aa7d9abd87e5",
   "metadata": {},
   "outputs": [],
   "source": [
    "seus_contatos = {'Rafael' : '6666-666', 'Ana' : '9999-999', 'Alice' : '7777-777'}"
   ]
  },
  {
   "cell_type": "code",
   "execution_count": 72,
   "id": "051b086a-bd53-4ea6-a516-93457d934e2a",
   "metadata": {},
   "outputs": [],
   "source": [
    "meus_contatos.update(seus_contatos)"
   ]
  },
  {
   "cell_type": "code",
   "execution_count": 73,
   "id": "20cc80d1-47e7-43b8-a892-e3fc663fd070",
   "metadata": {},
   "outputs": [
    {
     "data": {
      "text/plain": [
       "{'Tiago': '2222-222',\n",
       " 'Carol': '5555-544',\n",
       " 'Alan': '8888-888',\n",
       " 'Rafael': '6666-666',\n",
       " 'Ana': '9999-999',\n",
       " 'Alice': '7777-777'}"
      ]
     },
     "execution_count": 73,
     "metadata": {},
     "output_type": "execute_result"
    }
   ],
   "source": [
    "meus_contatos"
   ]
  }
 ],
 "metadata": {
  "kernelspec": {
   "display_name": "Python 3 (ipykernel)",
   "language": "python",
   "name": "python3"
  },
  "language_info": {
   "codemirror_mode": {
    "name": "ipython",
    "version": 3
   },
   "file_extension": ".py",
   "mimetype": "text/x-python",
   "name": "python",
   "nbconvert_exporter": "python",
   "pygments_lexer": "ipython3",
   "version": "3.12.4"
  }
 },
 "nbformat": 4,
 "nbformat_minor": 5
}
