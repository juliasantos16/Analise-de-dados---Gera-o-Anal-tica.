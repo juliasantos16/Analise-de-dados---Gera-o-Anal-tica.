{
 "cells": [
  {
   "cell_type": "code",
   "execution_count": 1,
   "id": "f6727103-17e3-4cb2-95af-e35e31c2064f",
   "metadata": {},
   "outputs": [],
   "source": [
    "lista = [405, 2023, 512, 8564, 7451]"
   ]
  },
  {
   "cell_type": "code",
   "execution_count": 3,
   "id": "afbc304d-695f-40d1-8c5d-0d63b6403b5d",
   "metadata": {},
   "outputs": [
    {
     "data": {
      "text/plain": [
       "8564"
      ]
     },
     "execution_count": 3,
     "metadata": {},
     "output_type": "execute_result"
    }
   ],
   "source": [
    "max(lista)"
   ]
  },
  {
   "cell_type": "code",
   "execution_count": 5,
   "id": "ec70f0b6-17c1-408e-a937-878090a0f3c3",
   "metadata": {},
   "outputs": [
    {
     "data": {
      "text/plain": [
       "405"
      ]
     },
     "execution_count": 5,
     "metadata": {},
     "output_type": "execute_result"
    }
   ],
   "source": [
    "min(lista)"
   ]
  },
  {
   "cell_type": "code",
   "execution_count": 7,
   "id": "78b8fb03-19ab-4482-94db-648e16b1f376",
   "metadata": {},
   "outputs": [
    {
     "data": {
      "text/plain": [
       "5"
      ]
     },
     "execution_count": 7,
     "metadata": {},
     "output_type": "execute_result"
    }
   ],
   "source": [
    "len(lista)"
   ]
  },
  {
   "cell_type": "code",
   "execution_count": 9,
   "id": "ad8e5795-5b23-4238-85be-2ec99b0498b6",
   "metadata": {},
   "outputs": [
    {
     "data": {
      "text/plain": [
       "list"
      ]
     },
     "execution_count": 9,
     "metadata": {},
     "output_type": "execute_result"
    }
   ],
   "source": [
    "type(lista)"
   ]
  },
  {
   "cell_type": "code",
   "execution_count": 15,
   "id": "df1a0262-bd9e-4037-8148-8238ce7562e5",
   "metadata": {},
   "outputs": [],
   "source": [
    "def tr ():\n",
    "    traços = print('-' * 50)\n",
    "    return traços"
   ]
  },
  {
   "cell_type": "code",
   "execution_count": 17,
   "id": "504670d8-ed71-44b0-8afb-ae2042346455",
   "metadata": {},
   "outputs": [
    {
     "name": "stdout",
     "output_type": "stream",
     "text": [
      "--------------------------------------------------\n"
     ]
    }
   ],
   "source": [
    "tr()"
   ]
  },
  {
   "cell_type": "code",
   "execution_count": 18,
   "id": "46915e1c-9f1d-482c-9a27-ed4bb0152560",
   "metadata": {},
   "outputs": [],
   "source": [
    "# lambda função anonima"
   ]
  },
  {
   "cell_type": "code",
   "execution_count": 19,
   "id": "df4fb0d5-d276-40cc-b24b-063278e8c26e",
   "metadata": {},
   "outputs": [],
   "source": [
    "salarios = [2200, 3200, 5200, 6200]"
   ]
  },
  {
   "cell_type": "code",
   "execution_count": 20,
   "id": "31795979-cd6b-4ebd-9c37-91d5a5dffebf",
   "metadata": {},
   "outputs": [],
   "source": [
    "# 1º - função método tradicional"
   ]
  },
  {
   "cell_type": "code",
   "execution_count": 21,
   "id": "42daf193-f907-44c6-b9f6-61ddac3e2e2a",
   "metadata": {},
   "outputs": [],
   "source": [
    "def vezes_vc (x):\n",
    "    y = x + (x*0.25)\n",
    "    return y"
   ]
  },
  {
   "cell_type": "code",
   "execution_count": 24,
   "id": "fbafc6dc-45f3-4f49-9b30-93b2a2f26258",
   "metadata": {},
   "outputs": [],
   "source": [
    "salarios_atual = map(vezes_vc, salarios)"
   ]
  },
  {
   "cell_type": "code",
   "execution_count": 25,
   "id": "c649d7a6-5d6c-4fce-afa1-51382318715a",
   "metadata": {},
   "outputs": [
    {
     "name": "stdout",
     "output_type": "stream",
     "text": [
      "[2750.0, 4000.0, 6500.0, 7750.0]\n"
     ]
    }
   ],
   "source": [
    "print(list(salarios_atual))"
   ]
  },
  {
   "cell_type": "code",
   "execution_count": 26,
   "id": "77d4c14a-616a-4a0c-92a3-3eef93089bae",
   "metadata": {},
   "outputs": [],
   "source": [
    "# 2º -  função lambda"
   ]
  },
  {
   "cell_type": "code",
   "execution_count": 28,
   "id": "88c69e57-af54-4df9-a9a0-6924b1bc19ab",
   "metadata": {},
   "outputs": [
    {
     "data": {
      "text/plain": [
       "[2200, 3200, 5200, 6200]"
      ]
     },
     "execution_count": 28,
     "metadata": {},
     "output_type": "execute_result"
    }
   ],
   "source": [
    "salarios"
   ]
  },
  {
   "cell_type": "code",
   "execution_count": 33,
   "id": "9279fd04-59af-4234-8f8a-40495ed97e80",
   "metadata": {},
   "outputs": [],
   "source": [
    "salarios_atual = map(lambda x: x+(x*0.25),salarios)"
   ]
  },
  {
   "cell_type": "code",
   "execution_count": 34,
   "id": "1d93e8a8-ec1b-4d22-8595-bce54a9461ab",
   "metadata": {},
   "outputs": [
    {
     "name": "stdout",
     "output_type": "stream",
     "text": [
      "[2750.0, 4000.0, 6500.0, 7750.0]\n"
     ]
    }
   ],
   "source": [
    "print(list(salarios_atual))"
   ]
  },
  {
   "cell_type": "code",
   "execution_count": null,
   "id": "b4de3654-5152-441c-ac49-766662ef95e7",
   "metadata": {},
   "outputs": [],
   "source": []
  }
 ],
 "metadata": {
  "kernelspec": {
   "display_name": "Python 3 (ipykernel)",
   "language": "python",
   "name": "python3"
  },
  "language_info": {
   "codemirror_mode": {
    "name": "ipython",
    "version": 3
   },
   "file_extension": ".py",
   "mimetype": "text/x-python",
   "name": "python",
   "nbconvert_exporter": "python",
   "pygments_lexer": "ipython3",
   "version": "3.12.4"
  }
 },
 "nbformat": 4,
 "nbformat_minor": 5
}
