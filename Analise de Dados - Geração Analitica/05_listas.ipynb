{
 "cells": [
  {
   "cell_type": "code",
   "execution_count": 1,
   "id": "b7de885b-c611-45d4-a696-039b5cd95b34",
   "metadata": {},
   "outputs": [],
   "source": [
    "# LISTAS"
   ]
  },
  {
   "cell_type": "code",
   "execution_count": 2,
   "id": "181636ac-8783-4b6a-b60f-118dbef8702e",
   "metadata": {},
   "outputs": [],
   "source": [
    "frutas = ['maça', 'banana', 'laranja', 'abacaxi']"
   ]
  },
  {
   "cell_type": "code",
   "execution_count": 4,
   "id": "15ff2675-f3e2-4e97-a996-af4a14134019",
   "metadata": {},
   "outputs": [
    {
     "data": {
      "text/plain": [
       "list"
      ]
     },
     "execution_count": 4,
     "metadata": {},
     "output_type": "execute_result"
    }
   ],
   "source": [
    "type(frutas)"
   ]
  },
  {
   "cell_type": "code",
   "execution_count": 5,
   "id": "95b156e3-057e-4466-a19c-80b22911d5f2",
   "metadata": {},
   "outputs": [],
   "source": [
    "# acessando elementos da lista"
   ]
  },
  {
   "cell_type": "code",
   "execution_count": 7,
   "id": "c1103fe9-e4a3-4c0e-8115-e0b1204a1af4",
   "metadata": {},
   "outputs": [
    {
     "data": {
      "text/plain": [
       "'banana'"
      ]
     },
     "execution_count": 7,
     "metadata": {},
     "output_type": "execute_result"
    }
   ],
   "source": [
    "frutas[1]"
   ]
  },
  {
   "cell_type": "code",
   "execution_count": 9,
   "id": "bb90e67a-b2d9-4ee4-95e0-0b265de61bf7",
   "metadata": {},
   "outputs": [
    {
     "data": {
      "text/plain": [
       "'maça'"
      ]
     },
     "execution_count": 9,
     "metadata": {},
     "output_type": "execute_result"
    }
   ],
   "source": [
    "frutas[0]"
   ]
  },
  {
   "cell_type": "code",
   "execution_count": 12,
   "id": "7b25b11b-3111-4dd1-b1af-13d92bd48b64",
   "metadata": {},
   "outputs": [
    {
     "data": {
      "text/plain": [
       "['banana', 'laranja']"
      ]
     },
     "execution_count": 12,
     "metadata": {},
     "output_type": "execute_result"
    }
   ],
   "source": [
    "frutas[1:3]"
   ]
  },
  {
   "cell_type": "code",
   "execution_count": 14,
   "id": "a73cafa9-a045-4a31-9f9e-0ec04e19557e",
   "metadata": {},
   "outputs": [
    {
     "data": {
      "text/plain": [
       "['maça', 'banana', 'laranja', 'abacaxi']"
      ]
     },
     "execution_count": 14,
     "metadata": {},
     "output_type": "execute_result"
    }
   ],
   "source": [
    "frutas[:]"
   ]
  },
  {
   "cell_type": "code",
   "execution_count": 16,
   "id": "d9eef811-6a02-4b2d-9652-7bc587b0acc7",
   "metadata": {},
   "outputs": [
    {
     "data": {
      "text/plain": [
       "['maça', 'banana', 'laranja', 'abacaxi']"
      ]
     },
     "execution_count": 16,
     "metadata": {},
     "output_type": "execute_result"
    }
   ],
   "source": [
    "frutas [0:4]"
   ]
  },
  {
   "cell_type": "code",
   "execution_count": 19,
   "id": "aa65886f-bc80-48db-9add-69bd6e9d69d2",
   "metadata": {},
   "outputs": [],
   "source": [
    "# O primeiro elemento de uma sequência tem índice 0, o segundo tem índice 1 e assim por diante.\n",
    "# Para acessar um elemento específico, usamos colchetes [] após o nome da sequência, contendo o índice desejado. Por exemplo, minha_lista[0] retorna o primeiro elemento de minha_lista.\n",
    "# lista[inicio:fim], onde inicio é o índice do primeiro elemento a ser incluído e fim é o índice do primeiro elemento a ser excluído.\n",
    "# Se inicio for omitido, começa contar desde o início da sequência.\n",
    "# Se fim for omitido, vai até o final da sequência.\n",
    "# Se ambos inicio e fim forem omitidos, retorna a sequência inteira."
   ]
  },
  {
   "cell_type": "code",
   "execution_count": 20,
   "id": "e560ceea-50c2-46cf-90d3-5bbd9639d0bc",
   "metadata": {},
   "outputs": [
    {
     "data": {
      "text/plain": [
       "['banana', 'laranja', 'abacaxi']"
      ]
     },
     "execution_count": 20,
     "metadata": {},
     "output_type": "execute_result"
    }
   ],
   "source": [
    "frutas[1:]"
   ]
  },
  {
   "cell_type": "code",
   "execution_count": 21,
   "id": "769bf882-ab24-4a48-97e6-dad3a2123308",
   "metadata": {},
   "outputs": [],
   "source": [
    "lista = ['sim', 'não', 'sim', 'não', 'sim', 'não', 'sim']"
   ]
  },
  {
   "cell_type": "code",
   "execution_count": 23,
   "id": "6e61f3c0-fad8-4d7b-bcac-181be20158a7",
   "metadata": {},
   "outputs": [
    {
     "data": {
      "text/plain": [
       "['sim', 'não', 'sim', 'não', 'sim', 'não', 'sim']"
      ]
     },
     "execution_count": 23,
     "metadata": {},
     "output_type": "execute_result"
    }
   ],
   "source": [
    "lista[:]"
   ]
  },
  {
   "cell_type": "code",
   "execution_count": 25,
   "id": "d9a30af7-2b7f-494f-bdcb-5478d4f90c55",
   "metadata": {},
   "outputs": [
    {
     "data": {
      "text/plain": [
       "['sim', 'não', 'sim', 'não', 'sim', 'não', 'sim']"
      ]
     },
     "execution_count": 25,
     "metadata": {},
     "output_type": "execute_result"
    }
   ],
   "source": [
    "lista [0:8]"
   ]
  },
  {
   "cell_type": "code",
   "execution_count": 27,
   "id": "04c94ec2-b9c6-4dd2-9485-fb1d9ff33e73",
   "metadata": {},
   "outputs": [
    {
     "data": {
      "text/plain": [
       "['sim', 'sim', 'sim', 'sim']"
      ]
     },
     "execution_count": 27,
     "metadata": {},
     "output_type": "execute_result"
    }
   ],
   "source": [
    "lista [0:8:2]"
   ]
  },
  {
   "cell_type": "code",
   "execution_count": 28,
   "id": "306a6416-4ced-400c-a90b-1325a2ffde9a",
   "metadata": {},
   "outputs": [
    {
     "data": {
      "text/plain": [
       "['sim', 'sim', 'sim', 'sim']"
      ]
     },
     "execution_count": 28,
     "metadata": {},
     "output_type": "execute_result"
    }
   ],
   "source": [
    "lista[::2]"
   ]
  },
  {
   "cell_type": "code",
   "execution_count": 29,
   "id": "1fbe03c5-23eb-45d6-8bb2-83a40cefc7ef",
   "metadata": {},
   "outputs": [],
   "source": [
    "# Testando se um valor está na lista"
   ]
  },
  {
   "cell_type": "code",
   "execution_count": 30,
   "id": "b5312034-cf28-4d13-9b3e-90ca69fab963",
   "metadata": {},
   "outputs": [],
   "source": [
    "frutas = ['maça', 'banana', 'laranja', 'abacaxi']"
   ]
  },
  {
   "cell_type": "code",
   "execution_count": 31,
   "id": "9636b722-9e75-4618-9a56-036e7deaa6ea",
   "metadata": {},
   "outputs": [
    {
     "data": {
      "text/plain": [
       "True"
      ]
     },
     "execution_count": 31,
     "metadata": {},
     "output_type": "execute_result"
    }
   ],
   "source": [
    "'maça' in frutas"
   ]
  },
  {
   "cell_type": "code",
   "execution_count": 32,
   "id": "7e56bfde-3256-494b-a0e9-b97c4801b982",
   "metadata": {},
   "outputs": [],
   "source": [
    "# Juntar listas"
   ]
  },
  {
   "cell_type": "code",
   "execution_count": 33,
   "id": "37e5295e-c9d3-4e7a-a14c-572da4e3f7b2",
   "metadata": {},
   "outputs": [],
   "source": [
    "frutas2 = ['melancia', 'pera', 'morango', 'mexirica', 'goiaba', 'melao']"
   ]
  },
  {
   "cell_type": "code",
   "execution_count": 36,
   "id": "3504cefa-62ef-4a01-a4a1-321bc8519e4d",
   "metadata": {},
   "outputs": [],
   "source": [
    "frutas3 = frutas + frutas2"
   ]
  },
  {
   "cell_type": "code",
   "execution_count": 38,
   "id": "12b8dc60-2b92-4203-b011-bc8db5e0eb97",
   "metadata": {},
   "outputs": [
    {
     "data": {
      "text/plain": [
       "['maça',\n",
       " 'banana',\n",
       " 'laranja',\n",
       " 'abacaxi',\n",
       " 'melancia',\n",
       " 'pera',\n",
       " 'morango',\n",
       " 'mexirica',\n",
       " 'goiaba',\n",
       " 'melao']"
      ]
     },
     "execution_count": 38,
     "metadata": {},
     "output_type": "execute_result"
    }
   ],
   "source": [
    "frutas3"
   ]
  },
  {
   "cell_type": "code",
   "execution_count": 39,
   "id": "5bf764c4-b2a7-46f2-aa76-a67087cd32f1",
   "metadata": {},
   "outputs": [],
   "source": [
    "# listas dentro de listas"
   ]
  },
  {
   "cell_type": "code",
   "execution_count": 40,
   "id": "84163605-193c-4ccc-b803-dda4cbd746ba",
   "metadata": {},
   "outputs": [],
   "source": [
    "lista = [1,2,3, 'alvo', 30]"
   ]
  },
  {
   "cell_type": "code",
   "execution_count": 42,
   "id": "847b0b29-17af-4322-a77b-4c272a0ac207",
   "metadata": {},
   "outputs": [
    {
     "data": {
      "text/plain": [
       "'alvo'"
      ]
     },
     "execution_count": 42,
     "metadata": {},
     "output_type": "execute_result"
    }
   ],
   "source": [
    "lista[3]"
   ]
  },
  {
   "cell_type": "code",
   "execution_count": 70,
   "id": "53000312-5de8-4770-8b56-357de02b7fb3",
   "metadata": {},
   "outputs": [],
   "source": [
    "lista = [1,2,3,[10,'alvo', 15],18,20]"
   ]
  },
  {
   "cell_type": "code",
   "execution_count": 72,
   "id": "8746c6de-e4db-4f4c-874b-bf324c9766f6",
   "metadata": {},
   "outputs": [
    {
     "data": {
      "text/plain": [
       "[10, 'alvo', 15]"
      ]
     },
     "execution_count": 72,
     "metadata": {},
     "output_type": "execute_result"
    }
   ],
   "source": [
    "lista[3]"
   ]
  },
  {
   "cell_type": "code",
   "execution_count": 74,
   "id": "a0680656-0777-40ee-a060-e0a8628cab25",
   "metadata": {},
   "outputs": [
    {
     "data": {
      "text/plain": [
       "'alvo'"
      ]
     },
     "execution_count": 74,
     "metadata": {},
     "output_type": "execute_result"
    }
   ],
   "source": [
    "lista[3][1]"
   ]
  },
  {
   "cell_type": "code",
   "execution_count": 103,
   "id": "f4a72723-868c-4e88-b7d8-375d8db5ce63",
   "metadata": {},
   "outputs": [],
   "source": [
    "# numeros = [1,2,3[10,20,[5,10, 'alvo' ]1,4,5] errada"
   ]
  },
  {
   "cell_type": "code",
   "execution_count": null,
   "id": "d5f4823a-512f-4db4-b4cd-8732da0bf598",
   "metadata": {},
   "outputs": [],
   "source": [
    "numeros = [1, 2, 3, [10, 20, [5, 10, 'alvo']], 1, 4, 5]"
   ]
  },
  {
   "cell_type": "code",
   "execution_count": 99,
   "id": "274401ce-fbe4-4c30-aa23-9f3b2a527059",
   "metadata": {},
   "outputs": [
    {
     "data": {
      "text/plain": [
       "[10, 20, [5, 10, 'alvo']]"
      ]
     },
     "execution_count": 99,
     "metadata": {},
     "output_type": "execute_result"
    }
   ],
   "source": [
    "numeros[3]"
   ]
  },
  {
   "cell_type": "code",
   "execution_count": 101,
   "id": "20b84a02-f5bf-4776-8a60-d56be531ad2e",
   "metadata": {},
   "outputs": [
    {
     "data": {
      "text/plain": [
       "[5, 10, 'alvo']"
      ]
     },
     "execution_count": 101,
     "metadata": {},
     "output_type": "execute_result"
    }
   ],
   "source": [
    "numeros[3][2]"
   ]
  },
  {
   "cell_type": "code",
   "execution_count": 104,
   "id": "4fa8fe63-c18d-4715-bdcf-00656b4e9d8f",
   "metadata": {},
   "outputs": [
    {
     "data": {
      "text/plain": [
       "'alvo'"
      ]
     },
     "execution_count": 104,
     "metadata": {},
     "output_type": "execute_result"
    }
   ],
   "source": [
    "numeros[3][2][2]"
   ]
  },
  {
   "cell_type": "code",
   "execution_count": 105,
   "id": "7331e796-1e78-4dbe-8c02-62291b6e177c",
   "metadata": {},
   "outputs": [],
   "source": [
    "# como alterar valores de uma lista"
   ]
  },
  {
   "cell_type": "code",
   "execution_count": 106,
   "id": "d2249ccd-5ba1-438d-b323-c7d9ba40659d",
   "metadata": {},
   "outputs": [],
   "source": [
    "lista =[10, 20, 30, 40]"
   ]
  },
  {
   "cell_type": "code",
   "execution_count": 108,
   "id": "356fd106-4831-494b-92b6-85e105fe9a83",
   "metadata": {},
   "outputs": [],
   "source": [
    "lista[1] = 15"
   ]
  },
  {
   "cell_type": "code",
   "execution_count": 110,
   "id": "d0d01067-5f97-4da1-ad91-920f75ce5989",
   "metadata": {},
   "outputs": [
    {
     "data": {
      "text/plain": [
       "[10, 15, 30, 40]"
      ]
     },
     "execution_count": 110,
     "metadata": {},
     "output_type": "execute_result"
    }
   ],
   "source": [
    "lista"
   ]
  },
  {
   "cell_type": "code",
   "execution_count": 111,
   "id": "c126a357-b473-41e5-8940-ac5c4655c6c2",
   "metadata": {},
   "outputs": [],
   "source": [
    "lista[:] = [5, 10, 15, 20, 25]"
   ]
  },
  {
   "cell_type": "code",
   "execution_count": 116,
   "id": "210ef29c-a3cc-4360-86e3-43f5ac4ad779",
   "metadata": {},
   "outputs": [
    {
     "data": {
      "text/plain": [
       "['5', '10', '15', '20', '25']"
      ]
     },
     "execution_count": 116,
     "metadata": {},
     "output_type": "execute_result"
    }
   ],
   "source": [
    "lista"
   ]
  },
  {
   "cell_type": "code",
   "execution_count": 117,
   "id": "73bdd921-a885-4638-a6d2-7d9ec1166d56",
   "metadata": {},
   "outputs": [],
   "source": [
    "# atribuir e excluir valores"
   ]
  },
  {
   "cell_type": "code",
   "execution_count": 164,
   "id": "a1804d6f-0507-4959-a6ce-9f17c5ffc732",
   "metadata": {},
   "outputs": [],
   "source": [
    "ficha = [1, 2, 3, 4]"
   ]
  },
  {
   "cell_type": "code",
   "execution_count": 166,
   "id": "0a01d8e3-ccf2-4728-8487-cbaf5213a519",
   "metadata": {},
   "outputs": [
    {
     "data": {
      "text/plain": [
       "[1, 2, 3, 4]"
      ]
     },
     "execution_count": 166,
     "metadata": {},
     "output_type": "execute_result"
    }
   ],
   "source": [
    "ficha"
   ]
  },
  {
   "cell_type": "code",
   "execution_count": 173,
   "id": "a7bd97a1-834e-450b-acd3-92a2cbc10722",
   "metadata": {},
   "outputs": [],
   "source": [
    "ficha.append(20)"
   ]
  },
  {
   "cell_type": "code",
   "execution_count": 175,
   "id": "dea96c71-ea2e-4fb1-9ef1-f16164ce34cb",
   "metadata": {},
   "outputs": [
    {
     "data": {
      "text/plain": [
       "[1, 2, 3, 4, 10, 10, 10, 20]"
      ]
     },
     "execution_count": 175,
     "metadata": {},
     "output_type": "execute_result"
    }
   ],
   "source": [
    "ficha"
   ]
  },
  {
   "cell_type": "code",
   "execution_count": 176,
   "id": "30d1ade4-a2f3-44b4-989d-d8776cdd3a9d",
   "metadata": {},
   "outputs": [],
   "source": [
    "del ficha[5]"
   ]
  },
  {
   "cell_type": "code",
   "execution_count": 177,
   "id": "d0e1838d-9e81-4939-8a22-1ff55d0b8566",
   "metadata": {},
   "outputs": [
    {
     "data": {
      "text/plain": [
       "[1, 2, 3, 4, 10, 10, 20]"
      ]
     },
     "execution_count": 177,
     "metadata": {},
     "output_type": "execute_result"
    }
   ],
   "source": [
    "ficha"
   ]
  }
 ],
 "metadata": {
  "kernelspec": {
   "display_name": "Python 3 (ipykernel)",
   "language": "python",
   "name": "python3"
  },
  "language_info": {
   "codemirror_mode": {
    "name": "ipython",
    "version": 3
   },
   "file_extension": ".py",
   "mimetype": "text/x-python",
   "name": "python",
   "nbconvert_exporter": "python",
   "pygments_lexer": "ipython3",
   "version": "3.12.4"
  }
 },
 "nbformat": 4,
 "nbformat_minor": 5
}
