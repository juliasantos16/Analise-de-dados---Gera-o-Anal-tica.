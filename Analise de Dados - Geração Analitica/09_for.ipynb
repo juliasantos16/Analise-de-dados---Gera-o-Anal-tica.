{
 "cells": [
  {
   "cell_type": "code",
   "execution_count": 1,
   "id": "c87ff12a-d42a-4d41-b3ec-e3c9cd1c8b72",
   "metadata": {},
   "outputs": [],
   "source": [
    "# no for eu consigo iterar ele sobre uma lista, sobre uma tupla, um dicionario"
   ]
  },
  {
   "cell_type": "code",
   "execution_count": 2,
   "id": "a4b00aec-0fa1-41d7-a698-a661f6355036",
   "metadata": {},
   "outputs": [],
   "source": [
    "# loop in range"
   ]
  },
  {
   "cell_type": "code",
   "execution_count": 5,
   "id": "0c0246ad-44bb-4216-bbc1-d801ae2a5dd0",
   "metadata": {},
   "outputs": [
    {
     "name": "stdout",
     "output_type": "stream",
     "text": [
      "0\n",
      "1\n",
      "2\n",
      "3\n",
      "4\n",
      "5\n",
      "6\n",
      "7\n",
      "8\n",
      "9\n",
      "10\n"
     ]
    }
   ],
   "source": [
    "for valor in range (0,11):\n",
    "    print(valor)"
   ]
  },
  {
   "cell_type": "code",
   "execution_count": 6,
   "id": "00e67d38-99b2-42bb-a093-22039d1ccd5a",
   "metadata": {},
   "outputs": [],
   "source": [
    "# loop em uma lista"
   ]
  },
  {
   "cell_type": "code",
   "execution_count": 9,
   "id": "1cdc28d9-cd54-4f7d-9e93-8567f76d7a1d",
   "metadata": {},
   "outputs": [],
   "source": [
    "frutas = ['maçã', 'banana', 'mamão', 'pera', 'morango']"
   ]
  },
  {
   "cell_type": "code",
   "execution_count": 11,
   "id": "892f0509-8203-4a1a-9559-a1cea45cec4f",
   "metadata": {},
   "outputs": [
    {
     "name": "stdout",
     "output_type": "stream",
     "text": [
      "maçã\n",
      "banana\n",
      "mamão\n",
      "pera\n",
      "morango\n"
     ]
    }
   ],
   "source": [
    "for x in frutas:\n",
    "    print(x)"
   ]
  },
  {
   "cell_type": "code",
   "execution_count": 14,
   "id": "17ec7139-5158-4bd3-a33a-8ae8bc75636f",
   "metadata": {},
   "outputs": [],
   "source": [
    "cadastro = {'nome' : 'Júlia' , 'idade' : 21, 'gênero' : 'feminino'}"
   ]
  },
  {
   "cell_type": "code",
   "execution_count": 16,
   "id": "4ffcda81-da19-403b-9372-e3b18863f1d2",
   "metadata": {},
   "outputs": [
    {
     "name": "stdout",
     "output_type": "stream",
     "text": [
      "nome\n",
      "idade\n",
      "gênero\n"
     ]
    }
   ],
   "source": [
    "for chave in cadastro:\n",
    "    print(chave)"
   ]
  },
  {
   "cell_type": "code",
   "execution_count": 18,
   "id": "531ccb00-0f68-465e-9c30-fde053435122",
   "metadata": {},
   "outputs": [
    {
     "name": "stdout",
     "output_type": "stream",
     "text": [
      "Júlia\n",
      "21\n",
      "feminino\n"
     ]
    }
   ],
   "source": [
    "for valor in cadastro.values():\n",
    "    print(valor)"
   ]
  },
  {
   "cell_type": "code",
   "execution_count": 21,
   "id": "d9a7b4a0-927d-494f-9101-2632e9f81fe2",
   "metadata": {},
   "outputs": [
    {
     "name": "stdout",
     "output_type": "stream",
     "text": [
      "nome Júlia\n",
      "idade 21\n",
      "gênero feminino\n"
     ]
    }
   ],
   "source": [
    "for chave, valor in cadastro.items():\n",
    "    print(chave, valor)"
   ]
  },
  {
   "cell_type": "code",
   "execution_count": 22,
   "id": "37c56c46-7ad2-4671-ac1b-5a75f6cec853",
   "metadata": {},
   "outputs": [],
   "source": [
    "# tupla"
   ]
  },
  {
   "cell_type": "code",
   "execution_count": 23,
   "id": "aa43f873-0e3e-4508-bbd3-7c7925970719",
   "metadata": {},
   "outputs": [],
   "source": [
    "tupla = (1,2,3,4,5,6)"
   ]
  },
  {
   "cell_type": "code",
   "execution_count": 25,
   "id": "1a1442cf-10b8-4fe6-95a2-e847fcb0e0fb",
   "metadata": {},
   "outputs": [
    {
     "name": "stdout",
     "output_type": "stream",
     "text": [
      "1\n",
      "2\n",
      "3\n",
      "4\n",
      "5\n",
      "6\n"
     ]
    }
   ],
   "source": [
    "for elemento in tupla:\n",
    "    print(elemento)"
   ]
  },
  {
   "cell_type": "code",
   "execution_count": 26,
   "id": "5efb916b-fadc-437c-9469-5531d029a77c",
   "metadata": {},
   "outputs": [],
   "source": [
    "# break"
   ]
  },
  {
   "cell_type": "code",
   "execution_count": 28,
   "id": "725c5409-4c0e-4718-997e-670bd925c628",
   "metadata": {},
   "outputs": [
    {
     "name": "stdout",
     "output_type": "stream",
     "text": [
      "0\n",
      "1\n",
      "2\n",
      "3\n",
      "4\n",
      "5\n",
      "6\n",
      "7\n",
      "8\n",
      "9\n"
     ]
    }
   ],
   "source": [
    "for valor in range (0,10):\n",
    "    print(valor)"
   ]
  },
  {
   "cell_type": "code",
   "execution_count": 30,
   "id": "a3d108b1-d430-4c3f-b205-245087089a68",
   "metadata": {},
   "outputs": [
    {
     "name": "stdout",
     "output_type": "stream",
     "text": [
      "0\n",
      "1\n",
      "2\n",
      "3\n",
      "4\n",
      "5\n",
      "6\n"
     ]
    }
   ],
   "source": [
    "for valor in range (0, 10):\n",
    "    if valor == 7:\n",
    "        break\n",
    "    print(valor)"
   ]
  },
  {
   "cell_type": "code",
   "execution_count": 32,
   "id": "2fe82857-eea1-4b5f-b709-dcf7b03a0d85",
   "metadata": {},
   "outputs": [],
   "source": [
    "# continue "
   ]
  },
  {
   "cell_type": "code",
   "execution_count": 34,
   "id": "4340862c-7044-4b38-9a59-2994453319db",
   "metadata": {},
   "outputs": [
    {
     "name": "stdout",
     "output_type": "stream",
     "text": [
      "0\n",
      "1\n",
      "2\n",
      "3\n",
      "4\n",
      "6\n",
      "8\n",
      "9\n",
      "10\n",
      "12\n",
      "13\n",
      "14\n",
      "15\n",
      "16\n",
      "17\n",
      "18\n",
      "19\n",
      "20\n"
     ]
    }
   ],
   "source": [
    "for valor in range (0, 21):\n",
    "    if (valor == 5 or valor == 7 or valor == 11):\n",
    "        continue\n",
    "    print(valor)"
   ]
  }
 ],
 "metadata": {
  "kernelspec": {
   "display_name": "Python 3 (ipykernel)",
   "language": "python",
   "name": "python3"
  },
  "language_info": {
   "codemirror_mode": {
    "name": "ipython",
    "version": 3
   },
   "file_extension": ".py",
   "mimetype": "text/x-python",
   "name": "python",
   "nbconvert_exporter": "python",
   "pygments_lexer": "ipython3",
   "version": "3.12.4"
  }
 },
 "nbformat": 4,
 "nbformat_minor": 5
}
