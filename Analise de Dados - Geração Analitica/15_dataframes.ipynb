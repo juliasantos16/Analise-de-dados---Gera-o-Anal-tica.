{
 "cells": [
  {
   "cell_type": "code",
   "execution_count": 2,
   "id": "9195943d-4de8-4d0c-b646-97c0a8a07bf9",
   "metadata": {},
   "outputs": [],
   "source": [
    "import pandas as pd\n",
    "import numpy as np"
   ]
  },
  {
   "cell_type": "code",
   "execution_count": 3,
   "id": "58723ff1-4b36-4b23-99a5-ef7b31b9cdd5",
   "metadata": {},
   "outputs": [],
   "source": [
    "# criação de dataframes a partir de arrays"
   ]
  },
  {
   "cell_type": "code",
   "execution_count": 4,
   "id": "638c363e-3d4a-45c9-b43f-74a4d594d307",
   "metadata": {},
   "outputs": [],
   "source": [
    "arr = np.random.randint(10,55,size=(4,4))"
   ]
  },
  {
   "cell_type": "code",
   "execution_count": 6,
   "id": "4dc9fab9-89f7-43e0-85b3-eb2d7ccfaae3",
   "metadata": {},
   "outputs": [
    {
     "data": {
      "text/plain": [
       "array([[53, 42, 12, 52],\n",
       "       [29, 41, 40, 34],\n",
       "       [47, 43, 42, 19],\n",
       "       [48, 53, 34, 32]])"
      ]
     },
     "execution_count": 6,
     "metadata": {},
     "output_type": "execute_result"
    }
   ],
   "source": [
    "arr"
   ]
  },
  {
   "cell_type": "code",
   "execution_count": 49,
   "id": "dfedc6a8-62f6-4e5e-8edb-b87e4630701d",
   "metadata": {},
   "outputs": [],
   "source": [
    "df = pd.DataFrame(data=arr, index=['a','b','c','d'],columns=['w','x','y','z']) "
   ]
  },
  {
   "cell_type": "code",
   "execution_count": 50,
   "id": "2f3acd46-4e7d-4beb-9088-6065a8eb3687",
   "metadata": {},
   "outputs": [
    {
     "data": {
      "text/html": [
       "<div>\n",
       "<style scoped>\n",
       "    .dataframe tbody tr th:only-of-type {\n",
       "        vertical-align: middle;\n",
       "    }\n",
       "\n",
       "    .dataframe tbody tr th {\n",
       "        vertical-align: top;\n",
       "    }\n",
       "\n",
       "    .dataframe thead th {\n",
       "        text-align: right;\n",
       "    }\n",
       "</style>\n",
       "<table border=\"1\" class=\"dataframe\">\n",
       "  <thead>\n",
       "    <tr style=\"text-align: right;\">\n",
       "      <th></th>\n",
       "      <th>w</th>\n",
       "      <th>x</th>\n",
       "      <th>y</th>\n",
       "      <th>z</th>\n",
       "    </tr>\n",
       "  </thead>\n",
       "  <tbody>\n",
       "    <tr>\n",
       "      <th>a</th>\n",
       "      <td>53</td>\n",
       "      <td>42</td>\n",
       "      <td>12</td>\n",
       "      <td>52</td>\n",
       "    </tr>\n",
       "    <tr>\n",
       "      <th>b</th>\n",
       "      <td>29</td>\n",
       "      <td>41</td>\n",
       "      <td>40</td>\n",
       "      <td>34</td>\n",
       "    </tr>\n",
       "    <tr>\n",
       "      <th>c</th>\n",
       "      <td>47</td>\n",
       "      <td>43</td>\n",
       "      <td>42</td>\n",
       "      <td>19</td>\n",
       "    </tr>\n",
       "    <tr>\n",
       "      <th>d</th>\n",
       "      <td>48</td>\n",
       "      <td>53</td>\n",
       "      <td>34</td>\n",
       "      <td>32</td>\n",
       "    </tr>\n",
       "  </tbody>\n",
       "</table>\n",
       "</div>"
      ],
      "text/plain": [
       "    w   x   y   z\n",
       "a  53  42  12  52\n",
       "b  29  41  40  34\n",
       "c  47  43  42  19\n",
       "d  48  53  34  32"
      ]
     },
     "execution_count": 50,
     "metadata": {},
     "output_type": "execute_result"
    }
   ],
   "source": [
    "df"
   ]
  },
  {
   "cell_type": "code",
   "execution_count": 12,
   "id": "3655911e-8078-4ad6-96fb-220ab927105b",
   "metadata": {},
   "outputs": [],
   "source": [
    "# criação de dataframes a partir de listas"
   ]
  },
  {
   "cell_type": "code",
   "execution_count": 36,
   "id": "933df3fd-8188-40ad-9131-e4b5a23d2097",
   "metadata": {},
   "outputs": [],
   "source": [
    "lista = [[10,20,30,40,50],[60,70,80,90,100],[110,120,130,140,150]]"
   ]
  },
  {
   "cell_type": "code",
   "execution_count": 45,
   "id": "4bc94750-d47c-49ea-ab07-e1311e5aa0f5",
   "metadata": {},
   "outputs": [],
   "source": [
    "df2 = pd.DataFrame(data=lista,index=['a','b','c'],columns=['v','w','x','y','z'])"
   ]
  },
  {
   "cell_type": "code",
   "execution_count": 46,
   "id": "bd018145-4ac9-452f-8573-e65799f5d270",
   "metadata": {},
   "outputs": [
    {
     "data": {
      "text/html": [
       "<div>\n",
       "<style scoped>\n",
       "    .dataframe tbody tr th:only-of-type {\n",
       "        vertical-align: middle;\n",
       "    }\n",
       "\n",
       "    .dataframe tbody tr th {\n",
       "        vertical-align: top;\n",
       "    }\n",
       "\n",
       "    .dataframe thead th {\n",
       "        text-align: right;\n",
       "    }\n",
       "</style>\n",
       "<table border=\"1\" class=\"dataframe\">\n",
       "  <thead>\n",
       "    <tr style=\"text-align: right;\">\n",
       "      <th></th>\n",
       "      <th>v</th>\n",
       "      <th>w</th>\n",
       "      <th>x</th>\n",
       "      <th>y</th>\n",
       "      <th>z</th>\n",
       "    </tr>\n",
       "  </thead>\n",
       "  <tbody>\n",
       "    <tr>\n",
       "      <th>a</th>\n",
       "      <td>10</td>\n",
       "      <td>20</td>\n",
       "      <td>30</td>\n",
       "      <td>40</td>\n",
       "      <td>50</td>\n",
       "    </tr>\n",
       "    <tr>\n",
       "      <th>b</th>\n",
       "      <td>60</td>\n",
       "      <td>70</td>\n",
       "      <td>80</td>\n",
       "      <td>90</td>\n",
       "      <td>100</td>\n",
       "    </tr>\n",
       "    <tr>\n",
       "      <th>c</th>\n",
       "      <td>110</td>\n",
       "      <td>120</td>\n",
       "      <td>130</td>\n",
       "      <td>140</td>\n",
       "      <td>150</td>\n",
       "    </tr>\n",
       "  </tbody>\n",
       "</table>\n",
       "</div>"
      ],
      "text/plain": [
       "     v    w    x    y    z\n",
       "a   10   20   30   40   50\n",
       "b   60   70   80   90  100\n",
       "c  110  120  130  140  150"
      ]
     },
     "execution_count": 46,
     "metadata": {},
     "output_type": "execute_result"
    }
   ],
   "source": [
    "df2"
   ]
  },
  {
   "cell_type": "code",
   "execution_count": 51,
   "id": "e9e997e7-f76f-44a0-b694-3136fced8562",
   "metadata": {},
   "outputs": [],
   "source": [
    "# criando dataframes a partir de dicionarios"
   ]
  },
  {
   "cell_type": "code",
   "execution_count": 61,
   "id": "b0c4348b-8cc3-477b-9341-df2ac4e96bda",
   "metadata": {},
   "outputs": [],
   "source": [
    "dados = {'pessoas':['ana','pedro','agatha','roberta'],'numeros':['111-111','222-222','333-333','444-444'],'id':['AHDYSK','JSIBDT','OPAEQT','JKILOP']}"
   ]
  },
  {
   "cell_type": "code",
   "execution_count": 62,
   "id": "49ffe9aa-5c96-4d69-8535-136dd112f5f3",
   "metadata": {},
   "outputs": [
    {
     "data": {
      "text/plain": [
       "{'pessoas': ['ana', 'pedro', 'agatha', 'roberta'],\n",
       " 'numeros': ['111-111', '222-222', '333-333', '444-444'],\n",
       " 'id': ['AHDYSK', 'JSIBDT', 'OPAEQT', 'JKILOP']}"
      ]
     },
     "execution_count": 62,
     "metadata": {},
     "output_type": "execute_result"
    }
   ],
   "source": [
    "dados"
   ]
  },
  {
   "cell_type": "code",
   "execution_count": 63,
   "id": "a3079e46-cb18-4833-b32c-641aec86f678",
   "metadata": {},
   "outputs": [],
   "source": [
    "df3 =pd.DataFrame(data=dados)"
   ]
  },
  {
   "cell_type": "code",
   "execution_count": 64,
   "id": "f05c7e1e-b0dd-406a-b7b2-8ec53a2ebdb5",
   "metadata": {},
   "outputs": [
    {
     "data": {
      "text/html": [
       "<div>\n",
       "<style scoped>\n",
       "    .dataframe tbody tr th:only-of-type {\n",
       "        vertical-align: middle;\n",
       "    }\n",
       "\n",
       "    .dataframe tbody tr th {\n",
       "        vertical-align: top;\n",
       "    }\n",
       "\n",
       "    .dataframe thead th {\n",
       "        text-align: right;\n",
       "    }\n",
       "</style>\n",
       "<table border=\"1\" class=\"dataframe\">\n",
       "  <thead>\n",
       "    <tr style=\"text-align: right;\">\n",
       "      <th></th>\n",
       "      <th>pessoas</th>\n",
       "      <th>numeros</th>\n",
       "      <th>id</th>\n",
       "    </tr>\n",
       "  </thead>\n",
       "  <tbody>\n",
       "    <tr>\n",
       "      <th>0</th>\n",
       "      <td>ana</td>\n",
       "      <td>111-111</td>\n",
       "      <td>AHDYSK</td>\n",
       "    </tr>\n",
       "    <tr>\n",
       "      <th>1</th>\n",
       "      <td>pedro</td>\n",
       "      <td>222-222</td>\n",
       "      <td>JSIBDT</td>\n",
       "    </tr>\n",
       "    <tr>\n",
       "      <th>2</th>\n",
       "      <td>agatha</td>\n",
       "      <td>333-333</td>\n",
       "      <td>OPAEQT</td>\n",
       "    </tr>\n",
       "    <tr>\n",
       "      <th>3</th>\n",
       "      <td>roberta</td>\n",
       "      <td>444-444</td>\n",
       "      <td>JKILOP</td>\n",
       "    </tr>\n",
       "  </tbody>\n",
       "</table>\n",
       "</div>"
      ],
      "text/plain": [
       "   pessoas  numeros      id\n",
       "0      ana  111-111  AHDYSK\n",
       "1    pedro  222-222  JSIBDT\n",
       "2   agatha  333-333  OPAEQT\n",
       "3  roberta  444-444  JKILOP"
      ]
     },
     "execution_count": 64,
     "metadata": {},
     "output_type": "execute_result"
    }
   ],
   "source": [
    "df3"
   ]
  },
  {
   "cell_type": "code",
   "execution_count": 65,
   "id": "832b001d-5579-4e17-9455-b5ed0b903aee",
   "metadata": {},
   "outputs": [],
   "source": [
    "# criando uma nova coluna"
   ]
  },
  {
   "cell_type": "code",
   "execution_count": 66,
   "id": "bc560b82-9994-4a47-b49c-8391d7e2cb9b",
   "metadata": {},
   "outputs": [],
   "source": [
    "df3['cnh']=['975486','679481','649781','6497813']"
   ]
  },
  {
   "cell_type": "code",
   "execution_count": 67,
   "id": "d7423b44-2442-497b-bb2d-1645b75bd796",
   "metadata": {},
   "outputs": [
    {
     "data": {
      "text/html": [
       "<div>\n",
       "<style scoped>\n",
       "    .dataframe tbody tr th:only-of-type {\n",
       "        vertical-align: middle;\n",
       "    }\n",
       "\n",
       "    .dataframe tbody tr th {\n",
       "        vertical-align: top;\n",
       "    }\n",
       "\n",
       "    .dataframe thead th {\n",
       "        text-align: right;\n",
       "    }\n",
       "</style>\n",
       "<table border=\"1\" class=\"dataframe\">\n",
       "  <thead>\n",
       "    <tr style=\"text-align: right;\">\n",
       "      <th></th>\n",
       "      <th>pessoas</th>\n",
       "      <th>numeros</th>\n",
       "      <th>id</th>\n",
       "      <th>cnh</th>\n",
       "    </tr>\n",
       "  </thead>\n",
       "  <tbody>\n",
       "    <tr>\n",
       "      <th>0</th>\n",
       "      <td>ana</td>\n",
       "      <td>111-111</td>\n",
       "      <td>AHDYSK</td>\n",
       "      <td>975486</td>\n",
       "    </tr>\n",
       "    <tr>\n",
       "      <th>1</th>\n",
       "      <td>pedro</td>\n",
       "      <td>222-222</td>\n",
       "      <td>JSIBDT</td>\n",
       "      <td>679481</td>\n",
       "    </tr>\n",
       "    <tr>\n",
       "      <th>2</th>\n",
       "      <td>agatha</td>\n",
       "      <td>333-333</td>\n",
       "      <td>OPAEQT</td>\n",
       "      <td>649781</td>\n",
       "    </tr>\n",
       "    <tr>\n",
       "      <th>3</th>\n",
       "      <td>roberta</td>\n",
       "      <td>444-444</td>\n",
       "      <td>JKILOP</td>\n",
       "      <td>6497813</td>\n",
       "    </tr>\n",
       "  </tbody>\n",
       "</table>\n",
       "</div>"
      ],
      "text/plain": [
       "   pessoas  numeros      id      cnh\n",
       "0      ana  111-111  AHDYSK   975486\n",
       "1    pedro  222-222  JSIBDT   679481\n",
       "2   agatha  333-333  OPAEQT   649781\n",
       "3  roberta  444-444  JKILOP  6497813"
      ]
     },
     "execution_count": 67,
     "metadata": {},
     "output_type": "execute_result"
    }
   ],
   "source": [
    "df3"
   ]
  }
 ],
 "metadata": {
  "kernelspec": {
   "display_name": "Python 3 (ipykernel)",
   "language": "python",
   "name": "python3"
  },
  "language_info": {
   "codemirror_mode": {
    "name": "ipython",
    "version": 3
   },
   "file_extension": ".py",
   "mimetype": "text/x-python",
   "name": "python",
   "nbconvert_exporter": "python",
   "pygments_lexer": "ipython3",
   "version": "3.12.4"
  }
 },
 "nbformat": 4,
 "nbformat_minor": 5
}
