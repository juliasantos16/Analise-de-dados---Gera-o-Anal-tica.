{
 "cells": [
  {
   "cell_type": "code",
   "execution_count": 1,
   "id": "a4330266-0bb2-4dc2-a200-29d9e28f967b",
   "metadata": {},
   "outputs": [],
   "source": [
    "import pandas as pd\n",
    "import numpy as np"
   ]
  },
  {
   "cell_type": "code",
   "execution_count": 3,
   "id": "f5cba124-aca7-4dbf-93ba-c5d47ac27617",
   "metadata": {},
   "outputs": [],
   "source": [
    "lista = [['BRASIL','BRASIL','BRASIL','EUA','EUA','EUA'],['2017','2018','2019','2017','2018','2019']]"
   ]
  },
  {
   "cell_type": "code",
   "execution_count": 4,
   "id": "ee2864e4-2bdc-4a85-a3ca-ee9afc11b3e6",
   "metadata": {},
   "outputs": [],
   "source": [
    "tuplas = zip(*lista)"
   ]
  },
  {
   "cell_type": "code",
   "execution_count": 6,
   "id": "8f45cd63-a9bc-4776-b0b8-fb2fb0c5fe67",
   "metadata": {},
   "outputs": [
    {
     "data": {
      "text/plain": [
       "<zip at 0x1f0b7f54dc0>"
      ]
     },
     "execution_count": 6,
     "metadata": {},
     "output_type": "execute_result"
    }
   ],
   "source": [
    "tuplas"
   ]
  },
  {
   "cell_type": "code",
   "execution_count": 8,
   "id": "f8cb875f-4df0-4cef-a044-624cadf0bd3e",
   "metadata": {},
   "outputs": [],
   "source": [
    "tuplas = list(tuplas)"
   ]
  },
  {
   "cell_type": "code",
   "execution_count": 9,
   "id": "cfdd460e-71a3-4249-b3d5-dd790669c05c",
   "metadata": {},
   "outputs": [
    {
     "data": {
      "text/plain": [
       "[('BRASIL', '2017'),\n",
       " ('BRASIL', '2018'),\n",
       " ('BRASIL', '2019'),\n",
       " ('EUA', '2017'),\n",
       " ('EUA', '2018'),\n",
       " ('EUA', '2019')]"
      ]
     },
     "execution_count": 9,
     "metadata": {},
     "output_type": "execute_result"
    }
   ],
   "source": [
    "tuplas"
   ]
  },
  {
   "cell_type": "code",
   "execution_count": 10,
   "id": "365ad2e2-f695-424c-94cd-4d6e6c0c7421",
   "metadata": {},
   "outputs": [],
   "source": [
    "multi = pd.MultiIndex.from_tuples(tuplas)"
   ]
  },
  {
   "cell_type": "code",
   "execution_count": 12,
   "id": "239d4a0c-6d83-427a-97bb-72acc3b19b7d",
   "metadata": {},
   "outputs": [
    {
     "data": {
      "text/plain": [
       "MultiIndex([('BRASIL', '2017'),\n",
       "            ('BRASIL', '2018'),\n",
       "            ('BRASIL', '2019'),\n",
       "            (   'EUA', '2017'),\n",
       "            (   'EUA', '2018'),\n",
       "            (   'EUA', '2019')],\n",
       "           )"
      ]
     },
     "execution_count": 12,
     "metadata": {},
     "output_type": "execute_result"
    }
   ],
   "source": [
    "multi"
   ]
  },
  {
   "cell_type": "code",
   "execution_count": 13,
   "id": "e04abdce-b681-4e78-a067-bd5a952ca218",
   "metadata": {},
   "outputs": [],
   "source": [
    "df1 = pd.DataFrame(data=np.random.randn(6,2), index=multi, columns=['EXP TRIGO','EXP ARROZ'])"
   ]
  },
  {
   "cell_type": "code",
   "execution_count": 15,
   "id": "90c82a6c-39cf-45dc-a4c0-89f287d7f961",
   "metadata": {},
   "outputs": [
    {
     "data": {
      "text/html": [
       "<div>\n",
       "<style scoped>\n",
       "    .dataframe tbody tr th:only-of-type {\n",
       "        vertical-align: middle;\n",
       "    }\n",
       "\n",
       "    .dataframe tbody tr th {\n",
       "        vertical-align: top;\n",
       "    }\n",
       "\n",
       "    .dataframe thead th {\n",
       "        text-align: right;\n",
       "    }\n",
       "</style>\n",
       "<table border=\"1\" class=\"dataframe\">\n",
       "  <thead>\n",
       "    <tr style=\"text-align: right;\">\n",
       "      <th></th>\n",
       "      <th></th>\n",
       "      <th>EXP TRIGO</th>\n",
       "      <th>EXP ARROZ</th>\n",
       "    </tr>\n",
       "  </thead>\n",
       "  <tbody>\n",
       "    <tr>\n",
       "      <th rowspan=\"3\" valign=\"top\">BRASIL</th>\n",
       "      <th>2017</th>\n",
       "      <td>-0.606636</td>\n",
       "      <td>-0.677082</td>\n",
       "    </tr>\n",
       "    <tr>\n",
       "      <th>2018</th>\n",
       "      <td>1.282613</td>\n",
       "      <td>0.700863</td>\n",
       "    </tr>\n",
       "    <tr>\n",
       "      <th>2019</th>\n",
       "      <td>-1.112375</td>\n",
       "      <td>-0.257761</td>\n",
       "    </tr>\n",
       "    <tr>\n",
       "      <th rowspan=\"3\" valign=\"top\">EUA</th>\n",
       "      <th>2017</th>\n",
       "      <td>-0.220667</td>\n",
       "      <td>0.942333</td>\n",
       "    </tr>\n",
       "    <tr>\n",
       "      <th>2018</th>\n",
       "      <td>0.512241</td>\n",
       "      <td>1.479796</td>\n",
       "    </tr>\n",
       "    <tr>\n",
       "      <th>2019</th>\n",
       "      <td>-0.638018</td>\n",
       "      <td>-0.497122</td>\n",
       "    </tr>\n",
       "  </tbody>\n",
       "</table>\n",
       "</div>"
      ],
      "text/plain": [
       "             EXP TRIGO  EXP ARROZ\n",
       "BRASIL 2017  -0.606636  -0.677082\n",
       "       2018   1.282613   0.700863\n",
       "       2019  -1.112375  -0.257761\n",
       "EUA    2017  -0.220667   0.942333\n",
       "       2018   0.512241   1.479796\n",
       "       2019  -0.638018  -0.497122"
      ]
     },
     "execution_count": 15,
     "metadata": {},
     "output_type": "execute_result"
    }
   ],
   "source": [
    "df1"
   ]
  },
  {
   "cell_type": "code",
   "execution_count": 16,
   "id": "3aa68d83-4056-4f3c-be8a-e413e34d5905",
   "metadata": {},
   "outputs": [],
   "source": [
    "df1.index.names = ['PAÍS','ANO']"
   ]
  },
  {
   "cell_type": "code",
   "execution_count": 18,
   "id": "43dfcaff-79bf-49c3-b561-e1db4fe2249d",
   "metadata": {},
   "outputs": [
    {
     "data": {
      "text/html": [
       "<div>\n",
       "<style scoped>\n",
       "    .dataframe tbody tr th:only-of-type {\n",
       "        vertical-align: middle;\n",
       "    }\n",
       "\n",
       "    .dataframe tbody tr th {\n",
       "        vertical-align: top;\n",
       "    }\n",
       "\n",
       "    .dataframe thead th {\n",
       "        text-align: right;\n",
       "    }\n",
       "</style>\n",
       "<table border=\"1\" class=\"dataframe\">\n",
       "  <thead>\n",
       "    <tr style=\"text-align: right;\">\n",
       "      <th></th>\n",
       "      <th></th>\n",
       "      <th>EXP TRIGO</th>\n",
       "      <th>EXP ARROZ</th>\n",
       "    </tr>\n",
       "    <tr>\n",
       "      <th>PAÍS</th>\n",
       "      <th>ANO</th>\n",
       "      <th></th>\n",
       "      <th></th>\n",
       "    </tr>\n",
       "  </thead>\n",
       "  <tbody>\n",
       "    <tr>\n",
       "      <th rowspan=\"3\" valign=\"top\">BRASIL</th>\n",
       "      <th>2017</th>\n",
       "      <td>-0.606636</td>\n",
       "      <td>-0.677082</td>\n",
       "    </tr>\n",
       "    <tr>\n",
       "      <th>2018</th>\n",
       "      <td>1.282613</td>\n",
       "      <td>0.700863</td>\n",
       "    </tr>\n",
       "    <tr>\n",
       "      <th>2019</th>\n",
       "      <td>-1.112375</td>\n",
       "      <td>-0.257761</td>\n",
       "    </tr>\n",
       "    <tr>\n",
       "      <th rowspan=\"3\" valign=\"top\">EUA</th>\n",
       "      <th>2017</th>\n",
       "      <td>-0.220667</td>\n",
       "      <td>0.942333</td>\n",
       "    </tr>\n",
       "    <tr>\n",
       "      <th>2018</th>\n",
       "      <td>0.512241</td>\n",
       "      <td>1.479796</td>\n",
       "    </tr>\n",
       "    <tr>\n",
       "      <th>2019</th>\n",
       "      <td>-0.638018</td>\n",
       "      <td>-0.497122</td>\n",
       "    </tr>\n",
       "  </tbody>\n",
       "</table>\n",
       "</div>"
      ],
      "text/plain": [
       "             EXP TRIGO  EXP ARROZ\n",
       "PAÍS   ANO                       \n",
       "BRASIL 2017  -0.606636  -0.677082\n",
       "       2018   1.282613   0.700863\n",
       "       2019  -1.112375  -0.257761\n",
       "EUA    2017  -0.220667   0.942333\n",
       "       2018   0.512241   1.479796\n",
       "       2019  -0.638018  -0.497122"
      ]
     },
     "execution_count": 18,
     "metadata": {},
     "output_type": "execute_result"
    }
   ],
   "source": [
    "df1"
   ]
  },
  {
   "cell_type": "code",
   "execution_count": 19,
   "id": "84cd4c28-17b7-4310-8c3d-28b2d16edcac",
   "metadata": {},
   "outputs": [],
   "source": [
    "# encontrando valores "
   ]
  },
  {
   "cell_type": "code",
   "execution_count": 21,
   "id": "6e5ec3cb-646c-4435-8759-e80f1c83c286",
   "metadata": {},
   "outputs": [
    {
     "data": {
      "text/plain": [
       "PAÍS    ANO \n",
       "BRASIL  2017   -0.677082\n",
       "        2018    0.700863\n",
       "        2019   -0.257761\n",
       "EUA     2017    0.942333\n",
       "        2018    1.479796\n",
       "        2019   -0.497122\n",
       "Name: EXP ARROZ, dtype: float64"
      ]
     },
     "execution_count": 21,
     "metadata": {},
     "output_type": "execute_result"
    }
   ],
   "source": [
    "df1['EXP ARROZ']"
   ]
  },
  {
   "cell_type": "code",
   "execution_count": 23,
   "id": "1e86cb02-c3fb-4da3-b7ae-57a827b957c9",
   "metadata": {},
   "outputs": [
    {
     "data": {
      "text/html": [
       "<div>\n",
       "<style scoped>\n",
       "    .dataframe tbody tr th:only-of-type {\n",
       "        vertical-align: middle;\n",
       "    }\n",
       "\n",
       "    .dataframe tbody tr th {\n",
       "        vertical-align: top;\n",
       "    }\n",
       "\n",
       "    .dataframe thead th {\n",
       "        text-align: right;\n",
       "    }\n",
       "</style>\n",
       "<table border=\"1\" class=\"dataframe\">\n",
       "  <thead>\n",
       "    <tr style=\"text-align: right;\">\n",
       "      <th></th>\n",
       "      <th>EXP TRIGO</th>\n",
       "      <th>EXP ARROZ</th>\n",
       "    </tr>\n",
       "    <tr>\n",
       "      <th>ANO</th>\n",
       "      <th></th>\n",
       "      <th></th>\n",
       "    </tr>\n",
       "  </thead>\n",
       "  <tbody>\n",
       "    <tr>\n",
       "      <th>2017</th>\n",
       "      <td>-0.606636</td>\n",
       "      <td>-0.677082</td>\n",
       "    </tr>\n",
       "    <tr>\n",
       "      <th>2018</th>\n",
       "      <td>1.282613</td>\n",
       "      <td>0.700863</td>\n",
       "    </tr>\n",
       "    <tr>\n",
       "      <th>2019</th>\n",
       "      <td>-1.112375</td>\n",
       "      <td>-0.257761</td>\n",
       "    </tr>\n",
       "  </tbody>\n",
       "</table>\n",
       "</div>"
      ],
      "text/plain": [
       "      EXP TRIGO  EXP ARROZ\n",
       "ANO                       \n",
       "2017  -0.606636  -0.677082\n",
       "2018   1.282613   0.700863\n",
       "2019  -1.112375  -0.257761"
      ]
     },
     "execution_count": 23,
     "metadata": {},
     "output_type": "execute_result"
    }
   ],
   "source": [
    "df1.loc['BRASIL']"
   ]
  },
  {
   "cell_type": "code",
   "execution_count": 33,
   "id": "68ecd2a4-309b-4f6e-94d7-21e277943aed",
   "metadata": {},
   "outputs": [
    {
     "data": {
      "text/html": [
       "<div>\n",
       "<style scoped>\n",
       "    .dataframe tbody tr th:only-of-type {\n",
       "        vertical-align: middle;\n",
       "    }\n",
       "\n",
       "    .dataframe tbody tr th {\n",
       "        vertical-align: top;\n",
       "    }\n",
       "\n",
       "    .dataframe thead th {\n",
       "        text-align: right;\n",
       "    }\n",
       "</style>\n",
       "<table border=\"1\" class=\"dataframe\">\n",
       "  <thead>\n",
       "    <tr style=\"text-align: right;\">\n",
       "      <th></th>\n",
       "      <th>EXP TRIGO</th>\n",
       "      <th>EXP ARROZ</th>\n",
       "    </tr>\n",
       "    <tr>\n",
       "      <th>PAÍS</th>\n",
       "      <th></th>\n",
       "      <th></th>\n",
       "    </tr>\n",
       "  </thead>\n",
       "  <tbody>\n",
       "    <tr>\n",
       "      <th>BRASIL</th>\n",
       "      <td>-0.606636</td>\n",
       "      <td>-0.677082</td>\n",
       "    </tr>\n",
       "    <tr>\n",
       "      <th>EUA</th>\n",
       "      <td>-0.220667</td>\n",
       "      <td>0.942333</td>\n",
       "    </tr>\n",
       "  </tbody>\n",
       "</table>\n",
       "</div>"
      ],
      "text/plain": [
       "        EXP TRIGO  EXP ARROZ\n",
       "PAÍS                        \n",
       "BRASIL  -0.606636  -0.677082\n",
       "EUA     -0.220667   0.942333"
      ]
     },
     "execution_count": 33,
     "metadata": {},
     "output_type": "execute_result"
    }
   ],
   "source": [
    "df1.xs('2017', level=1)"
   ]
  },
  {
   "cell_type": "code",
   "execution_count": 35,
   "id": "7bd5ee4f-24fc-45ab-bc1e-871c3232ffd5",
   "metadata": {},
   "outputs": [
    {
     "data": {
      "text/html": [
       "<div>\n",
       "<style scoped>\n",
       "    .dataframe tbody tr th:only-of-type {\n",
       "        vertical-align: middle;\n",
       "    }\n",
       "\n",
       "    .dataframe tbody tr th {\n",
       "        vertical-align: top;\n",
       "    }\n",
       "\n",
       "    .dataframe thead th {\n",
       "        text-align: right;\n",
       "    }\n",
       "</style>\n",
       "<table border=\"1\" class=\"dataframe\">\n",
       "  <thead>\n",
       "    <tr style=\"text-align: right;\">\n",
       "      <th></th>\n",
       "      <th></th>\n",
       "      <th>EXP TRIGO</th>\n",
       "      <th>EXP ARROZ</th>\n",
       "    </tr>\n",
       "    <tr>\n",
       "      <th>PAÍS</th>\n",
       "      <th>ANO</th>\n",
       "      <th></th>\n",
       "      <th></th>\n",
       "    </tr>\n",
       "  </thead>\n",
       "  <tbody>\n",
       "    <tr>\n",
       "      <th rowspan=\"3\" valign=\"top\">BRASIL</th>\n",
       "      <th>2017</th>\n",
       "      <td>-0.606636</td>\n",
       "      <td>-0.677082</td>\n",
       "    </tr>\n",
       "    <tr>\n",
       "      <th>2018</th>\n",
       "      <td>1.282613</td>\n",
       "      <td>0.700863</td>\n",
       "    </tr>\n",
       "    <tr>\n",
       "      <th>2019</th>\n",
       "      <td>-1.112375</td>\n",
       "      <td>-0.257761</td>\n",
       "    </tr>\n",
       "    <tr>\n",
       "      <th rowspan=\"2\" valign=\"top\">EUA</th>\n",
       "      <th>2017</th>\n",
       "      <td>-0.220667</td>\n",
       "      <td>0.942333</td>\n",
       "    </tr>\n",
       "    <tr>\n",
       "      <th>2018</th>\n",
       "      <td>0.512241</td>\n",
       "      <td>1.479796</td>\n",
       "    </tr>\n",
       "  </tbody>\n",
       "</table>\n",
       "</div>"
      ],
      "text/plain": [
       "             EXP TRIGO  EXP ARROZ\n",
       "PAÍS   ANO                       \n",
       "BRASIL 2017  -0.606636  -0.677082\n",
       "       2018   1.282613   0.700863\n",
       "       2019  -1.112375  -0.257761\n",
       "EUA    2017  -0.220667   0.942333\n",
       "       2018   0.512241   1.479796"
      ]
     },
     "execution_count": 35,
     "metadata": {},
     "output_type": "execute_result"
    }
   ],
   "source": [
    "df1[:5]"
   ]
  },
  {
   "cell_type": "code",
   "execution_count": 37,
   "id": "a5e7719b-78eb-4b60-a2be-ca7ddd5b7def",
   "metadata": {},
   "outputs": [
    {
     "data": {
      "text/html": [
       "<div>\n",
       "<style scoped>\n",
       "    .dataframe tbody tr th:only-of-type {\n",
       "        vertical-align: middle;\n",
       "    }\n",
       "\n",
       "    .dataframe tbody tr th {\n",
       "        vertical-align: top;\n",
       "    }\n",
       "\n",
       "    .dataframe thead th {\n",
       "        text-align: right;\n",
       "    }\n",
       "</style>\n",
       "<table border=\"1\" class=\"dataframe\">\n",
       "  <thead>\n",
       "    <tr style=\"text-align: right;\">\n",
       "      <th></th>\n",
       "      <th></th>\n",
       "      <th>EXP TRIGO</th>\n",
       "      <th>EXP ARROZ</th>\n",
       "    </tr>\n",
       "    <tr>\n",
       "      <th>PAÍS</th>\n",
       "      <th>ANO</th>\n",
       "      <th></th>\n",
       "      <th></th>\n",
       "    </tr>\n",
       "  </thead>\n",
       "  <tbody>\n",
       "    <tr>\n",
       "      <th rowspan=\"3\" valign=\"top\">BRASIL</th>\n",
       "      <th>2017</th>\n",
       "      <td>-0.606636</td>\n",
       "      <td>-0.677082</td>\n",
       "    </tr>\n",
       "    <tr>\n",
       "      <th>2018</th>\n",
       "      <td>1.282613</td>\n",
       "      <td>0.700863</td>\n",
       "    </tr>\n",
       "    <tr>\n",
       "      <th>2019</th>\n",
       "      <td>-1.112375</td>\n",
       "      <td>-0.257761</td>\n",
       "    </tr>\n",
       "    <tr>\n",
       "      <th rowspan=\"3\" valign=\"top\">EUA</th>\n",
       "      <th>2017</th>\n",
       "      <td>-0.220667</td>\n",
       "      <td>0.942333</td>\n",
       "    </tr>\n",
       "    <tr>\n",
       "      <th>2018</th>\n",
       "      <td>0.512241</td>\n",
       "      <td>1.479796</td>\n",
       "    </tr>\n",
       "    <tr>\n",
       "      <th>2019</th>\n",
       "      <td>-0.638018</td>\n",
       "      <td>-0.497122</td>\n",
       "    </tr>\n",
       "  </tbody>\n",
       "</table>\n",
       "</div>"
      ],
      "text/plain": [
       "             EXP TRIGO  EXP ARROZ\n",
       "PAÍS   ANO                       \n",
       "BRASIL 2017  -0.606636  -0.677082\n",
       "       2018   1.282613   0.700863\n",
       "       2019  -1.112375  -0.257761\n",
       "EUA    2017  -0.220667   0.942333\n",
       "       2018   0.512241   1.479796\n",
       "       2019  -0.638018  -0.497122"
      ]
     },
     "execution_count": 37,
     "metadata": {},
     "output_type": "execute_result"
    }
   ],
   "source": [
    "df1[['EXP TRIGO','EXP ARROZ']]"
   ]
  },
  {
   "cell_type": "code",
   "execution_count": 38,
   "id": "3acabd93-22e3-4008-9b9a-a1a364ce7cf6",
   "metadata": {},
   "outputs": [],
   "source": [
    "# vendo o dataframe de outra maneira, usando o unstack"
   ]
  },
  {
   "cell_type": "code",
   "execution_count": 40,
   "id": "930ea6a6-755f-41a4-9b33-bf815337e829",
   "metadata": {},
   "outputs": [
    {
     "data": {
      "text/html": [
       "<div>\n",
       "<style scoped>\n",
       "    .dataframe tbody tr th:only-of-type {\n",
       "        vertical-align: middle;\n",
       "    }\n",
       "\n",
       "    .dataframe tbody tr th {\n",
       "        vertical-align: top;\n",
       "    }\n",
       "\n",
       "    .dataframe thead tr th {\n",
       "        text-align: left;\n",
       "    }\n",
       "\n",
       "    .dataframe thead tr:last-of-type th {\n",
       "        text-align: right;\n",
       "    }\n",
       "</style>\n",
       "<table border=\"1\" class=\"dataframe\">\n",
       "  <thead>\n",
       "    <tr>\n",
       "      <th></th>\n",
       "      <th colspan=\"3\" halign=\"left\">EXP TRIGO</th>\n",
       "      <th colspan=\"3\" halign=\"left\">EXP ARROZ</th>\n",
       "    </tr>\n",
       "    <tr>\n",
       "      <th>ANO</th>\n",
       "      <th>2017</th>\n",
       "      <th>2018</th>\n",
       "      <th>2019</th>\n",
       "      <th>2017</th>\n",
       "      <th>2018</th>\n",
       "      <th>2019</th>\n",
       "    </tr>\n",
       "    <tr>\n",
       "      <th>PAÍS</th>\n",
       "      <th></th>\n",
       "      <th></th>\n",
       "      <th></th>\n",
       "      <th></th>\n",
       "      <th></th>\n",
       "      <th></th>\n",
       "    </tr>\n",
       "  </thead>\n",
       "  <tbody>\n",
       "    <tr>\n",
       "      <th>BRASIL</th>\n",
       "      <td>-0.606636</td>\n",
       "      <td>1.282613</td>\n",
       "      <td>-1.112375</td>\n",
       "      <td>-0.677082</td>\n",
       "      <td>0.700863</td>\n",
       "      <td>-0.257761</td>\n",
       "    </tr>\n",
       "    <tr>\n",
       "      <th>EUA</th>\n",
       "      <td>-0.220667</td>\n",
       "      <td>0.512241</td>\n",
       "      <td>-0.638018</td>\n",
       "      <td>0.942333</td>\n",
       "      <td>1.479796</td>\n",
       "      <td>-0.497122</td>\n",
       "    </tr>\n",
       "  </tbody>\n",
       "</table>\n",
       "</div>"
      ],
      "text/plain": [
       "       EXP TRIGO                     EXP ARROZ                    \n",
       "ANO         2017      2018      2019      2017      2018      2019\n",
       "PAÍS                                                              \n",
       "BRASIL -0.606636  1.282613 -1.112375 -0.677082  0.700863 -0.257761\n",
       "EUA    -0.220667  0.512241 -0.638018  0.942333  1.479796 -0.497122"
      ]
     },
     "execution_count": 40,
     "metadata": {},
     "output_type": "execute_result"
    }
   ],
   "source": [
    "df1.unstack()"
   ]
  },
  {
   "cell_type": "code",
   "execution_count": 43,
   "id": "d1d6e510-4f52-44f3-90ca-da48f9f1e48a",
   "metadata": {},
   "outputs": [],
   "source": [
    "df2 = df1.unstack()"
   ]
  },
  {
   "cell_type": "code",
   "execution_count": 45,
   "id": "289d8178-e570-412a-9036-a37daf3b6cc3",
   "metadata": {},
   "outputs": [
    {
     "data": {
      "text/html": [
       "<div>\n",
       "<style scoped>\n",
       "    .dataframe tbody tr th:only-of-type {\n",
       "        vertical-align: middle;\n",
       "    }\n",
       "\n",
       "    .dataframe tbody tr th {\n",
       "        vertical-align: top;\n",
       "    }\n",
       "\n",
       "    .dataframe thead tr th {\n",
       "        text-align: left;\n",
       "    }\n",
       "\n",
       "    .dataframe thead tr:last-of-type th {\n",
       "        text-align: right;\n",
       "    }\n",
       "</style>\n",
       "<table border=\"1\" class=\"dataframe\">\n",
       "  <thead>\n",
       "    <tr>\n",
       "      <th></th>\n",
       "      <th colspan=\"3\" halign=\"left\">EXP TRIGO</th>\n",
       "      <th colspan=\"3\" halign=\"left\">EXP ARROZ</th>\n",
       "    </tr>\n",
       "    <tr>\n",
       "      <th>ANO</th>\n",
       "      <th>2017</th>\n",
       "      <th>2018</th>\n",
       "      <th>2019</th>\n",
       "      <th>2017</th>\n",
       "      <th>2018</th>\n",
       "      <th>2019</th>\n",
       "    </tr>\n",
       "    <tr>\n",
       "      <th>PAÍS</th>\n",
       "      <th></th>\n",
       "      <th></th>\n",
       "      <th></th>\n",
       "      <th></th>\n",
       "      <th></th>\n",
       "      <th></th>\n",
       "    </tr>\n",
       "  </thead>\n",
       "  <tbody>\n",
       "    <tr>\n",
       "      <th>BRASIL</th>\n",
       "      <td>-0.606636</td>\n",
       "      <td>1.282613</td>\n",
       "      <td>-1.112375</td>\n",
       "      <td>-0.677082</td>\n",
       "      <td>0.700863</td>\n",
       "      <td>-0.257761</td>\n",
       "    </tr>\n",
       "    <tr>\n",
       "      <th>EUA</th>\n",
       "      <td>-0.220667</td>\n",
       "      <td>0.512241</td>\n",
       "      <td>-0.638018</td>\n",
       "      <td>0.942333</td>\n",
       "      <td>1.479796</td>\n",
       "      <td>-0.497122</td>\n",
       "    </tr>\n",
       "  </tbody>\n",
       "</table>\n",
       "</div>"
      ],
      "text/plain": [
       "       EXP TRIGO                     EXP ARROZ                    \n",
       "ANO         2017      2018      2019      2017      2018      2019\n",
       "PAÍS                                                              \n",
       "BRASIL -0.606636  1.282613 -1.112375 -0.677082  0.700863 -0.257761\n",
       "EUA    -0.220667  0.512241 -0.638018  0.942333  1.479796 -0.497122"
      ]
     },
     "execution_count": 45,
     "metadata": {},
     "output_type": "execute_result"
    }
   ],
   "source": [
    "df2"
   ]
  },
  {
   "cell_type": "code",
   "execution_count": 48,
   "id": "dc8b2c52-562d-4db9-a091-23288702b9c1",
   "metadata": {},
   "outputs": [
    {
     "data": {
      "text/html": [
       "<div>\n",
       "<style scoped>\n",
       "    .dataframe tbody tr th:only-of-type {\n",
       "        vertical-align: middle;\n",
       "    }\n",
       "\n",
       "    .dataframe tbody tr th {\n",
       "        vertical-align: top;\n",
       "    }\n",
       "\n",
       "    .dataframe thead th {\n",
       "        text-align: right;\n",
       "    }\n",
       "</style>\n",
       "<table border=\"1\" class=\"dataframe\">\n",
       "  <thead>\n",
       "    <tr style=\"text-align: right;\">\n",
       "      <th></th>\n",
       "      <th>EXP TRIGO</th>\n",
       "      <th>EXP ARROZ</th>\n",
       "    </tr>\n",
       "    <tr>\n",
       "      <th>PAÍS</th>\n",
       "      <th></th>\n",
       "      <th></th>\n",
       "    </tr>\n",
       "  </thead>\n",
       "  <tbody>\n",
       "    <tr>\n",
       "      <th>BRASIL</th>\n",
       "      <td>-0.606636</td>\n",
       "      <td>-0.677082</td>\n",
       "    </tr>\n",
       "    <tr>\n",
       "      <th>EUA</th>\n",
       "      <td>-0.220667</td>\n",
       "      <td>0.942333</td>\n",
       "    </tr>\n",
       "  </tbody>\n",
       "</table>\n",
       "</div>"
      ],
      "text/plain": [
       "        EXP TRIGO  EXP ARROZ\n",
       "PAÍS                        \n",
       "BRASIL  -0.606636  -0.677082\n",
       "EUA     -0.220667   0.942333"
      ]
     },
     "execution_count": 48,
     "metadata": {},
     "output_type": "execute_result"
    }
   ],
   "source": [
    "df2.xs('2017',axis=1,level=1)"
   ]
  }
 ],
 "metadata": {
  "kernelspec": {
   "display_name": "Python 3 (ipykernel)",
   "language": "python",
   "name": "python3"
  },
  "language_info": {
   "codemirror_mode": {
    "name": "ipython",
    "version": 3
   },
   "file_extension": ".py",
   "mimetype": "text/x-python",
   "name": "python",
   "nbconvert_exporter": "python",
   "pygments_lexer": "ipython3",
   "version": "3.12.4"
  }
 },
 "nbformat": 4,
 "nbformat_minor": 5
}
