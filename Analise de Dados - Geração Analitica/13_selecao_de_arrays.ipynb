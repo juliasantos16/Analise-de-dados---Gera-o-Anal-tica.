{
 "cells": [
  {
   "cell_type": "code",
   "execution_count": 1,
   "id": "3ba1f492-7283-4e58-9f53-e1fa9b5e0c89",
   "metadata": {},
   "outputs": [],
   "source": [
    "# Seleção de arrays no numpy"
   ]
  },
  {
   "cell_type": "code",
   "execution_count": 2,
   "id": "1d6ba369-4119-4031-bd77-b21ee083a0d4",
   "metadata": {},
   "outputs": [],
   "source": [
    "import numpy as np"
   ]
  },
  {
   "cell_type": "code",
   "execution_count": 3,
   "id": "e7564206-d79b-47ce-87ab-960f7bf8e587",
   "metadata": {},
   "outputs": [],
   "source": [
    "a = 40\n",
    "b = 70"
   ]
  },
  {
   "cell_type": "code",
   "execution_count": 6,
   "id": "4df7c58f-a1da-40e5-8205-7b921667aea7",
   "metadata": {},
   "outputs": [
    {
     "data": {
      "text/plain": [
       "False"
      ]
     },
     "execution_count": 6,
     "metadata": {},
     "output_type": "execute_result"
    }
   ],
   "source": [
    "a>b"
   ]
  },
  {
   "cell_type": "code",
   "execution_count": 8,
   "id": "55b209e4-c658-4fd3-8a21-92699b55eb27",
   "metadata": {},
   "outputs": [],
   "source": [
    "cadastro = np.random.randint(15,51,size=(15,15))"
   ]
  },
  {
   "cell_type": "code",
   "execution_count": 10,
   "id": "bf41f376-9d4f-4218-93dc-4973842c761e",
   "metadata": {},
   "outputs": [
    {
     "data": {
      "text/plain": [
       "array([[30, 36, 20, 32, 41, 16, 26, 48, 32, 39, 29, 45, 33, 20, 36],\n",
       "       [27, 48, 23, 35, 26, 15, 25, 33, 21, 47, 17, 33, 24, 40, 15],\n",
       "       [39, 35, 44, 19, 49, 24, 28, 32, 37, 38, 19, 19, 49, 25, 23],\n",
       "       [21, 15, 36, 17, 27, 29, 21, 22, 16, 46, 46, 27, 35, 33, 15],\n",
       "       [15, 31, 17, 35, 30, 21, 32, 19, 46, 25, 48, 47, 49, 42, 23],\n",
       "       [41, 40, 37, 25, 22, 46, 37, 39, 43, 18, 41, 43, 29, 48, 22],\n",
       "       [25, 39, 33, 23, 34, 50, 16, 29, 41, 18, 33, 35, 40, 42, 18],\n",
       "       [36, 40, 36, 37, 20, 16, 49, 37, 44, 33, 24, 49, 27, 47, 34],\n",
       "       [21, 32, 16, 30, 40, 50, 47, 28, 42, 44, 37, 47, 23, 39, 49],\n",
       "       [49, 38, 48, 30, 50, 31, 21, 23, 26, 46, 49, 24, 43, 15, 34],\n",
       "       [22, 35, 50, 32, 34, 24, 49, 29, 26, 27, 39, 47, 15, 38, 16],\n",
       "       [25, 19, 41, 46, 26, 16, 44, 26, 26, 46, 26, 19, 24, 15, 35],\n",
       "       [48, 20, 26, 15, 36, 38, 27, 43, 50, 15, 48, 34, 15, 17, 36],\n",
       "       [21, 19, 43, 16, 22, 25, 20, 32, 34, 36, 49, 30, 38, 30, 50],\n",
       "       [47, 21, 21, 50, 28, 31, 21, 29, 37, 21, 24, 37, 25, 47, 21]])"
      ]
     },
     "execution_count": 10,
     "metadata": {},
     "output_type": "execute_result"
    }
   ],
   "source": [
    "cadastro"
   ]
  },
  {
   "cell_type": "code",
   "execution_count": 11,
   "id": "5b42a2ce-c0ee-47ce-b30d-80b85ad11ae0",
   "metadata": {},
   "outputs": [],
   "source": [
    "cadastro_maior18 = cadastro > 18"
   ]
  },
  {
   "cell_type": "code",
   "execution_count": 12,
   "id": "19c06bbb-e981-4ffe-b384-a488018bde44",
   "metadata": {},
   "outputs": [
    {
     "data": {
      "text/plain": [
       "array([[ True,  True,  True,  True,  True, False,  True,  True,  True,\n",
       "         True,  True,  True,  True,  True,  True],\n",
       "       [ True,  True,  True,  True,  True, False,  True,  True,  True,\n",
       "         True, False,  True,  True,  True, False],\n",
       "       [ True,  True,  True,  True,  True,  True,  True,  True,  True,\n",
       "         True,  True,  True,  True,  True,  True],\n",
       "       [ True, False,  True, False,  True,  True,  True,  True, False,\n",
       "         True,  True,  True,  True,  True, False],\n",
       "       [False,  True, False,  True,  True,  True,  True,  True,  True,\n",
       "         True,  True,  True,  True,  True,  True],\n",
       "       [ True,  True,  True,  True,  True,  True,  True,  True,  True,\n",
       "        False,  True,  True,  True,  True,  True],\n",
       "       [ True,  True,  True,  True,  True,  True, False,  True,  True,\n",
       "        False,  True,  True,  True,  True, False],\n",
       "       [ True,  True,  True,  True,  True, False,  True,  True,  True,\n",
       "         True,  True,  True,  True,  True,  True],\n",
       "       [ True,  True, False,  True,  True,  True,  True,  True,  True,\n",
       "         True,  True,  True,  True,  True,  True],\n",
       "       [ True,  True,  True,  True,  True,  True,  True,  True,  True,\n",
       "         True,  True,  True,  True, False,  True],\n",
       "       [ True,  True,  True,  True,  True,  True,  True,  True,  True,\n",
       "         True,  True,  True, False,  True, False],\n",
       "       [ True,  True,  True,  True,  True, False,  True,  True,  True,\n",
       "         True,  True,  True,  True, False,  True],\n",
       "       [ True,  True,  True, False,  True,  True,  True,  True,  True,\n",
       "        False,  True,  True, False, False,  True],\n",
       "       [ True,  True,  True, False,  True,  True,  True,  True,  True,\n",
       "         True,  True,  True,  True,  True,  True],\n",
       "       [ True,  True,  True,  True,  True,  True,  True,  True,  True,\n",
       "         True,  True,  True,  True,  True,  True]])"
      ]
     },
     "execution_count": 12,
     "metadata": {},
     "output_type": "execute_result"
    }
   ],
   "source": [
    "cadastro_maior18"
   ]
  },
  {
   "cell_type": "code",
   "execution_count": 14,
   "id": "0e66d203-8ae4-436f-acc3-64e38cc202f4",
   "metadata": {},
   "outputs": [
    {
     "data": {
      "text/plain": [
       "array([30, 36, 20, 32, 41, 26, 48, 32, 39, 29, 45, 33, 20, 36, 27, 48, 23,\n",
       "       35, 26, 25, 33, 21, 47, 33, 24, 40, 39, 35, 44, 19, 49, 24, 28, 32,\n",
       "       37, 38, 19, 19, 49, 25, 23, 21, 36, 27, 29, 21, 22, 46, 46, 27, 35,\n",
       "       33, 31, 35, 30, 21, 32, 19, 46, 25, 48, 47, 49, 42, 23, 41, 40, 37,\n",
       "       25, 22, 46, 37, 39, 43, 41, 43, 29, 48, 22, 25, 39, 33, 23, 34, 50,\n",
       "       29, 41, 33, 35, 40, 42, 36, 40, 36, 37, 20, 49, 37, 44, 33, 24, 49,\n",
       "       27, 47, 34, 21, 32, 30, 40, 50, 47, 28, 42, 44, 37, 47, 23, 39, 49,\n",
       "       49, 38, 48, 30, 50, 31, 21, 23, 26, 46, 49, 24, 43, 34, 22, 35, 50,\n",
       "       32, 34, 24, 49, 29, 26, 27, 39, 47, 38, 25, 19, 41, 46, 26, 44, 26,\n",
       "       26, 46, 26, 19, 24, 35, 48, 20, 26, 36, 38, 27, 43, 50, 48, 34, 36,\n",
       "       21, 19, 43, 22, 25, 20, 32, 34, 36, 49, 30, 38, 30, 50, 47, 21, 21,\n",
       "       50, 28, 31, 21, 29, 37, 21, 24, 37, 25, 47, 21])"
      ]
     },
     "execution_count": 14,
     "metadata": {},
     "output_type": "execute_result"
    }
   ],
   "source": [
    "cadastro[cadastro_maior18]"
   ]
  },
  {
   "cell_type": "code",
   "execution_count": 16,
   "id": "a4f08e6e-1dd3-4d12-b726-55de4ea25982",
   "metadata": {},
   "outputs": [
    {
     "data": {
      "text/plain": [
       "array([30, 36, 20, 32, 41, 16, 26, 48, 32, 39, 29, 45, 33, 20, 36, 27, 48,\n",
       "       23, 35, 26, 15, 25, 33, 21, 47, 17, 33, 24, 40, 15, 39, 35, 44, 19,\n",
       "       49, 24, 28, 32, 37, 38, 19, 19, 49, 25, 23, 21, 15, 36, 17, 27, 29,\n",
       "       21, 22, 16, 46, 46, 27, 35, 33, 15, 15, 31, 17, 35, 30, 21, 32, 19,\n",
       "       46, 25, 48, 47, 49, 42, 23, 41, 40, 37, 25, 22, 46, 37, 39, 43, 18,\n",
       "       41, 43, 29, 48, 22, 25, 39, 33, 23, 34, 50, 16, 29, 41, 18, 33, 35,\n",
       "       40, 42, 18, 36, 40, 36, 37, 20, 16, 49, 37, 44, 33, 24, 49, 27, 47,\n",
       "       34, 21, 32, 16, 30, 40, 50, 47, 28, 42, 44, 37, 47, 23, 39, 49, 49,\n",
       "       38, 48, 30, 50, 31, 21, 23, 26, 46, 49, 24, 43, 15, 34, 22, 35, 50,\n",
       "       32, 34, 24, 49, 29, 26, 27, 39, 47, 15, 38, 16, 25, 19, 41, 46, 26,\n",
       "       16, 44, 26, 26, 46, 26, 19, 24, 15, 35, 48, 20, 26, 15, 36, 38, 27,\n",
       "       43, 50, 15, 48, 34, 15, 17, 36, 21, 19, 43, 16, 22, 25, 20, 32, 34,\n",
       "       36, 49, 30, 38, 30, 50, 47, 21, 21, 50, 28, 31, 21, 29, 37, 21, 24,\n",
       "       37, 25, 47, 21])"
      ]
     },
     "execution_count": 16,
     "metadata": {},
     "output_type": "execute_result"
    }
   ],
   "source": [
    "arr = cadastro[cadastro>8]"
   ]
  },
  {
   "cell_type": "code",
   "execution_count": 18,
   "id": "3bf4d703-f1ee-42a6-85cb-8a0d18b595f1",
   "metadata": {},
   "outputs": [],
   "source": [
    "arr = cadastro[cadastro>8]"
   ]
  },
  {
   "cell_type": "code",
   "execution_count": 20,
   "id": "1927cf5e-f264-4b2f-b9b8-03d5db1af527",
   "metadata": {},
   "outputs": [
    {
     "data": {
      "text/plain": [
       "225"
      ]
     },
     "execution_count": 20,
     "metadata": {},
     "output_type": "execute_result"
    }
   ],
   "source": [
    "len(arr)"
   ]
  },
  {
   "cell_type": "code",
   "execution_count": 22,
   "id": "c5d95e6a-10fc-4a07-91c1-e9e66d28b339",
   "metadata": {},
   "outputs": [
    {
     "data": {
      "text/plain": [
       "array([[ True,  True,  True,  True,  True, False,  True,  True,  True,\n",
       "         True,  True,  True,  True,  True,  True],\n",
       "       [ True,  True,  True,  True,  True, False,  True,  True,  True,\n",
       "         True, False,  True,  True,  True, False],\n",
       "       [ True,  True,  True,  True,  True,  True,  True,  True,  True,\n",
       "         True,  True,  True,  True,  True,  True],\n",
       "       [ True, False,  True, False,  True,  True,  True,  True, False,\n",
       "         True,  True,  True,  True,  True, False],\n",
       "       [False,  True, False,  True,  True,  True,  True,  True,  True,\n",
       "         True,  True,  True,  True,  True,  True],\n",
       "       [ True,  True,  True,  True,  True,  True,  True,  True,  True,\n",
       "        False,  True,  True,  True,  True,  True],\n",
       "       [ True,  True,  True,  True,  True,  True, False,  True,  True,\n",
       "        False,  True,  True,  True,  True, False],\n",
       "       [ True,  True,  True,  True,  True, False,  True,  True,  True,\n",
       "         True,  True,  True,  True,  True,  True],\n",
       "       [ True,  True, False,  True,  True,  True,  True,  True,  True,\n",
       "         True,  True,  True,  True,  True,  True],\n",
       "       [ True,  True,  True,  True,  True,  True,  True,  True,  True,\n",
       "         True,  True,  True,  True, False,  True],\n",
       "       [ True,  True,  True,  True,  True,  True,  True,  True,  True,\n",
       "         True,  True,  True, False,  True, False],\n",
       "       [ True,  True,  True,  True,  True, False,  True,  True,  True,\n",
       "         True,  True,  True,  True, False,  True],\n",
       "       [ True,  True,  True, False,  True,  True,  True,  True,  True,\n",
       "        False,  True,  True, False, False,  True],\n",
       "       [ True,  True,  True, False,  True,  True,  True,  True,  True,\n",
       "         True,  True,  True,  True,  True,  True],\n",
       "       [ True,  True,  True,  True,  True,  True,  True,  True,  True,\n",
       "         True,  True,  True,  True,  True,  True]])"
      ]
     },
     "execution_count": 22,
     "metadata": {},
     "output_type": "execute_result"
    }
   ],
   "source": [
    "cadastro_maior18"
   ]
  },
  {
   "cell_type": "code",
   "execution_count": 24,
   "id": "2b010b20-c399-4a92-b2c9-6e179a77a043",
   "metadata": {},
   "outputs": [
    {
     "data": {
      "text/plain": [
       "array([36, 32, 41, 48, 32, 39, 45, 33, 36, 48, 35, 33, 47, 33, 40, 39, 35,\n",
       "       44, 49, 32, 37, 38, 49, 36, 46, 46, 35, 33, 31, 35, 32, 46, 48, 47,\n",
       "       49, 42, 41, 40, 37, 46, 37, 39, 43, 41, 43, 48, 39, 33, 34, 50, 41,\n",
       "       33, 35, 40, 42, 36, 40, 36, 37, 49, 37, 44, 33, 49, 47, 34, 32, 40,\n",
       "       50, 47, 42, 44, 37, 47, 39, 49, 49, 38, 48, 50, 31, 46, 49, 43, 34,\n",
       "       35, 50, 32, 34, 49, 39, 47, 38, 41, 46, 44, 46, 35, 48, 36, 38, 43,\n",
       "       50, 48, 34, 36, 43, 32, 34, 36, 49, 38, 50, 47, 50, 31, 37, 37, 47])"
      ]
     },
     "execution_count": 24,
     "metadata": {},
     "output_type": "execute_result"
    }
   ],
   "source": [
    "cadastro[cadastro>30]"
   ]
  },
  {
   "cell_type": "code",
   "execution_count": 25,
   "id": "526c4cba-8ac6-4a2a-87b3-ed00aa9e1b24",
   "metadata": {},
   "outputs": [],
   "source": [
    "arr4 = cadastro[cadastro>30]"
   ]
  },
  {
   "cell_type": "code",
   "execution_count": 27,
   "id": "63b6301a-6ec1-4340-bba3-bca4198a0368",
   "metadata": {},
   "outputs": [
    {
     "data": {
      "text/plain": [
       "119"
      ]
     },
     "execution_count": 27,
     "metadata": {},
     "output_type": "execute_result"
    }
   ],
   "source": [
    "len(arr4)"
   ]
  },
  {
   "cell_type": "code",
   "execution_count": 28,
   "id": "d0a7b279-6dda-484b-80a1-61d9715763dc",
   "metadata": {},
   "outputs": [],
   "source": [
    "condicao = (cadastro>30)"
   ]
  },
  {
   "cell_type": "code",
   "execution_count": 30,
   "id": "bb344478-9fa4-41ba-a9a0-48d268630993",
   "metadata": {},
   "outputs": [],
   "source": [
    "extraido = np.extract(condicao, cadastro)"
   ]
  },
  {
   "cell_type": "code",
   "execution_count": 31,
   "id": "acda07bd-e8e1-442c-97a2-51f438a30c79",
   "metadata": {},
   "outputs": [
    {
     "data": {
      "text/plain": [
       "array([36, 32, 41, 48, 32, 39, 45, 33, 36, 48, 35, 33, 47, 33, 40, 39, 35,\n",
       "       44, 49, 32, 37, 38, 49, 36, 46, 46, 35, 33, 31, 35, 32, 46, 48, 47,\n",
       "       49, 42, 41, 40, 37, 46, 37, 39, 43, 41, 43, 48, 39, 33, 34, 50, 41,\n",
       "       33, 35, 40, 42, 36, 40, 36, 37, 49, 37, 44, 33, 49, 47, 34, 32, 40,\n",
       "       50, 47, 42, 44, 37, 47, 39, 49, 49, 38, 48, 50, 31, 46, 49, 43, 34,\n",
       "       35, 50, 32, 34, 49, 39, 47, 38, 41, 46, 44, 46, 35, 48, 36, 38, 43,\n",
       "       50, 48, 34, 36, 43, 32, 34, 36, 49, 38, 50, 47, 50, 31, 37, 37, 47])"
      ]
     },
     "execution_count": 31,
     "metadata": {},
     "output_type": "execute_result"
    }
   ],
   "source": [
    "extraido"
   ]
  }
 ],
 "metadata": {
  "kernelspec": {
   "display_name": "Python 3 (ipykernel)",
   "language": "python",
   "name": "python3"
  },
  "language_info": {
   "codemirror_mode": {
    "name": "ipython",
    "version": 3
   },
   "file_extension": ".py",
   "mimetype": "text/x-python",
   "name": "python",
   "nbconvert_exporter": "python",
   "pygments_lexer": "ipython3",
   "version": "3.12.4"
  }
 },
 "nbformat": 4,
 "nbformat_minor": 5
}
