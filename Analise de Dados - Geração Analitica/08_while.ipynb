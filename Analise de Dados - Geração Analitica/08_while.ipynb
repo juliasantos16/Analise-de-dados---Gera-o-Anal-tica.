{
 "cells": [
  {
   "cell_type": "markdown",
   "id": "3162584a-0e36-49f7-9cab-12c25452bf37",
   "metadata": {},
   "source": [
    "while (condição)\n",
    "     bloco de ação\n",
    "     iterador"
   ]
  },
  {
   "cell_type": "code",
   "execution_count": 1,
   "id": "e35efcc9-7a16-49c3-be84-8ebc30b135f6",
   "metadata": {},
   "outputs": [
    {
     "name": "stdout",
     "output_type": "stream",
     "text": [
      "1\n",
      "2\n",
      "3\n",
      "4\n",
      "5\n",
      "6\n",
      "7\n",
      "8\n",
      "9\n",
      "10\n",
      "11\n",
      "12\n",
      "13\n",
      "14\n",
      "15\n",
      "16\n",
      "17\n",
      "18\n",
      "19\n",
      "20\n",
      "21\n",
      "22\n",
      "23\n",
      "24\n",
      "25\n",
      "26\n",
      "27\n",
      "28\n",
      "29\n",
      "30\n",
      "31\n",
      "32\n",
      "33\n",
      "34\n",
      "35\n",
      "36\n",
      "37\n",
      "38\n",
      "39\n",
      "40\n",
      "41\n",
      "42\n",
      "43\n",
      "44\n",
      "45\n",
      "46\n",
      "47\n",
      "48\n",
      "49\n",
      "50\n"
     ]
    }
   ],
   "source": [
    "cont = 1\n",
    "while (cont<=50):\n",
    "    print(cont)\n",
    "    cont = cont + 1"
   ]
  },
  {
   "cell_type": "code",
   "execution_count": 2,
   "id": "49287a24-8fb1-43e9-9cea-4c1380a00d68",
   "metadata": {},
   "outputs": [],
   "source": [
    "# break "
   ]
  },
  {
   "cell_type": "code",
   "execution_count": 5,
   "id": "0581ec2c-42c4-4661-90bd-06ee2b92d7e3",
   "metadata": {},
   "outputs": [
    {
     "name": "stdout",
     "output_type": "stream",
     "text": [
      "0\n",
      "1\n",
      "2\n",
      "3\n",
      "4\n",
      "5\n",
      "6\n",
      "7\n"
     ]
    }
   ],
   "source": [
    "cont = 0\n",
    "while (cont<=10):\n",
    "    print(cont)\n",
    "    if (cont == 7):\n",
    "        break\n",
    "    cont = cont + 1"
   ]
  },
  {
   "cell_type": "code",
   "execution_count": 6,
   "id": "ea69e28e-8289-40d6-b293-dad30f219554",
   "metadata": {},
   "outputs": [],
   "source": [
    "# continue "
   ]
  },
  {
   "cell_type": "code",
   "execution_count": 8,
   "id": "b626ade5-beec-48ae-86c6-ad7167d0aa25",
   "metadata": {},
   "outputs": [
    {
     "name": "stdout",
     "output_type": "stream",
     "text": [
      "1\n",
      "2\n",
      "3\n",
      "4\n",
      "5\n",
      "6\n",
      "8\n",
      "9\n",
      "10\n"
     ]
    }
   ],
   "source": [
    "cont = 0\n",
    "while (cont<10):\n",
    "    cont = cont + 1\n",
    "    if (cont == 7):\n",
    "        continue\n",
    "    print(cont)"
   ]
  }
 ],
 "metadata": {
  "kernelspec": {
   "display_name": "Python 3 (ipykernel)",
   "language": "python",
   "name": "python3"
  },
  "language_info": {
   "codemirror_mode": {
    "name": "ipython",
    "version": 3
   },
   "file_extension": ".py",
   "mimetype": "text/x-python",
   "name": "python",
   "nbconvert_exporter": "python",
   "pygments_lexer": "ipython3",
   "version": "3.12.4"
  }
 },
 "nbformat": 4,
 "nbformat_minor": 5
}
