{
 "cells": [
  {
   "cell_type": "code",
   "execution_count": null,
   "id": "6ffbbe75-6638-487c-9cf6-7555ab252375",
   "metadata": {},
   "outputs": [],
   "source": [
    "# não é permitido mudar os valores dentro da tupla"
   ]
  },
  {
   "cell_type": "code",
   "execution_count": 1,
   "id": "ee91d734-5476-49be-9209-f4bb3b6b9e69",
   "metadata": {},
   "outputs": [],
   "source": [
    "tupla = (5,10,15,20)"
   ]
  },
  {
   "cell_type": "code",
   "execution_count": 3,
   "id": "31698213-873c-4095-b816-830da2db8894",
   "metadata": {},
   "outputs": [
    {
     "data": {
      "text/plain": [
       "(5, 10, 15, 20)"
      ]
     },
     "execution_count": 3,
     "metadata": {},
     "output_type": "execute_result"
    }
   ],
   "source": [
    "tupla"
   ]
  },
  {
   "cell_type": "code",
   "execution_count": 5,
   "id": "0f78c531-a8a7-47dd-987f-57f6fbb4d43e",
   "metadata": {},
   "outputs": [
    {
     "data": {
      "text/plain": [
       "15"
      ]
     },
     "execution_count": 5,
     "metadata": {},
     "output_type": "execute_result"
    }
   ],
   "source": [
    "tupla[2]"
   ]
  },
  {
   "cell_type": "code",
   "execution_count": 6,
   "id": "95ced855-2f93-40eb-9c47-34dc08e8c083",
   "metadata": {},
   "outputs": [
    {
     "data": {
      "text/plain": [
       "(5, 10, 15, 20)"
      ]
     },
     "execution_count": 6,
     "metadata": {},
     "output_type": "execute_result"
    }
   ],
   "source": [
    "tupla[:4]"
   ]
  }
 ],
 "metadata": {
  "kernelspec": {
   "display_name": "Python 3 (ipykernel)",
   "language": "python",
   "name": "python3"
  },
  "language_info": {
   "codemirror_mode": {
    "name": "ipython",
    "version": 3
   },
   "file_extension": ".py",
   "mimetype": "text/x-python",
   "name": "python",
   "nbconvert_exporter": "python",
   "pygments_lexer": "ipython3",
   "version": "3.12.4"
  }
 },
 "nbformat": 4,
 "nbformat_minor": 5
}
