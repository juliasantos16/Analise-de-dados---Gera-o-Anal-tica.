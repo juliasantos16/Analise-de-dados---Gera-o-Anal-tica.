{
 "cells": [
  {
   "cell_type": "code",
   "execution_count": 1,
   "id": "d7228a4c-a238-4067-843e-9ce0ebcb5eac",
   "metadata": {},
   "outputs": [],
   "source": [
    "import pandas as pd\n",
    "import numpy as np"
   ]
  },
  {
   "cell_type": "code",
   "execution_count": 2,
   "id": "05b5c39a-33e6-4df6-9044-3c5a98a08edd",
   "metadata": {},
   "outputs": [],
   "source": [
    "data = {'Sede':['SP','SP','MG','MG','RJ','RJ','ES','ES'],\n",
    "       'Vendedor':['Jorge','Ana','Tiago','Pedro','Raphaela','Guto','Maria','Carolina'],\n",
    "       'Vendas':[2000,2500,3100,1200,1500,3900,2900,3900]}\n",
    "df = pd.DataFrame(data)"
   ]
  },
  {
   "cell_type": "code",
   "execution_count": 4,
   "id": "aaad42b8-9696-4579-bf2c-f0ecb6de2906",
   "metadata": {},
   "outputs": [
    {
     "data": {
      "text/html": [
       "<div>\n",
       "<style scoped>\n",
       "    .dataframe tbody tr th:only-of-type {\n",
       "        vertical-align: middle;\n",
       "    }\n",
       "\n",
       "    .dataframe tbody tr th {\n",
       "        vertical-align: top;\n",
       "    }\n",
       "\n",
       "    .dataframe thead th {\n",
       "        text-align: right;\n",
       "    }\n",
       "</style>\n",
       "<table border=\"1\" class=\"dataframe\">\n",
       "  <thead>\n",
       "    <tr style=\"text-align: right;\">\n",
       "      <th></th>\n",
       "      <th>Sede</th>\n",
       "      <th>Vendedor</th>\n",
       "      <th>Vendas</th>\n",
       "    </tr>\n",
       "  </thead>\n",
       "  <tbody>\n",
       "    <tr>\n",
       "      <th>0</th>\n",
       "      <td>SP</td>\n",
       "      <td>Jorge</td>\n",
       "      <td>2000</td>\n",
       "    </tr>\n",
       "    <tr>\n",
       "      <th>1</th>\n",
       "      <td>SP</td>\n",
       "      <td>Ana</td>\n",
       "      <td>2500</td>\n",
       "    </tr>\n",
       "    <tr>\n",
       "      <th>2</th>\n",
       "      <td>MG</td>\n",
       "      <td>Tiago</td>\n",
       "      <td>3100</td>\n",
       "    </tr>\n",
       "    <tr>\n",
       "      <th>3</th>\n",
       "      <td>MG</td>\n",
       "      <td>Pedro</td>\n",
       "      <td>1200</td>\n",
       "    </tr>\n",
       "    <tr>\n",
       "      <th>4</th>\n",
       "      <td>RJ</td>\n",
       "      <td>Raphaela</td>\n",
       "      <td>1500</td>\n",
       "    </tr>\n",
       "    <tr>\n",
       "      <th>5</th>\n",
       "      <td>RJ</td>\n",
       "      <td>Guto</td>\n",
       "      <td>3900</td>\n",
       "    </tr>\n",
       "    <tr>\n",
       "      <th>6</th>\n",
       "      <td>ES</td>\n",
       "      <td>Maria</td>\n",
       "      <td>2900</td>\n",
       "    </tr>\n",
       "    <tr>\n",
       "      <th>7</th>\n",
       "      <td>ES</td>\n",
       "      <td>Carolina</td>\n",
       "      <td>3900</td>\n",
       "    </tr>\n",
       "  </tbody>\n",
       "</table>\n",
       "</div>"
      ],
      "text/plain": [
       "  Sede  Vendedor  Vendas\n",
       "0   SP     Jorge    2000\n",
       "1   SP       Ana    2500\n",
       "2   MG     Tiago    3100\n",
       "3   MG     Pedro    1200\n",
       "4   RJ  Raphaela    1500\n",
       "5   RJ      Guto    3900\n",
       "6   ES     Maria    2900\n",
       "7   ES  Carolina    3900"
      ]
     },
     "execution_count": 4,
     "metadata": {},
     "output_type": "execute_result"
    }
   ],
   "source": [
    "df"
   ]
  },
  {
   "cell_type": "code",
   "execution_count": 5,
   "id": "eb5c6ba5-db64-4b5c-b98a-8f5d5b8e7c03",
   "metadata": {},
   "outputs": [
    {
     "data": {
      "text/plain": [
       "<pandas.core.groupby.generic.DataFrameGroupBy object at 0x0000025BD95C4D70>"
      ]
     },
     "execution_count": 5,
     "metadata": {},
     "output_type": "execute_result"
    }
   ],
   "source": [
    "df.groupby('Sede')"
   ]
  },
  {
   "cell_type": "code",
   "execution_count": 6,
   "id": "2220fe1c-5215-4484-a494-6e3c45a59725",
   "metadata": {},
   "outputs": [],
   "source": [
    "by_sede = df.groupby('Sede')"
   ]
  },
  {
   "cell_type": "code",
   "execution_count": 8,
   "id": "41f6e3e8-70aa-40b6-aa87-5dabb5700d63",
   "metadata": {},
   "outputs": [
    {
     "data": {
      "text/plain": [
       "<pandas.core.groupby.generic.DataFrameGroupBy object at 0x0000025BDC491340>"
      ]
     },
     "execution_count": 8,
     "metadata": {},
     "output_type": "execute_result"
    }
   ],
   "source": [
    "by_sede"
   ]
  },
  {
   "cell_type": "code",
   "execution_count": 10,
   "id": "eeb376ac-7f08-4920-85e2-9dc79ccf7063",
   "metadata": {},
   "outputs": [
    {
     "data": {
      "text/html": [
       "<div>\n",
       "<style scoped>\n",
       "    .dataframe tbody tr th:only-of-type {\n",
       "        vertical-align: middle;\n",
       "    }\n",
       "\n",
       "    .dataframe tbody tr th {\n",
       "        vertical-align: top;\n",
       "    }\n",
       "\n",
       "    .dataframe thead th {\n",
       "        text-align: right;\n",
       "    }\n",
       "</style>\n",
       "<table border=\"1\" class=\"dataframe\">\n",
       "  <thead>\n",
       "    <tr style=\"text-align: right;\">\n",
       "      <th></th>\n",
       "      <th>Vendedor</th>\n",
       "      <th>Vendas</th>\n",
       "    </tr>\n",
       "    <tr>\n",
       "      <th>Sede</th>\n",
       "      <th></th>\n",
       "      <th></th>\n",
       "    </tr>\n",
       "  </thead>\n",
       "  <tbody>\n",
       "    <tr>\n",
       "      <th>ES</th>\n",
       "      <td>Maria</td>\n",
       "      <td>3900</td>\n",
       "    </tr>\n",
       "    <tr>\n",
       "      <th>MG</th>\n",
       "      <td>Tiago</td>\n",
       "      <td>3100</td>\n",
       "    </tr>\n",
       "    <tr>\n",
       "      <th>RJ</th>\n",
       "      <td>Raphaela</td>\n",
       "      <td>3900</td>\n",
       "    </tr>\n",
       "    <tr>\n",
       "      <th>SP</th>\n",
       "      <td>Jorge</td>\n",
       "      <td>2500</td>\n",
       "    </tr>\n",
       "  </tbody>\n",
       "</table>\n",
       "</div>"
      ],
      "text/plain": [
       "      Vendedor  Vendas\n",
       "Sede                  \n",
       "ES       Maria    3900\n",
       "MG       Tiago    3100\n",
       "RJ    Raphaela    3900\n",
       "SP       Jorge    2500"
      ]
     },
     "execution_count": 10,
     "metadata": {},
     "output_type": "execute_result"
    }
   ],
   "source": [
    "by_sede.max()"
   ]
  },
  {
   "cell_type": "code",
   "execution_count": 14,
   "id": "ea111dbf-4886-47d9-a90b-170c75c67120",
   "metadata": {},
   "outputs": [
    {
     "data": {
      "text/plain": [
       "Sede\n",
       "ES    3400.0\n",
       "MG    2150.0\n",
       "RJ    2700.0\n",
       "SP    2250.0\n",
       "Name: Vendas, dtype: float64"
      ]
     },
     "execution_count": 14,
     "metadata": {},
     "output_type": "execute_result"
    }
   ],
   "source": [
    "by_sede['Vendas'].mean()"
   ]
  },
  {
   "cell_type": "code",
   "execution_count": 16,
   "id": "b7d40dac-79c0-4061-9d32-99bed5d179a5",
   "metadata": {},
   "outputs": [
    {
     "data": {
      "text/html": [
       "<div>\n",
       "<style scoped>\n",
       "    .dataframe tbody tr th:only-of-type {\n",
       "        vertical-align: middle;\n",
       "    }\n",
       "\n",
       "    .dataframe tbody tr th {\n",
       "        vertical-align: top;\n",
       "    }\n",
       "\n",
       "    .dataframe thead tr th {\n",
       "        text-align: left;\n",
       "    }\n",
       "\n",
       "    .dataframe thead tr:last-of-type th {\n",
       "        text-align: right;\n",
       "    }\n",
       "</style>\n",
       "<table border=\"1\" class=\"dataframe\">\n",
       "  <thead>\n",
       "    <tr>\n",
       "      <th></th>\n",
       "      <th colspan=\"8\" halign=\"left\">Vendas</th>\n",
       "    </tr>\n",
       "    <tr>\n",
       "      <th></th>\n",
       "      <th>count</th>\n",
       "      <th>mean</th>\n",
       "      <th>std</th>\n",
       "      <th>min</th>\n",
       "      <th>25%</th>\n",
       "      <th>50%</th>\n",
       "      <th>75%</th>\n",
       "      <th>max</th>\n",
       "    </tr>\n",
       "    <tr>\n",
       "      <th>Sede</th>\n",
       "      <th></th>\n",
       "      <th></th>\n",
       "      <th></th>\n",
       "      <th></th>\n",
       "      <th></th>\n",
       "      <th></th>\n",
       "      <th></th>\n",
       "      <th></th>\n",
       "    </tr>\n",
       "  </thead>\n",
       "  <tbody>\n",
       "    <tr>\n",
       "      <th>ES</th>\n",
       "      <td>2.0</td>\n",
       "      <td>3400.0</td>\n",
       "      <td>707.106781</td>\n",
       "      <td>2900.0</td>\n",
       "      <td>3150.0</td>\n",
       "      <td>3400.0</td>\n",
       "      <td>3650.0</td>\n",
       "      <td>3900.0</td>\n",
       "    </tr>\n",
       "    <tr>\n",
       "      <th>MG</th>\n",
       "      <td>2.0</td>\n",
       "      <td>2150.0</td>\n",
       "      <td>1343.502884</td>\n",
       "      <td>1200.0</td>\n",
       "      <td>1675.0</td>\n",
       "      <td>2150.0</td>\n",
       "      <td>2625.0</td>\n",
       "      <td>3100.0</td>\n",
       "    </tr>\n",
       "    <tr>\n",
       "      <th>RJ</th>\n",
       "      <td>2.0</td>\n",
       "      <td>2700.0</td>\n",
       "      <td>1697.056275</td>\n",
       "      <td>1500.0</td>\n",
       "      <td>2100.0</td>\n",
       "      <td>2700.0</td>\n",
       "      <td>3300.0</td>\n",
       "      <td>3900.0</td>\n",
       "    </tr>\n",
       "    <tr>\n",
       "      <th>SP</th>\n",
       "      <td>2.0</td>\n",
       "      <td>2250.0</td>\n",
       "      <td>353.553391</td>\n",
       "      <td>2000.0</td>\n",
       "      <td>2125.0</td>\n",
       "      <td>2250.0</td>\n",
       "      <td>2375.0</td>\n",
       "      <td>2500.0</td>\n",
       "    </tr>\n",
       "  </tbody>\n",
       "</table>\n",
       "</div>"
      ],
      "text/plain": [
       "     Vendas                                                             \n",
       "      count    mean          std     min     25%     50%     75%     max\n",
       "Sede                                                                    \n",
       "ES      2.0  3400.0   707.106781  2900.0  3150.0  3400.0  3650.0  3900.0\n",
       "MG      2.0  2150.0  1343.502884  1200.0  1675.0  2150.0  2625.0  3100.0\n",
       "RJ      2.0  2700.0  1697.056275  1500.0  2100.0  2700.0  3300.0  3900.0\n",
       "SP      2.0  2250.0   353.553391  2000.0  2125.0  2250.0  2375.0  2500.0"
      ]
     },
     "execution_count": 16,
     "metadata": {},
     "output_type": "execute_result"
    }
   ],
   "source": [
    "by_sede.describe()"
   ]
  },
  {
   "cell_type": "code",
   "execution_count": 18,
   "id": "b27adf8e-b35b-4a1a-8a4a-2e6bd98b4240",
   "metadata": {},
   "outputs": [
    {
     "data": {
      "text/html": [
       "<div>\n",
       "<style scoped>\n",
       "    .dataframe tbody tr th:only-of-type {\n",
       "        vertical-align: middle;\n",
       "    }\n",
       "\n",
       "    .dataframe tbody tr th {\n",
       "        vertical-align: top;\n",
       "    }\n",
       "\n",
       "    .dataframe thead th {\n",
       "        text-align: right;\n",
       "    }\n",
       "</style>\n",
       "<table border=\"1\" class=\"dataframe\">\n",
       "  <thead>\n",
       "    <tr style=\"text-align: right;\">\n",
       "      <th></th>\n",
       "      <th>Sede</th>\n",
       "      <th>ES</th>\n",
       "      <th>MG</th>\n",
       "      <th>RJ</th>\n",
       "      <th>SP</th>\n",
       "    </tr>\n",
       "  </thead>\n",
       "  <tbody>\n",
       "    <tr>\n",
       "      <th rowspan=\"8\" valign=\"top\">Vendas</th>\n",
       "      <th>count</th>\n",
       "      <td>2.000000</td>\n",
       "      <td>2.000000</td>\n",
       "      <td>2.000000</td>\n",
       "      <td>2.000000</td>\n",
       "    </tr>\n",
       "    <tr>\n",
       "      <th>mean</th>\n",
       "      <td>3400.000000</td>\n",
       "      <td>2150.000000</td>\n",
       "      <td>2700.000000</td>\n",
       "      <td>2250.000000</td>\n",
       "    </tr>\n",
       "    <tr>\n",
       "      <th>std</th>\n",
       "      <td>707.106781</td>\n",
       "      <td>1343.502884</td>\n",
       "      <td>1697.056275</td>\n",
       "      <td>353.553391</td>\n",
       "    </tr>\n",
       "    <tr>\n",
       "      <th>min</th>\n",
       "      <td>2900.000000</td>\n",
       "      <td>1200.000000</td>\n",
       "      <td>1500.000000</td>\n",
       "      <td>2000.000000</td>\n",
       "    </tr>\n",
       "    <tr>\n",
       "      <th>25%</th>\n",
       "      <td>3150.000000</td>\n",
       "      <td>1675.000000</td>\n",
       "      <td>2100.000000</td>\n",
       "      <td>2125.000000</td>\n",
       "    </tr>\n",
       "    <tr>\n",
       "      <th>50%</th>\n",
       "      <td>3400.000000</td>\n",
       "      <td>2150.000000</td>\n",
       "      <td>2700.000000</td>\n",
       "      <td>2250.000000</td>\n",
       "    </tr>\n",
       "    <tr>\n",
       "      <th>75%</th>\n",
       "      <td>3650.000000</td>\n",
       "      <td>2625.000000</td>\n",
       "      <td>3300.000000</td>\n",
       "      <td>2375.000000</td>\n",
       "    </tr>\n",
       "    <tr>\n",
       "      <th>max</th>\n",
       "      <td>3900.000000</td>\n",
       "      <td>3100.000000</td>\n",
       "      <td>3900.000000</td>\n",
       "      <td>2500.000000</td>\n",
       "    </tr>\n",
       "  </tbody>\n",
       "</table>\n",
       "</div>"
      ],
      "text/plain": [
       "Sede                   ES           MG           RJ           SP\n",
       "Vendas count     2.000000     2.000000     2.000000     2.000000\n",
       "       mean   3400.000000  2150.000000  2700.000000  2250.000000\n",
       "       std     707.106781  1343.502884  1697.056275   353.553391\n",
       "       min    2900.000000  1200.000000  1500.000000  2000.000000\n",
       "       25%    3150.000000  1675.000000  2100.000000  2125.000000\n",
       "       50%    3400.000000  2150.000000  2700.000000  2250.000000\n",
       "       75%    3650.000000  2625.000000  3300.000000  2375.000000\n",
       "       max    3900.000000  3100.000000  3900.000000  2500.000000"
      ]
     },
     "execution_count": 18,
     "metadata": {},
     "output_type": "execute_result"
    }
   ],
   "source": [
    "by_sede.describe().transpose()"
   ]
  },
  {
   "cell_type": "code",
   "execution_count": 20,
   "id": "6fd8ca1f-31f8-4c11-80bd-ee91d5f12c5a",
   "metadata": {},
   "outputs": [
    {
     "data": {
      "text/plain": [
       "Vendas  count       2.000000\n",
       "        mean     2250.000000\n",
       "        std       353.553391\n",
       "        min      2000.000000\n",
       "        25%      2125.000000\n",
       "        50%      2250.000000\n",
       "        75%      2375.000000\n",
       "        max      2500.000000\n",
       "Name: SP, dtype: float64"
      ]
     },
     "execution_count": 20,
     "metadata": {},
     "output_type": "execute_result"
    }
   ],
   "source": [
    "by_sede.describe().transpose()['SP']"
   ]
  },
  {
   "cell_type": "code",
   "execution_count": 21,
   "id": "8d9982e1-8855-4334-aa41-4c546ad7d1d2",
   "metadata": {},
   "outputs": [],
   "source": [
    "arrays = [['São Paulo', 'São Paulo', 'Rio de Janeiro', 'Rio de Janeiro','Minas Gerais','Minas Gerais'],\n",
    "['Garrafas','Copos','Garrafas','Copos','Garrafas','Copos' ]]\n",
    "index = pd.MultiIndex.from_arrays(arrays, names=('Estado', 'Produto'))\n",
    "df1 = pd.DataFrame({'Total Vendido R$': [10000, 35000, 22400, 12890,10880,13900]},index=index)"
   ]
  },
  {
   "cell_type": "code",
   "execution_count": 23,
   "id": "3c60e023-c64c-4712-b68e-92f99cd01f8b",
   "metadata": {},
   "outputs": [
    {
     "data": {
      "text/html": [
       "<div>\n",
       "<style scoped>\n",
       "    .dataframe tbody tr th:only-of-type {\n",
       "        vertical-align: middle;\n",
       "    }\n",
       "\n",
       "    .dataframe tbody tr th {\n",
       "        vertical-align: top;\n",
       "    }\n",
       "\n",
       "    .dataframe thead th {\n",
       "        text-align: right;\n",
       "    }\n",
       "</style>\n",
       "<table border=\"1\" class=\"dataframe\">\n",
       "  <thead>\n",
       "    <tr style=\"text-align: right;\">\n",
       "      <th></th>\n",
       "      <th></th>\n",
       "      <th>Total Vendido R$</th>\n",
       "    </tr>\n",
       "    <tr>\n",
       "      <th>Estado</th>\n",
       "      <th>Produto</th>\n",
       "      <th></th>\n",
       "    </tr>\n",
       "  </thead>\n",
       "  <tbody>\n",
       "    <tr>\n",
       "      <th rowspan=\"2\" valign=\"top\">São Paulo</th>\n",
       "      <th>Garrafas</th>\n",
       "      <td>10000</td>\n",
       "    </tr>\n",
       "    <tr>\n",
       "      <th>Copos</th>\n",
       "      <td>35000</td>\n",
       "    </tr>\n",
       "    <tr>\n",
       "      <th rowspan=\"2\" valign=\"top\">Rio de Janeiro</th>\n",
       "      <th>Garrafas</th>\n",
       "      <td>22400</td>\n",
       "    </tr>\n",
       "    <tr>\n",
       "      <th>Copos</th>\n",
       "      <td>12890</td>\n",
       "    </tr>\n",
       "    <tr>\n",
       "      <th rowspan=\"2\" valign=\"top\">Minas Gerais</th>\n",
       "      <th>Garrafas</th>\n",
       "      <td>10880</td>\n",
       "    </tr>\n",
       "    <tr>\n",
       "      <th>Copos</th>\n",
       "      <td>13900</td>\n",
       "    </tr>\n",
       "  </tbody>\n",
       "</table>\n",
       "</div>"
      ],
      "text/plain": [
       "                         Total Vendido R$\n",
       "Estado         Produto                   \n",
       "São Paulo      Garrafas             10000\n",
       "               Copos                35000\n",
       "Rio de Janeiro Garrafas             22400\n",
       "               Copos                12890\n",
       "Minas Gerais   Garrafas             10880\n",
       "               Copos                13900"
      ]
     },
     "execution_count": 23,
     "metadata": {},
     "output_type": "execute_result"
    }
   ],
   "source": [
    "df1"
   ]
  },
  {
   "cell_type": "code",
   "execution_count": 25,
   "id": "47a17e77-3b54-4bad-bcbd-4c1944f30d78",
   "metadata": {},
   "outputs": [],
   "source": [
    "multi_bysede = df1.groupby('Estado',level=0)"
   ]
  },
  {
   "cell_type": "code",
   "execution_count": 27,
   "id": "d1945fdb-de5a-462b-8a29-b17340425a6f",
   "metadata": {},
   "outputs": [
    {
     "data": {
      "text/html": [
       "<div>\n",
       "<style scoped>\n",
       "    .dataframe tbody tr th:only-of-type {\n",
       "        vertical-align: middle;\n",
       "    }\n",
       "\n",
       "    .dataframe tbody tr th {\n",
       "        vertical-align: top;\n",
       "    }\n",
       "\n",
       "    .dataframe thead th {\n",
       "        text-align: right;\n",
       "    }\n",
       "</style>\n",
       "<table border=\"1\" class=\"dataframe\">\n",
       "  <thead>\n",
       "    <tr style=\"text-align: right;\">\n",
       "      <th></th>\n",
       "      <th>Total Vendido R$</th>\n",
       "    </tr>\n",
       "    <tr>\n",
       "      <th>Estado</th>\n",
       "      <th></th>\n",
       "    </tr>\n",
       "  </thead>\n",
       "  <tbody>\n",
       "    <tr>\n",
       "      <th>Minas Gerais</th>\n",
       "      <td>12390.0</td>\n",
       "    </tr>\n",
       "    <tr>\n",
       "      <th>Rio de Janeiro</th>\n",
       "      <td>17645.0</td>\n",
       "    </tr>\n",
       "    <tr>\n",
       "      <th>São Paulo</th>\n",
       "      <td>22500.0</td>\n",
       "    </tr>\n",
       "  </tbody>\n",
       "</table>\n",
       "</div>"
      ],
      "text/plain": [
       "                Total Vendido R$\n",
       "Estado                          \n",
       "Minas Gerais             12390.0\n",
       "Rio de Janeiro           17645.0\n",
       "São Paulo                22500.0"
      ]
     },
     "execution_count": 27,
     "metadata": {},
     "output_type": "execute_result"
    }
   ],
   "source": [
    "multi_bysede.mean()"
   ]
  },
  {
   "cell_type": "code",
   "execution_count": 29,
   "id": "c4bca755-093f-408c-a088-ee66d9207509",
   "metadata": {},
   "outputs": [
    {
     "data": {
      "text/html": [
       "<div>\n",
       "<style scoped>\n",
       "    .dataframe tbody tr th:only-of-type {\n",
       "        vertical-align: middle;\n",
       "    }\n",
       "\n",
       "    .dataframe tbody tr th {\n",
       "        vertical-align: top;\n",
       "    }\n",
       "\n",
       "    .dataframe thead th {\n",
       "        text-align: right;\n",
       "    }\n",
       "</style>\n",
       "<table border=\"1\" class=\"dataframe\">\n",
       "  <thead>\n",
       "    <tr style=\"text-align: right;\">\n",
       "      <th></th>\n",
       "      <th>Total Vendido R$</th>\n",
       "    </tr>\n",
       "    <tr>\n",
       "      <th>Estado</th>\n",
       "      <th></th>\n",
       "    </tr>\n",
       "  </thead>\n",
       "  <tbody>\n",
       "    <tr>\n",
       "      <th>Minas Gerais</th>\n",
       "      <td>13900</td>\n",
       "    </tr>\n",
       "    <tr>\n",
       "      <th>Rio de Janeiro</th>\n",
       "      <td>22400</td>\n",
       "    </tr>\n",
       "    <tr>\n",
       "      <th>São Paulo</th>\n",
       "      <td>35000</td>\n",
       "    </tr>\n",
       "  </tbody>\n",
       "</table>\n",
       "</div>"
      ],
      "text/plain": [
       "                Total Vendido R$\n",
       "Estado                          \n",
       "Minas Gerais               13900\n",
       "Rio de Janeiro             22400\n",
       "São Paulo                  35000"
      ]
     },
     "execution_count": 29,
     "metadata": {},
     "output_type": "execute_result"
    }
   ],
   "source": [
    "multi_bysede.max()"
   ]
  },
  {
   "cell_type": "code",
   "execution_count": 33,
   "id": "ca7977ca-d397-47a7-b89c-8607b9453681",
   "metadata": {},
   "outputs": [],
   "source": [
    "multi_bypro = df1.groupby('Produto',level=1)"
   ]
  },
  {
   "cell_type": "code",
   "execution_count": 35,
   "id": "2f59e7b2-d49d-4dc1-9bc3-4ab65bea036e",
   "metadata": {},
   "outputs": [
    {
     "data": {
      "text/html": [
       "<div>\n",
       "<style scoped>\n",
       "    .dataframe tbody tr th:only-of-type {\n",
       "        vertical-align: middle;\n",
       "    }\n",
       "\n",
       "    .dataframe tbody tr th {\n",
       "        vertical-align: top;\n",
       "    }\n",
       "\n",
       "    .dataframe thead th {\n",
       "        text-align: right;\n",
       "    }\n",
       "</style>\n",
       "<table border=\"1\" class=\"dataframe\">\n",
       "  <thead>\n",
       "    <tr style=\"text-align: right;\">\n",
       "      <th></th>\n",
       "      <th>Total Vendido R$</th>\n",
       "    </tr>\n",
       "    <tr>\n",
       "      <th>Produto</th>\n",
       "      <th></th>\n",
       "    </tr>\n",
       "  </thead>\n",
       "  <tbody>\n",
       "    <tr>\n",
       "      <th>Copos</th>\n",
       "      <td>20596.666667</td>\n",
       "    </tr>\n",
       "    <tr>\n",
       "      <th>Garrafas</th>\n",
       "      <td>14426.666667</td>\n",
       "    </tr>\n",
       "  </tbody>\n",
       "</table>\n",
       "</div>"
      ],
      "text/plain": [
       "          Total Vendido R$\n",
       "Produto                   \n",
       "Copos         20596.666667\n",
       "Garrafas      14426.666667"
      ]
     },
     "execution_count": 35,
     "metadata": {},
     "output_type": "execute_result"
    }
   ],
   "source": [
    "multi_bypro.mean()"
   ]
  }
 ],
 "metadata": {
  "kernelspec": {
   "display_name": "Python 3 (ipykernel)",
   "language": "python",
   "name": "python3"
  },
  "language_info": {
   "codemirror_mode": {
    "name": "ipython",
    "version": 3
   },
   "file_extension": ".py",
   "mimetype": "text/x-python",
   "name": "python",
   "nbconvert_exporter": "python",
   "pygments_lexer": "ipython3",
   "version": "3.12.4"
  }
 },
 "nbformat": 4,
 "nbformat_minor": 5
}
