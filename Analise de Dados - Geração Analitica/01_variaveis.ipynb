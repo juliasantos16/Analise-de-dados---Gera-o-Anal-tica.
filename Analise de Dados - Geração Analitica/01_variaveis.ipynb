{
 "cells": [
  {
   "cell_type": "code",
   "execution_count": 2,
   "id": "71f032bb-f09b-495a-a047-d9a856debb2d",
   "metadata": {},
   "outputs": [],
   "source": [
    "# Variaveis númericas"
   ]
  },
  {
   "cell_type": "code",
   "execution_count": 3,
   "id": "e2e16e98-47dd-4452-8fa3-9a6e6efffd83",
   "metadata": {},
   "outputs": [],
   "source": [
    "a = 10"
   ]
  },
  {
   "cell_type": "code",
   "execution_count": 4,
   "id": "59c4bd52-29d7-4af2-8f1a-a643aa2c2073",
   "metadata": {},
   "outputs": [
    {
     "data": {
      "text/plain": [
       "10"
      ]
     },
     "execution_count": 4,
     "metadata": {},
     "output_type": "execute_result"
    }
   ],
   "source": [
    "a"
   ]
  },
  {
   "cell_type": "code",
   "execution_count": 5,
   "id": "bb598a1c-6e91-43a1-b30f-3ebbcc15271e",
   "metadata": {},
   "outputs": [
    {
     "data": {
      "text/plain": [
       "int"
      ]
     },
     "execution_count": 5,
     "metadata": {},
     "output_type": "execute_result"
    }
   ],
   "source": [
    "type(a)"
   ]
  },
  {
   "cell_type": "code",
   "execution_count": 20,
   "id": "ef5da2cc-1469-4f88-855e-6e132888032f",
   "metadata": {},
   "outputs": [],
   "source": [
    "# Float"
   ]
  },
  {
   "cell_type": "code",
   "execution_count": 7,
   "id": "44ccae31-5ed1-492e-bc27-970a83fd8e35",
   "metadata": {},
   "outputs": [],
   "source": [
    "b = 2.5"
   ]
  },
  {
   "cell_type": "code",
   "execution_count": 8,
   "id": "04446c9d-4ca5-47fd-b5d5-78d149abc172",
   "metadata": {},
   "outputs": [
    {
     "data": {
      "text/plain": [
       "2.5"
      ]
     },
     "execution_count": 8,
     "metadata": {},
     "output_type": "execute_result"
    }
   ],
   "source": [
    "b"
   ]
  },
  {
   "cell_type": "code",
   "execution_count": 9,
   "id": "1f4283f5-1578-46f0-83c0-01b6e6f01a80",
   "metadata": {},
   "outputs": [
    {
     "data": {
      "text/plain": [
       "float"
      ]
     },
     "execution_count": 9,
     "metadata": {},
     "output_type": "execute_result"
    }
   ],
   "source": [
    "type(b)"
   ]
  },
  {
   "cell_type": "code",
   "execution_count": 11,
   "id": "32f2a614-310c-4d67-bbb4-1aa9a2f56ea3",
   "metadata": {},
   "outputs": [],
   "source": [
    "# Variavel String"
   ]
  },
  {
   "cell_type": "code",
   "execution_count": 12,
   "id": "0ce47b65-ac51-4e43-a9ce-a3dd295efdc4",
   "metadata": {},
   "outputs": [],
   "source": [
    "c = 'olá mundo'"
   ]
  },
  {
   "cell_type": "code",
   "execution_count": 13,
   "id": "635acf45-f411-47c0-a0a9-334b738291a6",
   "metadata": {},
   "outputs": [
    {
     "data": {
      "text/plain": [
       "'olá mundo'"
      ]
     },
     "execution_count": 13,
     "metadata": {},
     "output_type": "execute_result"
    }
   ],
   "source": [
    "c"
   ]
  },
  {
   "cell_type": "code",
   "execution_count": 14,
   "id": "0c2321e5-4220-444f-a6a7-d6be57b7e1bf",
   "metadata": {},
   "outputs": [
    {
     "data": {
      "text/plain": [
       "str"
      ]
     },
     "execution_count": 14,
     "metadata": {},
     "output_type": "execute_result"
    }
   ],
   "source": [
    "type(c)"
   ]
  },
  {
   "cell_type": "code",
   "execution_count": 15,
   "id": "2babda2c-081d-4c92-b0b3-c4abc54df21a",
   "metadata": {},
   "outputs": [],
   "source": [
    "# Variavel Lógica / Booleana"
   ]
  },
  {
   "cell_type": "code",
   "execution_count": 18,
   "id": "9372d044-39d5-4485-9ea1-8f6b40eb3166",
   "metadata": {},
   "outputs": [],
   "source": [
    "d = 4>5"
   ]
  },
  {
   "cell_type": "code",
   "execution_count": 19,
   "id": "a7986c30-054b-47bc-adaf-fb21df748417",
   "metadata": {},
   "outputs": [
    {
     "data": {
      "text/plain": [
       "False"
      ]
     },
     "execution_count": 19,
     "metadata": {},
     "output_type": "execute_result"
    }
   ],
   "source": [
    "d"
   ]
  }
 ],
 "metadata": {
  "kernelspec": {
   "display_name": "Python 3 (ipykernel)",
   "language": "python",
   "name": "python3"
  },
  "language_info": {
   "codemirror_mode": {
    "name": "ipython",
    "version": 3
   },
   "file_extension": ".py",
   "mimetype": "text/x-python",
   "name": "python",
   "nbconvert_exporter": "python",
   "pygments_lexer": "ipython3",
   "version": "3.12.4"
  }
 },
 "nbformat": 4,
 "nbformat_minor": 5
}
