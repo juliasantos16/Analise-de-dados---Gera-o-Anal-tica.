{
 "cells": [
  {
   "cell_type": "code",
   "execution_count": 14,
   "id": "38fbe064-f56c-475e-bf96-70dc0a3c60dd",
   "metadata": {},
   "outputs": [],
   "source": [
    "import pandas as pd\n",
    "import numpy as np"
   ]
  },
  {
   "cell_type": "code",
   "execution_count": 15,
   "id": "1695a121-fa81-4c8f-a57d-bef588b0c934",
   "metadata": {},
   "outputs": [],
   "source": [
    "# series a partir de uma lista"
   ]
  },
  {
   "cell_type": "code",
   "execution_count": 16,
   "id": "2ad7597a-b5d3-4b85-9c0d-d8e0518dfdcc",
   "metadata": {},
   "outputs": [],
   "source": [
    "lista = [10,20,30,40,50]"
   ]
  },
  {
   "cell_type": "code",
   "execution_count": 17,
   "id": "be609408-e955-45b7-94fc-696019df6fc9",
   "metadata": {},
   "outputs": [
    {
     "data": {
      "text/plain": [
       "0    10\n",
       "1    20\n",
       "2    30\n",
       "3    40\n",
       "4    50\n",
       "dtype: int64"
      ]
     },
     "execution_count": 17,
     "metadata": {},
     "output_type": "execute_result"
    }
   ],
   "source": [
    "pd.Series(lista)"
   ]
  },
  {
   "cell_type": "code",
   "execution_count": 18,
   "id": "bfb22f30-92eb-4632-a44e-70d9ebf1dd92",
   "metadata": {},
   "outputs": [],
   "source": [
    "# series a partir de dicionario"
   ]
  },
  {
   "cell_type": "code",
   "execution_count": 19,
   "id": "fa0a95ec-e6e6-4e56-8cf8-2e2536cf92f6",
   "metadata": {},
   "outputs": [],
   "source": [
    "dicionario = {'ana': '222-222', 'pedro' : '333-333', 'julia':'444-444'}"
   ]
  },
  {
   "cell_type": "code",
   "execution_count": 20,
   "id": "005582e1-97b8-4d1f-b73a-02fb7b645b3d",
   "metadata": {},
   "outputs": [
    {
     "data": {
      "text/plain": [
       "{'ana': '222-222', 'pedro': '333-333', 'julia': '444-444'}"
      ]
     },
     "execution_count": 20,
     "metadata": {},
     "output_type": "execute_result"
    }
   ],
   "source": [
    "dicionario"
   ]
  },
  {
   "cell_type": "code",
   "execution_count": 21,
   "id": "6aa63377-c687-451b-b55e-aa92ccdc5b5f",
   "metadata": {},
   "outputs": [],
   "source": [
    "numeros = pd.Series(dicionario)"
   ]
  },
  {
   "cell_type": "code",
   "execution_count": 23,
   "id": "05dc0dd4-ece7-49a5-991c-a4610b5992ff",
   "metadata": {},
   "outputs": [
    {
     "data": {
      "text/plain": [
       "ana      222-222\n",
       "pedro    333-333\n",
       "julia    444-444\n",
       "dtype: object"
      ]
     },
     "execution_count": 23,
     "metadata": {},
     "output_type": "execute_result"
    }
   ],
   "source": [
    "numeros"
   ]
  },
  {
   "cell_type": "code",
   "execution_count": 26,
   "id": "d4f7e645-ef89-4e2f-875e-03079c379c59",
   "metadata": {},
   "outputs": [
    {
     "data": {
      "text/plain": [
       "'444-444'"
      ]
     },
     "execution_count": 26,
     "metadata": {},
     "output_type": "execute_result"
    }
   ],
   "source": [
    "numeros.iloc[2]  # Acessa pela posição (começa em 0)"
   ]
  },
  {
   "cell_type": "code",
   "execution_count": 28,
   "id": "327ce325-0b90-4cbf-926d-ce00b3072da6",
   "metadata": {},
   "outputs": [
    {
     "data": {
      "text/plain": [
       "'222-222'"
      ]
     },
     "execution_count": 28,
     "metadata": {},
     "output_type": "execute_result"
    }
   ],
   "source": [
    "numeros['ana']"
   ]
  },
  {
   "cell_type": "code",
   "execution_count": 29,
   "id": "ad1ce34d-85ba-41ba-a703-6d3759eedecc",
   "metadata": {},
   "outputs": [],
   "source": [
    "# series a partir de um array"
   ]
  },
  {
   "cell_type": "code",
   "execution_count": 30,
   "id": "b6c02eae-5fd4-4bab-b7ea-f8141dc4a04b",
   "metadata": {},
   "outputs": [],
   "source": [
    "arr = np.array([10,20,30,40,50])"
   ]
  },
  {
   "cell_type": "code",
   "execution_count": 32,
   "id": "b12f210a-f4ce-457b-a80d-5b96efdcce6d",
   "metadata": {},
   "outputs": [
    {
     "data": {
      "text/plain": [
       "array([10, 20, 30, 40, 50])"
      ]
     },
     "execution_count": 32,
     "metadata": {},
     "output_type": "execute_result"
    }
   ],
   "source": [
    "arr"
   ]
  },
  {
   "cell_type": "code",
   "execution_count": 34,
   "id": "641133de-25e6-4506-a153-d6f23ed9a27d",
   "metadata": {},
   "outputs": [],
   "source": [
    "series3 = pd.Series(arr)"
   ]
  },
  {
   "cell_type": "code",
   "execution_count": 36,
   "id": "21d7214c-fb3b-491b-ac2b-39ca63316874",
   "metadata": {},
   "outputs": [
    {
     "data": {
      "text/plain": [
       "0    10\n",
       "1    20\n",
       "2    30\n",
       "3    40\n",
       "4    50\n",
       "dtype: int32"
      ]
     },
     "execution_count": 36,
     "metadata": {},
     "output_type": "execute_result"
    }
   ],
   "source": [
    "series3"
   ]
  },
  {
   "cell_type": "code",
   "execution_count": 40,
   "id": "2d43dd14-0036-4cba-a046-8457c91bf4ba",
   "metadata": {},
   "outputs": [],
   "source": [
    "series47 = pd.Series([55,25,35,65,45])"
   ]
  },
  {
   "cell_type": "code",
   "execution_count": 42,
   "id": "18e4eb77-b604-48a7-bbf8-b7fe57e6ef69",
   "metadata": {},
   "outputs": [
    {
     "data": {
      "text/plain": [
       "0    55\n",
       "1    25\n",
       "2    35\n",
       "3    65\n",
       "4    45\n",
       "dtype: int64"
      ]
     },
     "execution_count": 42,
     "metadata": {},
     "output_type": "execute_result"
    }
   ],
   "source": [
    "series47"
   ]
  },
  {
   "cell_type": "code",
   "execution_count": 45,
   "id": "19d19e99-8b67-45b3-8f9b-3311d16a8cb8",
   "metadata": {},
   "outputs": [],
   "source": [
    "series8 = pd.Series([88,99,77,55,66],index=['oite','nove','setesete', 'cinco', 'meiameia'])"
   ]
  },
  {
   "cell_type": "code",
   "execution_count": 47,
   "id": "25ed2bfc-fbaa-4cb9-830d-73af8ca40c1e",
   "metadata": {},
   "outputs": [
    {
     "data": {
      "text/plain": [
       "oite        88\n",
       "nove        99\n",
       "setesete    77\n",
       "cinco       55\n",
       "meiameia    66\n",
       "dtype: int64"
      ]
     },
     "execution_count": 47,
     "metadata": {},
     "output_type": "execute_result"
    }
   ],
   "source": [
    "series8"
   ]
  },
  {
   "cell_type": "code",
   "execution_count": 49,
   "id": "f1b81c0c-7623-4468-b2df-a9a598c95a83",
   "metadata": {},
   "outputs": [],
   "source": [
    "lista = [1,2,3,4]\n",
    "labels = ['um','dois','tres','quatro']"
   ]
  },
  {
   "cell_type": "code",
   "execution_count": 50,
   "id": "6400cd8f-2efd-4e28-8deb-6ffcd9d6ac82",
   "metadata": {},
   "outputs": [],
   "source": [
    "series9 = pd.Series(data=lista,index=labels)"
   ]
  },
  {
   "cell_type": "code",
   "execution_count": 51,
   "id": "220fefc1-9e28-4d71-97d5-1c32ec6b11c5",
   "metadata": {},
   "outputs": [
    {
     "data": {
      "text/plain": [
       "um        1\n",
       "dois      2\n",
       "tres      3\n",
       "quatro    4\n",
       "dtype: int64"
      ]
     },
     "execution_count": 51,
     "metadata": {},
     "output_type": "execute_result"
    }
   ],
   "source": [
    "series9"
   ]
  },
  {
   "cell_type": "code",
   "execution_count": 59,
   "id": "4980bab5-8c32-42f3-a736-c1ab563378db",
   "metadata": {},
   "outputs": [],
   "source": [
    "series4 = pd.Series(data=[1,2,3,4],index=['brasil','uruguai', 'costa', 'rica'])"
   ]
  },
  {
   "cell_type": "code",
   "execution_count": 54,
   "id": "f63a1341-7eb2-4654-87d1-7acd1338f71b",
   "metadata": {},
   "outputs": [
    {
     "data": {
      "text/plain": [
       "brasil        1\n",
       "uruguai       2\n",
       "eua           3\n",
       "costa rica    4\n",
       "dtype: int64"
      ]
     },
     "execution_count": 54,
     "metadata": {},
     "output_type": "execute_result"
    }
   ],
   "source": [
    "series4"
   ]
  },
  {
   "cell_type": "code",
   "execution_count": 56,
   "id": "4e91ae8d-f16b-4f9d-8721-17223c754ba5",
   "metadata": {},
   "outputs": [],
   "source": [
    "series10 = series4*series9"
   ]
  },
  {
   "cell_type": "code",
   "execution_count": 57,
   "id": "d7ba7318-3f16-4d54-8d5f-6e20489516ff",
   "metadata": {},
   "outputs": [
    {
     "data": {
      "text/plain": [
       "brasil       NaN\n",
       "costa rica   NaN\n",
       "dois         NaN\n",
       "eua          NaN\n",
       "quatro       NaN\n",
       "tres         NaN\n",
       "um           NaN\n",
       "uruguai      NaN\n",
       "dtype: float64"
      ]
     },
     "execution_count": 57,
     "metadata": {},
     "output_type": "execute_result"
    }
   ],
   "source": [
    "series10"
   ]
  }
 ],
 "metadata": {
  "kernelspec": {
   "display_name": "Python 3 (ipykernel)",
   "language": "python",
   "name": "python3"
  },
  "language_info": {
   "codemirror_mode": {
    "name": "ipython",
    "version": 3
   },
   "file_extension": ".py",
   "mimetype": "text/x-python",
   "name": "python",
   "nbconvert_exporter": "python",
   "pygments_lexer": "ipython3",
   "version": "3.12.4"
  }
 },
 "nbformat": 4,
 "nbformat_minor": 5
}
