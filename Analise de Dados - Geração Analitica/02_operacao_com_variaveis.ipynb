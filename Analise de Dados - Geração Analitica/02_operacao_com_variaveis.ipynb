{
 "cells": [
  {
   "cell_type": "code",
   "execution_count": null,
   "id": "5b2b708d-b88e-4c53-bb6a-8d33400e0e24",
   "metadata": {},
   "outputs": [],
   "source": [
    "# Operações com variaveis"
   ]
  },
  {
   "cell_type": "code",
   "execution_count": 2,
   "id": "e0ed79c5-2176-4d1c-97c8-1c1e8de5820a",
   "metadata": {},
   "outputs": [],
   "source": [
    "# soma"
   ]
  },
  {
   "cell_type": "code",
   "execution_count": 3,
   "id": "7339cb4e-c0f2-4e71-8484-dc405096216a",
   "metadata": {},
   "outputs": [],
   "source": [
    "soma = 10+5"
   ]
  },
  {
   "cell_type": "code",
   "execution_count": 6,
   "id": "c69bd95f-03f4-48e5-b431-3dc811aaee94",
   "metadata": {},
   "outputs": [
    {
     "data": {
      "text/plain": [
       "15"
      ]
     },
     "execution_count": 6,
     "metadata": {},
     "output_type": "execute_result"
    }
   ],
   "source": [
    "soma"
   ]
  },
  {
   "cell_type": "code",
   "execution_count": 8,
   "id": "9376f983-3114-490c-b50c-197b8f56dea3",
   "metadata": {},
   "outputs": [],
   "source": [
    "soma = 10.75+6.23"
   ]
  },
  {
   "cell_type": "code",
   "execution_count": 9,
   "id": "3250b1a8-f0a7-4b5d-b7e0-7df9d45a3873",
   "metadata": {},
   "outputs": [
    {
     "data": {
      "text/plain": [
       "16.98"
      ]
     },
     "execution_count": 9,
     "metadata": {},
     "output_type": "execute_result"
    }
   ],
   "source": [
    "soma"
   ]
  },
  {
   "cell_type": "code",
   "execution_count": 10,
   "id": "6b04ffad-b37b-4a3c-9f3c-10e4d66c3616",
   "metadata": {},
   "outputs": [],
   "source": [
    "# subtração"
   ]
  },
  {
   "cell_type": "code",
   "execution_count": 12,
   "id": "5f21a494-fbea-448d-9e9e-3faa0cb9db11",
   "metadata": {},
   "outputs": [],
   "source": [
    "sub = 52-31"
   ]
  },
  {
   "cell_type": "code",
   "execution_count": 13,
   "id": "2fe09951-61cc-4e62-8387-4bfa3289dc2d",
   "metadata": {},
   "outputs": [
    {
     "data": {
      "text/plain": [
       "21"
      ]
     },
     "execution_count": 13,
     "metadata": {},
     "output_type": "execute_result"
    }
   ],
   "source": [
    "sub"
   ]
  },
  {
   "cell_type": "code",
   "execution_count": null,
   "id": "0ec2e662-c67a-4ee2-88c8-f8b93347d583",
   "metadata": {},
   "outputs": [],
   "source": [
    "#multiplicação"
   ]
  },
  {
   "cell_type": "code",
   "execution_count": 14,
   "id": "22109d5e-28aa-4468-8968-267d20673a71",
   "metadata": {},
   "outputs": [],
   "source": [
    "multi = 4*5"
   ]
  },
  {
   "cell_type": "code",
   "execution_count": 15,
   "id": "54f2f091-af0d-4bcb-9408-482d0c44a161",
   "metadata": {},
   "outputs": [
    {
     "data": {
      "text/plain": [
       "20"
      ]
     },
     "execution_count": 15,
     "metadata": {},
     "output_type": "execute_result"
    }
   ],
   "source": [
    "multi"
   ]
  },
  {
   "cell_type": "code",
   "execution_count": 16,
   "id": "dc9b0437-2885-4ca1-8d3f-5a34747b225e",
   "metadata": {},
   "outputs": [],
   "source": [
    "# divisão"
   ]
  },
  {
   "cell_type": "code",
   "execution_count": 17,
   "id": "4ff7fb38-4e10-4ad6-8ec0-d28525f81403",
   "metadata": {},
   "outputs": [],
   "source": [
    "div = 4/2"
   ]
  },
  {
   "cell_type": "code",
   "execution_count": 18,
   "id": "568a2e8f-2e13-4e0a-8ad4-82aa397051bd",
   "metadata": {},
   "outputs": [
    {
     "data": {
      "text/plain": [
       "2.0"
      ]
     },
     "execution_count": 18,
     "metadata": {},
     "output_type": "execute_result"
    }
   ],
   "source": [
    "div"
   ]
  },
  {
   "cell_type": "code",
   "execution_count": null,
   "id": "9c225ad8-64a3-4ca4-973a-460ca8a1680c",
   "metadata": {},
   "outputs": [],
   "source": [
    "# divisão inteira"
   ]
  },
  {
   "cell_type": "code",
   "execution_count": 19,
   "id": "1f92ee2d-4827-4bec-9804-bd8f8ff2d7b0",
   "metadata": {},
   "outputs": [],
   "source": [
    "div_int = 3/2"
   ]
  },
  {
   "cell_type": "code",
   "execution_count": 20,
   "id": "75e5bd9f-bb6f-4d8a-ae35-f9ad2bbab2d5",
   "metadata": {},
   "outputs": [
    {
     "data": {
      "text/plain": [
       "1.5"
      ]
     },
     "execution_count": 20,
     "metadata": {},
     "output_type": "execute_result"
    }
   ],
   "source": [
    "div_int"
   ]
  },
  {
   "cell_type": "code",
   "execution_count": 21,
   "id": "0ca092f8-0f68-457d-80e9-cd3b56dd0513",
   "metadata": {},
   "outputs": [],
   "source": [
    "# exponenciação"
   ]
  },
  {
   "cell_type": "code",
   "execution_count": 22,
   "id": "9c9e70c7-c1a7-40cd-8551-991d561933ba",
   "metadata": {},
   "outputs": [],
   "source": [
    "exp = 5**5"
   ]
  },
  {
   "cell_type": "code",
   "execution_count": 23,
   "id": "55ddd32d-105e-43b7-bfe9-698e21656be6",
   "metadata": {},
   "outputs": [
    {
     "data": {
      "text/plain": [
       "3125"
      ]
     },
     "execution_count": 23,
     "metadata": {},
     "output_type": "execute_result"
    }
   ],
   "source": [
    "exp"
   ]
  },
  {
   "cell_type": "code",
   "execution_count": 24,
   "id": "e2558ac6-9653-4f7c-99da-3f5fccda5bc2",
   "metadata": {},
   "outputs": [],
   "source": [
    "multi = 5*5*5*5*5"
   ]
  },
  {
   "cell_type": "code",
   "execution_count": 25,
   "id": "b4e28598-3377-46af-a578-b966d1930643",
   "metadata": {},
   "outputs": [
    {
     "data": {
      "text/plain": [
       "3125"
      ]
     },
     "execution_count": 25,
     "metadata": {},
     "output_type": "execute_result"
    }
   ],
   "source": [
    "multi"
   ]
  },
  {
   "cell_type": "code",
   "execution_count": 26,
   "id": "e2cb0490-729b-4235-a83d-8f3d9769958c",
   "metadata": {},
   "outputs": [],
   "source": [
    "# resto (mod)"
   ]
  },
  {
   "cell_type": "code",
   "execution_count": 27,
   "id": "a8d33fdc-7e2a-4d61-8371-9ca4fe8f672e",
   "metadata": {},
   "outputs": [],
   "source": [
    "mod = 5%2"
   ]
  },
  {
   "cell_type": "code",
   "execution_count": 28,
   "id": "d32a0cb6-0bb0-463d-a24d-d46a7876418d",
   "metadata": {},
   "outputs": [
    {
     "data": {
      "text/plain": [
       "1"
      ]
     },
     "execution_count": 28,
     "metadata": {},
     "output_type": "execute_result"
    }
   ],
   "source": [
    "mod"
   ]
  }
 ],
 "metadata": {
  "kernelspec": {
   "display_name": "Python 3 (ipykernel)",
   "language": "python",
   "name": "python3"
  },
  "language_info": {
   "codemirror_mode": {
    "name": "ipython",
    "version": 3
   },
   "file_extension": ".py",
   "mimetype": "text/x-python",
   "name": "python",
   "nbconvert_exporter": "python",
   "pygments_lexer": "ipython3",
   "version": "3.12.4"
  }
 },
 "nbformat": 4,
 "nbformat_minor": 5
}
