{
 "cells": [
  {
   "cell_type": "code",
   "execution_count": 1,
   "id": "c908c430-040e-41dd-89dd-96f4eac97c87",
   "metadata": {},
   "outputs": [],
   "source": [
    "# criando array unidimensional"
   ]
  },
  {
   "cell_type": "code",
   "execution_count": 2,
   "id": "c9734e42-17fd-42ba-a8fe-8c912f2f5c30",
   "metadata": {},
   "outputs": [],
   "source": [
    "import numpy as np"
   ]
  },
  {
   "cell_type": "code",
   "execution_count": 5,
   "id": "0506c6f1-8b73-4274-868d-227f14918819",
   "metadata": {},
   "outputs": [],
   "source": [
    "arr = np.arange(1,11,dtype=int)"
   ]
  },
  {
   "cell_type": "code",
   "execution_count": 7,
   "id": "ba5d1a07-aeeb-4070-ae7f-c769a5df043f",
   "metadata": {},
   "outputs": [
    {
     "data": {
      "text/plain": [
       "array([ 1,  2,  3,  4,  5,  6,  7,  8,  9, 10])"
      ]
     },
     "execution_count": 7,
     "metadata": {},
     "output_type": "execute_result"
    }
   ],
   "source": [
    "arr"
   ]
  },
  {
   "cell_type": "code",
   "execution_count": 8,
   "id": "e7bf808c-06e4-4e82-b6d8-8897d52f4077",
   "metadata": {},
   "outputs": [],
   "source": [
    "# indexação de arrays unidimensionais"
   ]
  },
  {
   "cell_type": "code",
   "execution_count": 10,
   "id": "828ac883-8d15-420e-a00b-be00a56f950f",
   "metadata": {},
   "outputs": [
    {
     "data": {
      "text/plain": [
       "5"
      ]
     },
     "execution_count": 10,
     "metadata": {},
     "output_type": "execute_result"
    }
   ],
   "source": [
    "arr[4]"
   ]
  },
  {
   "cell_type": "code",
   "execution_count": 15,
   "id": "31b6e008-d645-44bc-aa3e-2396d198223b",
   "metadata": {},
   "outputs": [
    {
     "data": {
      "text/plain": [
       "array([3, 4, 5])"
      ]
     },
     "execution_count": 15,
     "metadata": {},
     "output_type": "execute_result"
    }
   ],
   "source": [
    "arr[2:5]"
   ]
  },
  {
   "cell_type": "code",
   "execution_count": 18,
   "id": "c6ff6b64-2b30-4c9f-b917-52387c801bb2",
   "metadata": {},
   "outputs": [
    {
     "data": {
      "text/plain": [
       "array([1, 2, 3, 4, 5])"
      ]
     },
     "execution_count": 18,
     "metadata": {},
     "output_type": "execute_result"
    }
   ],
   "source": [
    "arr[:5]"
   ]
  },
  {
   "cell_type": "code",
   "execution_count": 20,
   "id": "0a605aa1-eeca-42a4-8ab0-52bbdcf8150c",
   "metadata": {},
   "outputs": [
    {
     "data": {
      "text/plain": [
       "array([ 4,  5,  6,  7,  8,  9, 10])"
      ]
     },
     "execution_count": 20,
     "metadata": {},
     "output_type": "execute_result"
    }
   ],
   "source": [
    "arr[3:]"
   ]
  },
  {
   "cell_type": "code",
   "execution_count": 21,
   "id": "bc097990-97df-433a-94f5-9f6f1d1ff1a3",
   "metadata": {},
   "outputs": [],
   "source": [
    "# indexação de arrays bidimensionais"
   ]
  },
  {
   "cell_type": "code",
   "execution_count": 23,
   "id": "a66be44d-8274-4907-b631-f24f4f8d8d49",
   "metadata": {},
   "outputs": [],
   "source": [
    "arr2 = np.random.randint(10,50,size=(4,4))"
   ]
  },
  {
   "cell_type": "code",
   "execution_count": 25,
   "id": "c83dba56-31ea-4184-af85-faf5036615c8",
   "metadata": {},
   "outputs": [
    {
     "data": {
      "text/plain": [
       "array([[45, 16, 46, 20],\n",
       "       [34, 23, 13, 44],\n",
       "       [45, 14, 38, 28],\n",
       "       [22, 15, 10, 21]])"
      ]
     },
     "execution_count": 25,
     "metadata": {},
     "output_type": "execute_result"
    }
   ],
   "source": [
    "arr2"
   ]
  },
  {
   "cell_type": "code",
   "execution_count": 27,
   "id": "c7e9f244-46b6-486d-9d87-63ee2ba74395",
   "metadata": {},
   "outputs": [
    {
     "data": {
      "text/plain": [
       "38"
      ]
     },
     "execution_count": 27,
     "metadata": {},
     "output_type": "execute_result"
    }
   ],
   "source": [
    "arr2[2][2]"
   ]
  },
  {
   "cell_type": "code",
   "execution_count": 30,
   "id": "2ab1b710-4c07-4c44-b9c9-b4c847dc5b3e",
   "metadata": {},
   "outputs": [
    {
     "data": {
      "text/plain": [
       "10"
      ]
     },
     "execution_count": 30,
     "metadata": {},
     "output_type": "execute_result"
    }
   ],
   "source": [
    "arr2[3][2]"
   ]
  },
  {
   "cell_type": "code",
   "execution_count": 32,
   "id": "140e3629-7e7b-4f39-a985-e500b5af7267",
   "metadata": {},
   "outputs": [],
   "source": [
    "# primeiro conta [linha] de cima para baixo, depois [coluna] da esquerda para direita"
   ]
  },
  {
   "cell_type": "code",
   "execution_count": 34,
   "id": "78754d5f-dada-4672-8221-23b0bc061365",
   "metadata": {},
   "outputs": [
    {
     "data": {
      "text/plain": [
       "21"
      ]
     },
     "execution_count": 34,
     "metadata": {},
     "output_type": "execute_result"
    }
   ],
   "source": [
    "arr2[3][3]"
   ]
  },
  {
   "cell_type": "code",
   "execution_count": 36,
   "id": "36b35ccf-855f-4e9e-aefb-b9998160ee46",
   "metadata": {},
   "outputs": [],
   "source": [
    "arr3 = np.random.randint(1,101,size=(10,10))"
   ]
  },
  {
   "cell_type": "code",
   "execution_count": 38,
   "id": "c1042a4e-1a78-4822-bee4-b0baab93f34d",
   "metadata": {},
   "outputs": [
    {
     "data": {
      "text/plain": [
       "array([[84, 72, 44, 44, 90, 63, 93, 24, 63, 20],\n",
       "       [65, 45, 13, 94, 88, 36, 68, 76, 96, 68],\n",
       "       [59,  7,  8, 70, 67, 80, 29, 65, 60, 47],\n",
       "       [67, 78, 91,  8, 33, 93, 40, 84, 10, 35],\n",
       "       [84, 81, 48,  3, 59, 52, 88, 86,  5, 29],\n",
       "       [48,  2, 15, 76, 62, 38, 58, 54, 26, 90],\n",
       "       [89, 86, 76, 54, 88,  3, 12, 44, 97,  8],\n",
       "       [86, 45, 70, 14, 48, 69, 70,  7, 44, 41],\n",
       "       [99,  4, 67, 79, 98, 48, 26, 36, 90, 89],\n",
       "       [79, 88, 28, 35, 52, 69, 76, 94, 28, 67]])"
      ]
     },
     "execution_count": 38,
     "metadata": {},
     "output_type": "execute_result"
    }
   ],
   "source": [
    "arr3"
   ]
  },
  {
   "cell_type": "code",
   "execution_count": 40,
   "id": "de7630e2-5654-44a1-b62e-68c45ef13de0",
   "metadata": {},
   "outputs": [
    {
     "data": {
      "text/plain": [
       "90"
      ]
     },
     "execution_count": 40,
     "metadata": {},
     "output_type": "execute_result"
    }
   ],
   "source": [
    "arr3[8][8]"
   ]
  },
  {
   "cell_type": "code",
   "execution_count": 42,
   "id": "df56c1ea-00d6-4c0e-9239-131960cd6a0d",
   "metadata": {},
   "outputs": [
    {
     "data": {
      "text/plain": [
       "29"
      ]
     },
     "execution_count": 42,
     "metadata": {},
     "output_type": "execute_result"
    }
   ],
   "source": [
    "arr3[2][6]"
   ]
  },
  {
   "cell_type": "code",
   "execution_count": 44,
   "id": "f1792e33-0d8a-4cde-9a30-b6758b57bb6b",
   "metadata": {},
   "outputs": [
    {
     "data": {
      "text/plain": [
       "76"
      ]
     },
     "execution_count": 44,
     "metadata": {},
     "output_type": "execute_result"
    }
   ],
   "source": [
    "arr3[5][3]"
   ]
  },
  {
   "cell_type": "code",
   "execution_count": 45,
   "id": "d35f79eb-fa8b-4ece-8269-36cf13d9b7b7",
   "metadata": {},
   "outputs": [],
   "source": [
    "# 24,63,20,76,96,68,65,60,47"
   ]
  },
  {
   "cell_type": "code",
   "execution_count": 48,
   "id": "dcde33f7-b48c-4c03-a6ca-500909ee6fe7",
   "metadata": {},
   "outputs": [
    {
     "data": {
      "text/plain": [
       "array([[24, 63, 20],\n",
       "       [76, 96, 68],\n",
       "       [65, 60, 47]])"
      ]
     },
     "execution_count": 48,
     "metadata": {},
     "output_type": "execute_result"
    }
   ],
   "source": [
    "arr3[:3, 7:]"
   ]
  },
  {
   "cell_type": "code",
   "execution_count": 49,
   "id": "f538cc67-490e-4431-8ba8-4381f80383a9",
   "metadata": {},
   "outputs": [],
   "source": [
    "# 9 33 93 3 59 52 "
   ]
  },
  {
   "cell_type": "code",
   "execution_count": 50,
   "id": "af23611a-ba23-4c26-a4ce-ac866c6142d8",
   "metadata": {},
   "outputs": [],
   "source": [
    "# col 3 4 5\n",
    "# 3 4"
   ]
  },
  {
   "cell_type": "code",
   "execution_count": 52,
   "id": "53f4f36c-778e-4a8b-918b-4ebc3c664e27",
   "metadata": {},
   "outputs": [
    {
     "data": {
      "text/plain": [
       "array([[ 8, 33, 93],\n",
       "       [ 3, 59, 52]])"
      ]
     },
     "execution_count": 52,
     "metadata": {},
     "output_type": "execute_result"
    }
   ],
   "source": [
    "arr3[3:5,3:6]"
   ]
  },
  {
   "cell_type": "code",
   "execution_count": 54,
   "id": "dfbd4803-e672-4133-9f00-80af93892881",
   "metadata": {},
   "outputs": [
    {
     "data": {
      "text/plain": [
       "array([[84, 72, 44, 44, 90, 63, 93, 24, 63, 20],\n",
       "       [65, 45, 13, 94, 88, 36, 68, 76, 96, 68],\n",
       "       [59,  7,  8, 70, 67, 80, 29, 65, 60, 47],\n",
       "       [67, 78, 91,  8, 33, 93, 40, 84, 10, 35],\n",
       "       [84, 81, 48,  3, 59, 52, 88, 86,  5, 29],\n",
       "       [48,  2, 15, 76, 62, 38, 58, 54, 26, 90],\n",
       "       [89, 86, 76, 54, 88,  3, 12, 44, 97,  8],\n",
       "       [86, 45, 70, 14, 48, 69, 70,  7, 44, 41],\n",
       "       [99,  4, 67, 79, 98, 48, 26, 36, 90, 89],\n",
       "       [79, 88, 28, 35, 52, 69, 76, 94, 28, 67]])"
      ]
     },
     "execution_count": 54,
     "metadata": {},
     "output_type": "execute_result"
    }
   ],
   "source": [
    "arr3"
   ]
  },
  {
   "cell_type": "code",
   "execution_count": 56,
   "id": "ab072863-7d45-48df-bf00-d86ee7741b1d",
   "metadata": {},
   "outputs": [
    {
     "data": {
      "text/plain": [
       "array([[67, 78, 91,  8, 33, 93, 40, 84, 10, 35],\n",
       "       [48,  2, 15, 76, 62, 38, 58, 54, 26, 90],\n",
       "       [86, 45, 70, 14, 48, 69, 70,  7, 44, 41]])"
      ]
     },
     "execution_count": 56,
     "metadata": {},
     "output_type": "execute_result"
    }
   ],
   "source": [
    "arr3[[3,5,7]]"
   ]
  }
 ],
 "metadata": {
  "kernelspec": {
   "display_name": "Python 3 (ipykernel)",
   "language": "python",
   "name": "python3"
  },
  "language_info": {
   "codemirror_mode": {
    "name": "ipython",
    "version": 3
   },
   "file_extension": ".py",
   "mimetype": "text/x-python",
   "name": "python",
   "nbconvert_exporter": "python",
   "pygments_lexer": "ipython3",
   "version": "3.12.4"
  }
 },
 "nbformat": 4,
 "nbformat_minor": 5
}
