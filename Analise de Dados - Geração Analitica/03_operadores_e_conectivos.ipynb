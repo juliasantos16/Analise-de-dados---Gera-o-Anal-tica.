{
 "cells": [
  {
   "cell_type": "code",
   "execution_count": 2,
   "id": "b586503b-9404-46b5-a594-0107ec4459df",
   "metadata": {},
   "outputs": [],
   "source": [
    "# maior "
   ]
  },
  {
   "cell_type": "code",
   "execution_count": 3,
   "id": "83c73a9d-d4ec-4bac-90a8-48451c59cb60",
   "metadata": {},
   "outputs": [],
   "source": [
    "a = 5>6"
   ]
  },
  {
   "cell_type": "code",
   "execution_count": 5,
   "id": "f75e5140-2be8-4393-8222-c19859ed038a",
   "metadata": {},
   "outputs": [
    {
     "data": {
      "text/plain": [
       "False"
      ]
     },
     "execution_count": 5,
     "metadata": {},
     "output_type": "execute_result"
    }
   ],
   "source": [
    "a"
   ]
  },
  {
   "cell_type": "code",
   "execution_count": 7,
   "id": "4c2b94e4-4698-47cf-8cb2-7b6a56c96a96",
   "metadata": {},
   "outputs": [],
   "source": [
    "a = 4<6"
   ]
  },
  {
   "cell_type": "code",
   "execution_count": 9,
   "id": "8e4ac5cf-f76a-4673-a7b5-62cc29b459f7",
   "metadata": {},
   "outputs": [
    {
     "data": {
      "text/plain": [
       "True"
      ]
     },
     "execution_count": 9,
     "metadata": {},
     "output_type": "execute_result"
    }
   ],
   "source": [
    "a"
   ]
  },
  {
   "cell_type": "code",
   "execution_count": 10,
   "id": "003cef5a-12ca-4306-80ba-8c7c8ab9643e",
   "metadata": {},
   "outputs": [],
   "source": [
    "# maior/menor ou igual "
   ]
  },
  {
   "cell_type": "code",
   "execution_count": 12,
   "id": "4770f3a0-729b-4479-a77a-2bb3837b3cf6",
   "metadata": {},
   "outputs": [
    {
     "data": {
      "text/plain": [
       "True"
      ]
     },
     "execution_count": 12,
     "metadata": {},
     "output_type": "execute_result"
    }
   ],
   "source": [
    "5>4"
   ]
  },
  {
   "cell_type": "code",
   "execution_count": 14,
   "id": "e8016ce1-2615-4b41-b653-60e3dfe141e2",
   "metadata": {},
   "outputs": [
    {
     "data": {
      "text/plain": [
       "True"
      ]
     },
     "execution_count": 14,
     "metadata": {},
     "output_type": "execute_result"
    }
   ],
   "source": [
    "6<7"
   ]
  },
  {
   "cell_type": "code",
   "execution_count": 16,
   "id": "973573c5-584f-4511-bfa0-c0022dc1014d",
   "metadata": {},
   "outputs": [
    {
     "data": {
      "text/plain": [
       "True"
      ]
     },
     "execution_count": 16,
     "metadata": {},
     "output_type": "execute_result"
    }
   ],
   "source": [
    "4<=6"
   ]
  },
  {
   "cell_type": "code",
   "execution_count": null,
   "id": "a978d178-65c1-4e03-9623-ed88786dcb91",
   "metadata": {},
   "outputs": [],
   "source": [
    "# igual"
   ]
  },
  {
   "cell_type": "code",
   "execution_count": 18,
   "id": "dacacdd7-4c96-42c6-9530-843d7cfaf818",
   "metadata": {},
   "outputs": [
    {
     "data": {
      "text/plain": [
       "True"
      ]
     },
     "execution_count": 18,
     "metadata": {},
     "output_type": "execute_result"
    }
   ],
   "source": [
    "4==4"
   ]
  },
  {
   "cell_type": "code",
   "execution_count": 20,
   "id": "9de561b8-0d74-4048-a96f-246a5434b96f",
   "metadata": {},
   "outputs": [
    {
     "data": {
      "text/plain": [
       "False"
      ]
     },
     "execution_count": 20,
     "metadata": {},
     "output_type": "execute_result"
    }
   ],
   "source": [
    "5==4"
   ]
  },
  {
   "cell_type": "code",
   "execution_count": 27,
   "id": "3cc6f35f-97a7-49f7-9465-acc4165c9fa3",
   "metadata": {},
   "outputs": [],
   "source": [
    "# diferente "
   ]
  },
  {
   "cell_type": "code",
   "execution_count": 29,
   "id": "dabbfd2a-dbda-4ca0-9221-95e56d81cbc5",
   "metadata": {},
   "outputs": [
    {
     "data": {
      "text/plain": [
       "True"
      ]
     },
     "execution_count": 29,
     "metadata": {},
     "output_type": "execute_result"
    }
   ],
   "source": [
    "4!=5"
   ]
  },
  {
   "cell_type": "code",
   "execution_count": 31,
   "id": "83b1ad14-f509-495d-b04d-588fc5e42e96",
   "metadata": {},
   "outputs": [
    {
     "data": {
      "text/plain": [
       "False"
      ]
     },
     "execution_count": 31,
     "metadata": {},
     "output_type": "execute_result"
    }
   ],
   "source": [
    "4!=4"
   ]
  },
  {
   "cell_type": "code",
   "execution_count": 32,
   "id": "bfcdb7fc-8062-427d-8758-6377beb7748d",
   "metadata": {},
   "outputs": [],
   "source": [
    "# Conectivos "
   ]
  },
  {
   "cell_type": "markdown",
   "id": "451be6b7-372b-4c34-b050-ac268bd867ff",
   "metadata": {},
   "source": [
    "and, or e not"
   ]
  },
  {
   "cell_type": "code",
   "execution_count": 36,
   "id": "df1d4484-312a-446e-b562-c45881ffeab3",
   "metadata": {},
   "outputs": [],
   "source": [
    "a =4<5 and 4<6 "
   ]
  },
  {
   "cell_type": "code",
   "execution_count": 35,
   "id": "94552c8a-194a-48b5-b506-dfdd3119552c",
   "metadata": {},
   "outputs": [
    {
     "data": {
      "text/plain": [
       "True"
      ]
     },
     "execution_count": 35,
     "metadata": {},
     "output_type": "execute_result"
    }
   ],
   "source": [
    "a"
   ]
  },
  {
   "cell_type": "code",
   "execution_count": 37,
   "id": "c9c48aa7-ffa0-47ef-a073-325ba9c8fcff",
   "metadata": {},
   "outputs": [],
   "source": [
    "b = 4>3 and 4>5"
   ]
  },
  {
   "cell_type": "code",
   "execution_count": 38,
   "id": "d7f5bdf3-ab63-491a-ac2c-fbcb2d3b3a64",
   "metadata": {},
   "outputs": [
    {
     "data": {
      "text/plain": [
       "False"
      ]
     },
     "execution_count": 38,
     "metadata": {},
     "output_type": "execute_result"
    }
   ],
   "source": [
    "b"
   ]
  },
  {
   "cell_type": "code",
   "execution_count": 39,
   "id": "5a0eeb90-7a90-4c81-bf60-a299a5a7d531",
   "metadata": {},
   "outputs": [],
   "source": [
    "b = not 4<5"
   ]
  },
  {
   "cell_type": "code",
   "execution_count": 40,
   "id": "fed056f7-70ed-4dd9-a128-faffec02c842",
   "metadata": {},
   "outputs": [
    {
     "data": {
      "text/plain": [
       "False"
      ]
     },
     "execution_count": 40,
     "metadata": {},
     "output_type": "execute_result"
    }
   ],
   "source": [
    "b"
   ]
  },
  {
   "cell_type": "code",
   "execution_count": 41,
   "id": "1bcf79c0-2b2d-4c8d-87c8-2b64547c9987",
   "metadata": {},
   "outputs": [],
   "source": [
    "b = not 7>3"
   ]
  },
  {
   "cell_type": "code",
   "execution_count": 42,
   "id": "09bd5a65-2aae-4007-be6e-22c3d03b9a2d",
   "metadata": {},
   "outputs": [
    {
     "data": {
      "text/plain": [
       "False"
      ]
     },
     "execution_count": 42,
     "metadata": {},
     "output_type": "execute_result"
    }
   ],
   "source": [
    "b"
   ]
  },
  {
   "cell_type": "code",
   "execution_count": 43,
   "id": "c885c062-2168-4c82-bc4d-4447542118e5",
   "metadata": {},
   "outputs": [],
   "source": [
    "b = not 5>6"
   ]
  },
  {
   "cell_type": "code",
   "execution_count": 44,
   "id": "d851d1fa-c653-4044-a473-682ffa520e5d",
   "metadata": {},
   "outputs": [
    {
     "data": {
      "text/plain": [
       "True"
      ]
     },
     "execution_count": 44,
     "metadata": {},
     "output_type": "execute_result"
    }
   ],
   "source": [
    "b"
   ]
  }
 ],
 "metadata": {
  "kernelspec": {
   "display_name": "Python 3 (ipykernel)",
   "language": "python",
   "name": "python3"
  },
  "language_info": {
   "codemirror_mode": {
    "name": "ipython",
    "version": 3
   },
   "file_extension": ".py",
   "mimetype": "text/x-python",
   "name": "python",
   "nbconvert_exporter": "python",
   "pygments_lexer": "ipython3",
   "version": "3.12.4"
  }
 },
 "nbformat": 4,
 "nbformat_minor": 5
}
