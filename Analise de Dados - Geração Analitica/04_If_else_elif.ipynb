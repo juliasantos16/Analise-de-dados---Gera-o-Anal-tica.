{
 "cells": [
  {
   "cell_type": "code",
   "execution_count": 3,
   "id": "58e4ff5d-7e30-48fd-b877-be609262cd86",
   "metadata": {},
   "outputs": [],
   "source": [
    "# if, else e elif"
   ]
  },
  {
   "cell_type": "code",
   "execution_count": 4,
   "id": "204080e6-1eac-4d27-b8dc-b3f13400a3fe",
   "metadata": {},
   "outputs": [],
   "source": [
    "idade_joao = 19\n",
    "idade_maria = 20"
   ]
  },
  {
   "cell_type": "code",
   "execution_count": 6,
   "id": "85a65c24-9a4b-45f8-9a80-071ba430cb62",
   "metadata": {},
   "outputs": [
    {
     "name": "stdout",
     "output_type": "stream",
     "text": [
      "maria é mais velha\n"
     ]
    }
   ],
   "source": [
    "if (idade_joao>idade_maria):\n",
    "    print('joao é mais velho que maria')\n",
    "else:\n",
    "    print('maria é mais velha')"
   ]
  },
  {
   "cell_type": "code",
   "execution_count": 8,
   "id": "5c0ab340-118c-4a21-ac06-eb38686141aa",
   "metadata": {},
   "outputs": [],
   "source": [
    "idade_pedro = 23\n",
    "idade_joao = 19\n",
    "idade_maria = 20"
   ]
  },
  {
   "cell_type": "code",
   "execution_count": 14,
   "id": "bda4a4c0-2860-4dce-8086-ccca828a5a26",
   "metadata": {},
   "outputs": [
    {
     "name": "stdout",
     "output_type": "stream",
     "text": [
      "joao é o mais velho\n"
     ]
    }
   ],
   "source": [
    "if idade_joao > idade_maria and idade_joao > idade_pedro:\n",
    "    print('joao é o mais velho')\n",
    "elif idade_maria > idade_joao and idade_maria > idade_pedro: \n",
    "    print('maria é a mais velha')\n",
    "else:\n",
    "    print('pedro é o mais velho')"
   ]
  },
  {
   "cell_type": "code",
   "execution_count": 15,
   "id": "1b7dc3e8-1679-4f95-9590-1adf13c372d4",
   "metadata": {},
   "outputs": [],
   "source": [
    "# criança, adolescente, adulto e idoso"
   ]
  },
  {
   "cell_type": "code",
   "execution_count": 28,
   "id": "b4ebe95b-105c-44c5-8ce8-7eec3f8cb50f",
   "metadata": {},
   "outputs": [],
   "source": [
    "idade = 15"
   ]
  },
  {
   "cell_type": "code",
   "execution_count": 29,
   "id": "4439f0c3-0ada-47f6-820e-61a2b7ab88f9",
   "metadata": {},
   "outputs": [
    {
     "name": "stdout",
     "output_type": "stream",
     "text": [
      "adolescente\n"
     ]
    }
   ],
   "source": [
    "if idade <= 13:\n",
    "    print('criança')\n",
    "elif idade >= 14 and idade <18:\n",
    "    print('adolescente')\n",
    "elif idade >= 18 and idade < 60:\n",
    "    print('adulto')\n",
    "else:\n",
    "    print('idoso')"
   ]
  }
 ],
 "metadata": {
  "kernelspec": {
   "display_name": "Python 3 (ipykernel)",
   "language": "python",
   "name": "python3"
  },
  "language_info": {
   "codemirror_mode": {
    "name": "ipython",
    "version": 3
   },
   "file_extension": ".py",
   "mimetype": "text/x-python",
   "name": "python",
   "nbconvert_exporter": "python",
   "pygments_lexer": "ipython3",
   "version": "3.12.4"
  }
 },
 "nbformat": 4,
 "nbformat_minor": 5
}
